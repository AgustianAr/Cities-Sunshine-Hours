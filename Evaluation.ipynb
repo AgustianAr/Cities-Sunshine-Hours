{
  "nbformat": 4,
  "nbformat_minor": 0,
  "metadata": {
    "colab": {
      "provenance": [],
      "toc_visible": true,
      "authorship_tag": "ABX9TyOG+aSx2YhTWU/cesddDfGZ",
      "include_colab_link": true
    },
    "kernelspec": {
      "name": "python3",
      "display_name": "Python 3"
    },
    "language_info": {
      "name": "python"
    }
  },
  "cells": [
    {
      "cell_type": "markdown",
      "metadata": {
        "id": "view-in-github",
        "colab_type": "text"
      },
      "source": [
        "<a href=\"https://colab.research.google.com/github/AgustianAr/Cities-Sunshine-Hours/blob/main/Evaluation.ipynb\" target=\"_parent\"><img src=\"https://colab.research.google.com/assets/colab-badge.svg\" alt=\"Open In Colab\"/></a>"
      ]
    },
    {
      "cell_type": "markdown",
      "source": [
        "#**Analisis Durasi Matahari Terbit Kota-Kota di Dunia**\n"
      ],
      "metadata": {
        "id": "CKhq8bo9gZkZ"
      }
    },
    {
      "cell_type": "markdown",
      "source": [
        "#**Business Understanding**\n"
      ],
      "metadata": {
        "id": "i97QspaYFRuL"
      }
    },
    {
      "cell_type": "markdown",
      "source": [
        "##**Business Objective**"
      ],
      "metadata": {
        "id": "VR1qnfj47JBj"
      }
    },
    {
      "cell_type": "markdown",
      "source": [
        "Dataset ini bertujuan untuk mengidentifikasi bagaimana perbedaan Durasi Matahari terbit antara kota-kota yang ada di dunia. Dengan Menganalisis perbedaan durasi matahari terbit tersebut, dapat diidentifikasi peluang dan tantangan yang dapat muncul dalam berbagai aspek-aspek yang ada."
      ],
      "metadata": {
        "id": "yE2j2vvpFdPJ"
      }
    },
    {
      "cell_type": "markdown",
      "source": [
        "##**Assess Situation**\n"
      ],
      "metadata": {
        "id": "SMlKHWYSquhM"
      }
    },
    {
      "cell_type": "markdown",
      "source": [
        "Analisis ini didasari oleh perbedaan Matahari Terbit yang dapat terjadi secara drastis antar kota - kota di Dunia dan bagaimana hal tersebut mempengaruhi gaya hidup penduduk di kota tersebut"
      ],
      "metadata": {
        "id": "LqjyTDZPq7k1"
      }
    },
    {
      "cell_type": "markdown",
      "source": [
        "##**Data Mining Goals**"
      ],
      "metadata": {
        "id": "XZGLOy1asQJ5"
      }
    },
    {
      "cell_type": "markdown",
      "source": [
        "Tujuan dari Data Mining pada Dataset ini adalah untuk mencari perbedaan waktu Durasi Matahari terbit yang terdapat di antara kota-kota di dunia dan apa saja faktor-faktor yang mempengaruhi atau menjadi penyebab dari perbedaan Durasi Matahari Terbit pada kota-kota di Dunia. Serta Bagaimana hal tersebut dapat mempengaruhi bagaimana kehidupan penduduk kota tersebut"
      ],
      "metadata": {
        "id": "Y0A3BATCsW8a"
      }
    },
    {
      "cell_type": "markdown",
      "source": [
        "##**Project Plan**"
      ],
      "metadata": {
        "id": "li90iceDhL4v"
      }
    },
    {
      "cell_type": "markdown",
      "source": [
        "Rencana Proyek untuk melakukan analisis pada dataset ini akan dimulai dengan melakukan pengumpulan data-data yang tersedia. Lalu mengidentifikasi pola-pola dan masalah untuk diatasi yang terdapat pada data. Selanjutnya, Data akan dianalisis secara lebih lanjut untuk menarik kesimpulan dan Insight dari Data-Data yang telah dianalisis."
      ],
      "metadata": {
        "id": "G8zYlgIwhPtW"
      }
    },
    {
      "cell_type": "markdown",
      "source": [
        "#**Data Understanding**"
      ],
      "metadata": {
        "id": "X5EGl2C67iJ3"
      }
    },
    {
      "cell_type": "markdown",
      "source": [
        "##**Collect Initial Data**"
      ],
      "metadata": {
        "id": "z16ljO7n7n_3"
      }
    },
    {
      "cell_type": "markdown",
      "source": [
        "Dataset yang digunakan di sini bersumber dari platform komunitas Kaggle(https://www.kaggle.com/)\n",
        "\n",
        "\n"
      ],
      "metadata": {
        "id": "OCPTmnGXbMI2"
      }
    },
    {
      "cell_type": "markdown",
      "source": [
        "Link Sumber :     \n",
        "https://www.kaggle.com/datasets/prasertk/sunshine-duration-by-city"
      ],
      "metadata": {
        "id": "NzyAMhkLdKDQ"
      }
    },
    {
      "cell_type": "code",
      "source": [
        "import pandas as pd\n",
        "import seaborn as sns\n",
        "import matplotlib.pyplot as plt\n",
        "import plotly.express as px\n",
        "import numpy as np\n"
      ],
      "metadata": {
        "id": "sTVAIyJb_UVC"
      },
      "execution_count": null,
      "outputs": []
    },
    {
      "cell_type": "code",
      "source": [
        "url = 'https://raw.githubusercontent.com/AgustianAr/Cities-Sunshine-Hours/main/sunshine%20hours%20by%20city.xls'\n",
        "df = pd.read_csv(url)\n",
        "df.head()\n"
      ],
      "metadata": {
        "colab": {
          "base_uri": "https://localhost:8080/",
          "height": 226
        },
        "id": "NaVs1W_G-nLZ",
        "outputId": "21be4353-2635-49a2-b7b8-0e4483b0f68d"
      },
      "execution_count": null,
      "outputs": [
        {
          "output_type": "execute_result",
          "data": {
            "text/plain": [
              "       Country         City    Jan    Feb    Mar    Apr    May    Jun    Jul  \\\n",
              "0  Afghanistan        Kabul  177.2  178.6  204.5  232.5  310.3  353.4  356.8   \n",
              "1      Albania       Tirana  124.0  125.0  165.0  191.0  263.0  298.0  354.0   \n",
              "2      Algeria      Algiers  149.0  165.0  202.0  258.0  319.0  318.0  350.0   \n",
              "3      Algeria  Tamanrasset  297.6  275.5  322.4  327.0  328.6  306.0  356.5   \n",
              "4       Angola       Luanda  219.0  208.0  213.0  199.0  233.0  223.0  175.0   \n",
              "\n",
              "     Aug    Sep    Oct    Nov    Dec    Year  \n",
              "0  339.7  303.9  282.6  253.2  182.4  3175.1  \n",
              "1  327.0  264.0  218.0  127.0   88.0  2544.0  \n",
              "2  319.0  237.0  229.0  165.0  136.0  2847.0  \n",
              "3  331.7  288.0  310.0  285.0  272.8  3686.0  \n",
              "4  150.0  145.0  164.0  199.0  212.0  2341.0  "
            ],
            "text/html": [
              "\n",
              "  <div id=\"df-c06dcbdc-9645-4a1e-bba5-9fa9ccbba648\" class=\"colab-df-container\">\n",
              "    <div>\n",
              "<style scoped>\n",
              "    .dataframe tbody tr th:only-of-type {\n",
              "        vertical-align: middle;\n",
              "    }\n",
              "\n",
              "    .dataframe tbody tr th {\n",
              "        vertical-align: top;\n",
              "    }\n",
              "\n",
              "    .dataframe thead th {\n",
              "        text-align: right;\n",
              "    }\n",
              "</style>\n",
              "<table border=\"1\" class=\"dataframe\">\n",
              "  <thead>\n",
              "    <tr style=\"text-align: right;\">\n",
              "      <th></th>\n",
              "      <th>Country</th>\n",
              "      <th>City</th>\n",
              "      <th>Jan</th>\n",
              "      <th>Feb</th>\n",
              "      <th>Mar</th>\n",
              "      <th>Apr</th>\n",
              "      <th>May</th>\n",
              "      <th>Jun</th>\n",
              "      <th>Jul</th>\n",
              "      <th>Aug</th>\n",
              "      <th>Sep</th>\n",
              "      <th>Oct</th>\n",
              "      <th>Nov</th>\n",
              "      <th>Dec</th>\n",
              "      <th>Year</th>\n",
              "    </tr>\n",
              "  </thead>\n",
              "  <tbody>\n",
              "    <tr>\n",
              "      <th>0</th>\n",
              "      <td>Afghanistan</td>\n",
              "      <td>Kabul</td>\n",
              "      <td>177.2</td>\n",
              "      <td>178.6</td>\n",
              "      <td>204.5</td>\n",
              "      <td>232.5</td>\n",
              "      <td>310.3</td>\n",
              "      <td>353.4</td>\n",
              "      <td>356.8</td>\n",
              "      <td>339.7</td>\n",
              "      <td>303.9</td>\n",
              "      <td>282.6</td>\n",
              "      <td>253.2</td>\n",
              "      <td>182.4</td>\n",
              "      <td>3175.1</td>\n",
              "    </tr>\n",
              "    <tr>\n",
              "      <th>1</th>\n",
              "      <td>Albania</td>\n",
              "      <td>Tirana</td>\n",
              "      <td>124.0</td>\n",
              "      <td>125.0</td>\n",
              "      <td>165.0</td>\n",
              "      <td>191.0</td>\n",
              "      <td>263.0</td>\n",
              "      <td>298.0</td>\n",
              "      <td>354.0</td>\n",
              "      <td>327.0</td>\n",
              "      <td>264.0</td>\n",
              "      <td>218.0</td>\n",
              "      <td>127.0</td>\n",
              "      <td>88.0</td>\n",
              "      <td>2544.0</td>\n",
              "    </tr>\n",
              "    <tr>\n",
              "      <th>2</th>\n",
              "      <td>Algeria</td>\n",
              "      <td>Algiers</td>\n",
              "      <td>149.0</td>\n",
              "      <td>165.0</td>\n",
              "      <td>202.0</td>\n",
              "      <td>258.0</td>\n",
              "      <td>319.0</td>\n",
              "      <td>318.0</td>\n",
              "      <td>350.0</td>\n",
              "      <td>319.0</td>\n",
              "      <td>237.0</td>\n",
              "      <td>229.0</td>\n",
              "      <td>165.0</td>\n",
              "      <td>136.0</td>\n",
              "      <td>2847.0</td>\n",
              "    </tr>\n",
              "    <tr>\n",
              "      <th>3</th>\n",
              "      <td>Algeria</td>\n",
              "      <td>Tamanrasset</td>\n",
              "      <td>297.6</td>\n",
              "      <td>275.5</td>\n",
              "      <td>322.4</td>\n",
              "      <td>327.0</td>\n",
              "      <td>328.6</td>\n",
              "      <td>306.0</td>\n",
              "      <td>356.5</td>\n",
              "      <td>331.7</td>\n",
              "      <td>288.0</td>\n",
              "      <td>310.0</td>\n",
              "      <td>285.0</td>\n",
              "      <td>272.8</td>\n",
              "      <td>3686.0</td>\n",
              "    </tr>\n",
              "    <tr>\n",
              "      <th>4</th>\n",
              "      <td>Angola</td>\n",
              "      <td>Luanda</td>\n",
              "      <td>219.0</td>\n",
              "      <td>208.0</td>\n",
              "      <td>213.0</td>\n",
              "      <td>199.0</td>\n",
              "      <td>233.0</td>\n",
              "      <td>223.0</td>\n",
              "      <td>175.0</td>\n",
              "      <td>150.0</td>\n",
              "      <td>145.0</td>\n",
              "      <td>164.0</td>\n",
              "      <td>199.0</td>\n",
              "      <td>212.0</td>\n",
              "      <td>2341.0</td>\n",
              "    </tr>\n",
              "  </tbody>\n",
              "</table>\n",
              "</div>\n",
              "    <div class=\"colab-df-buttons\">\n",
              "\n",
              "  <div class=\"colab-df-container\">\n",
              "    <button class=\"colab-df-convert\" onclick=\"convertToInteractive('df-c06dcbdc-9645-4a1e-bba5-9fa9ccbba648')\"\n",
              "            title=\"Convert this dataframe to an interactive table.\"\n",
              "            style=\"display:none;\">\n",
              "\n",
              "  <svg xmlns=\"http://www.w3.org/2000/svg\" height=\"24px\" viewBox=\"0 -960 960 960\">\n",
              "    <path d=\"M120-120v-720h720v720H120Zm60-500h600v-160H180v160Zm220 220h160v-160H400v160Zm0 220h160v-160H400v160ZM180-400h160v-160H180v160Zm440 0h160v-160H620v160ZM180-180h160v-160H180v160Zm440 0h160v-160H620v160Z\"/>\n",
              "  </svg>\n",
              "    </button>\n",
              "\n",
              "  <style>\n",
              "    .colab-df-container {\n",
              "      display:flex;\n",
              "      gap: 12px;\n",
              "    }\n",
              "\n",
              "    .colab-df-convert {\n",
              "      background-color: #E8F0FE;\n",
              "      border: none;\n",
              "      border-radius: 50%;\n",
              "      cursor: pointer;\n",
              "      display: none;\n",
              "      fill: #1967D2;\n",
              "      height: 32px;\n",
              "      padding: 0 0 0 0;\n",
              "      width: 32px;\n",
              "    }\n",
              "\n",
              "    .colab-df-convert:hover {\n",
              "      background-color: #E2EBFA;\n",
              "      box-shadow: 0px 1px 2px rgba(60, 64, 67, 0.3), 0px 1px 3px 1px rgba(60, 64, 67, 0.15);\n",
              "      fill: #174EA6;\n",
              "    }\n",
              "\n",
              "    .colab-df-buttons div {\n",
              "      margin-bottom: 4px;\n",
              "    }\n",
              "\n",
              "    [theme=dark] .colab-df-convert {\n",
              "      background-color: #3B4455;\n",
              "      fill: #D2E3FC;\n",
              "    }\n",
              "\n",
              "    [theme=dark] .colab-df-convert:hover {\n",
              "      background-color: #434B5C;\n",
              "      box-shadow: 0px 1px 3px 1px rgba(0, 0, 0, 0.15);\n",
              "      filter: drop-shadow(0px 1px 2px rgba(0, 0, 0, 0.3));\n",
              "      fill: #FFFFFF;\n",
              "    }\n",
              "  </style>\n",
              "\n",
              "    <script>\n",
              "      const buttonEl =\n",
              "        document.querySelector('#df-c06dcbdc-9645-4a1e-bba5-9fa9ccbba648 button.colab-df-convert');\n",
              "      buttonEl.style.display =\n",
              "        google.colab.kernel.accessAllowed ? 'block' : 'none';\n",
              "\n",
              "      async function convertToInteractive(key) {\n",
              "        const element = document.querySelector('#df-c06dcbdc-9645-4a1e-bba5-9fa9ccbba648');\n",
              "        const dataTable =\n",
              "          await google.colab.kernel.invokeFunction('convertToInteractive',\n",
              "                                                    [key], {});\n",
              "        if (!dataTable) return;\n",
              "\n",
              "        const docLinkHtml = 'Like what you see? Visit the ' +\n",
              "          '<a target=\"_blank\" href=https://colab.research.google.com/notebooks/data_table.ipynb>data table notebook</a>'\n",
              "          + ' to learn more about interactive tables.';\n",
              "        element.innerHTML = '';\n",
              "        dataTable['output_type'] = 'display_data';\n",
              "        await google.colab.output.renderOutput(dataTable, element);\n",
              "        const docLink = document.createElement('div');\n",
              "        docLink.innerHTML = docLinkHtml;\n",
              "        element.appendChild(docLink);\n",
              "      }\n",
              "    </script>\n",
              "  </div>\n",
              "\n",
              "\n",
              "<div id=\"df-fd12de24-07c4-4084-9fa2-e9396fcbf222\">\n",
              "  <button class=\"colab-df-quickchart\" onclick=\"quickchart('df-fd12de24-07c4-4084-9fa2-e9396fcbf222')\"\n",
              "            title=\"Suggest charts\"\n",
              "            style=\"display:none;\">\n",
              "\n",
              "<svg xmlns=\"http://www.w3.org/2000/svg\" height=\"24px\"viewBox=\"0 0 24 24\"\n",
              "     width=\"24px\">\n",
              "    <g>\n",
              "        <path d=\"M19 3H5c-1.1 0-2 .9-2 2v14c0 1.1.9 2 2 2h14c1.1 0 2-.9 2-2V5c0-1.1-.9-2-2-2zM9 17H7v-7h2v7zm4 0h-2V7h2v10zm4 0h-2v-4h2v4z\"/>\n",
              "    </g>\n",
              "</svg>\n",
              "  </button>\n",
              "\n",
              "<style>\n",
              "  .colab-df-quickchart {\n",
              "      --bg-color: #E8F0FE;\n",
              "      --fill-color: #1967D2;\n",
              "      --hover-bg-color: #E2EBFA;\n",
              "      --hover-fill-color: #174EA6;\n",
              "      --disabled-fill-color: #AAA;\n",
              "      --disabled-bg-color: #DDD;\n",
              "  }\n",
              "\n",
              "  [theme=dark] .colab-df-quickchart {\n",
              "      --bg-color: #3B4455;\n",
              "      --fill-color: #D2E3FC;\n",
              "      --hover-bg-color: #434B5C;\n",
              "      --hover-fill-color: #FFFFFF;\n",
              "      --disabled-bg-color: #3B4455;\n",
              "      --disabled-fill-color: #666;\n",
              "  }\n",
              "\n",
              "  .colab-df-quickchart {\n",
              "    background-color: var(--bg-color);\n",
              "    border: none;\n",
              "    border-radius: 50%;\n",
              "    cursor: pointer;\n",
              "    display: none;\n",
              "    fill: var(--fill-color);\n",
              "    height: 32px;\n",
              "    padding: 0;\n",
              "    width: 32px;\n",
              "  }\n",
              "\n",
              "  .colab-df-quickchart:hover {\n",
              "    background-color: var(--hover-bg-color);\n",
              "    box-shadow: 0 1px 2px rgba(60, 64, 67, 0.3), 0 1px 3px 1px rgba(60, 64, 67, 0.15);\n",
              "    fill: var(--button-hover-fill-color);\n",
              "  }\n",
              "\n",
              "  .colab-df-quickchart-complete:disabled,\n",
              "  .colab-df-quickchart-complete:disabled:hover {\n",
              "    background-color: var(--disabled-bg-color);\n",
              "    fill: var(--disabled-fill-color);\n",
              "    box-shadow: none;\n",
              "  }\n",
              "\n",
              "  .colab-df-spinner {\n",
              "    border: 2px solid var(--fill-color);\n",
              "    border-color: transparent;\n",
              "    border-bottom-color: var(--fill-color);\n",
              "    animation:\n",
              "      spin 1s steps(1) infinite;\n",
              "  }\n",
              "\n",
              "  @keyframes spin {\n",
              "    0% {\n",
              "      border-color: transparent;\n",
              "      border-bottom-color: var(--fill-color);\n",
              "      border-left-color: var(--fill-color);\n",
              "    }\n",
              "    20% {\n",
              "      border-color: transparent;\n",
              "      border-left-color: var(--fill-color);\n",
              "      border-top-color: var(--fill-color);\n",
              "    }\n",
              "    30% {\n",
              "      border-color: transparent;\n",
              "      border-left-color: var(--fill-color);\n",
              "      border-top-color: var(--fill-color);\n",
              "      border-right-color: var(--fill-color);\n",
              "    }\n",
              "    40% {\n",
              "      border-color: transparent;\n",
              "      border-right-color: var(--fill-color);\n",
              "      border-top-color: var(--fill-color);\n",
              "    }\n",
              "    60% {\n",
              "      border-color: transparent;\n",
              "      border-right-color: var(--fill-color);\n",
              "    }\n",
              "    80% {\n",
              "      border-color: transparent;\n",
              "      border-right-color: var(--fill-color);\n",
              "      border-bottom-color: var(--fill-color);\n",
              "    }\n",
              "    90% {\n",
              "      border-color: transparent;\n",
              "      border-bottom-color: var(--fill-color);\n",
              "    }\n",
              "  }\n",
              "</style>\n",
              "\n",
              "  <script>\n",
              "    async function quickchart(key) {\n",
              "      const quickchartButtonEl =\n",
              "        document.querySelector('#' + key + ' button');\n",
              "      quickchartButtonEl.disabled = true;  // To prevent multiple clicks.\n",
              "      quickchartButtonEl.classList.add('colab-df-spinner');\n",
              "      try {\n",
              "        const charts = await google.colab.kernel.invokeFunction(\n",
              "            'suggestCharts', [key], {});\n",
              "      } catch (error) {\n",
              "        console.error('Error during call to suggestCharts:', error);\n",
              "      }\n",
              "      quickchartButtonEl.classList.remove('colab-df-spinner');\n",
              "      quickchartButtonEl.classList.add('colab-df-quickchart-complete');\n",
              "    }\n",
              "    (() => {\n",
              "      let quickchartButtonEl =\n",
              "        document.querySelector('#df-fd12de24-07c4-4084-9fa2-e9396fcbf222 button');\n",
              "      quickchartButtonEl.style.display =\n",
              "        google.colab.kernel.accessAllowed ? 'block' : 'none';\n",
              "    })();\n",
              "  </script>\n",
              "</div>\n",
              "    </div>\n",
              "  </div>\n"
            ],
            "application/vnd.google.colaboratory.intrinsic+json": {
              "type": "dataframe",
              "variable_name": "df",
              "summary": "{\n  \"name\": \"df\",\n  \"rows\": 382,\n  \"fields\": [\n    {\n      \"column\": \"Country\",\n      \"properties\": {\n        \"dtype\": \"category\",\n        \"num_unique_values\": 140,\n        \"samples\": [\n          \"Saudi Arabia\",\n          \"Japan\",\n          \"Democratic Republic of the Congo\"\n        ],\n        \"semantic_type\": \"\",\n        \"description\": \"\"\n      }\n    },\n    {\n      \"column\": \"City\",\n      \"properties\": {\n        \"dtype\": \"string\",\n        \"num_unique_values\": 381,\n        \"samples\": [\n          \"Mogadishu\",\n          \"Karonga\",\n          \"Ouagadougou\"\n        ],\n        \"semantic_type\": \"\",\n        \"description\": \"\"\n      }\n    },\n    {\n      \"column\": \"Jan\",\n      \"properties\": {\n        \"dtype\": \"number\",\n        \"std\": 81.29503355004356,\n        \"min\": 0.0,\n        \"max\": 362.7,\n        \"num_unique_values\": 297,\n        \"samples\": [\n          267.0,\n          290.0,\n          341.0\n        ],\n        \"semantic_type\": \"\",\n        \"description\": \"\"\n      }\n    },\n    {\n      \"column\": \"Feb\",\n      \"properties\": {\n        \"dtype\": \"number\",\n        \"std\": 64.7801762092122,\n        \"min\": 22.6,\n        \"max\": 314.9,\n        \"num_unique_values\": 308,\n        \"samples\": [\n          179.7,\n          150.4,\n          105.5\n        ],\n        \"semantic_type\": \"\",\n        \"description\": \"\"\n      }\n    },\n    {\n      \"column\": \"Mar\",\n      \"properties\": {\n        \"dtype\": \"number\",\n        \"std\": 58.25443692756522,\n        \"min\": 47.0,\n        \"max\": 335.5,\n        \"num_unique_values\": 280,\n        \"samples\": [\n          166.5,\n          215.0,\n          192.5\n        ],\n        \"semantic_type\": \"\",\n        \"description\": \"\"\n      }\n    },\n    {\n      \"column\": \"Apr\",\n      \"properties\": {\n        \"dtype\": \"number\",\n        \"std\": 52.889870549878665,\n        \"min\": 65.1,\n        \"max\": 365.5,\n        \"num_unique_values\": 253,\n        \"samples\": [\n          281.4,\n          189.0,\n          210.0\n        ],\n        \"semantic_type\": \"\",\n        \"description\": \"\"\n      }\n    },\n    {\n      \"column\": \"May\",\n      \"properties\": {\n        \"dtype\": \"number\",\n        \"std\": 61.859094726232776,\n        \"min\": 68.2,\n        \"max\": 407.4,\n        \"num_unique_values\": 277,\n        \"samples\": [\n          316.0,\n          296.2,\n          261.0\n        ],\n        \"semantic_type\": \"\",\n        \"description\": \"\"\n      }\n    },\n    {\n      \"column\": \"Jun\",\n      \"properties\": {\n        \"dtype\": \"number\",\n        \"std\": 73.69578972965581,\n        \"min\": 45.0,\n        \"max\": 419.5,\n        \"num_unique_values\": 281,\n        \"samples\": [\n          186.8,\n          303.0,\n          320.6\n        ],\n        \"semantic_type\": \"\",\n        \"description\": \"\"\n      }\n    },\n    {\n      \"column\": \"Jul\",\n      \"properties\": {\n        \"dtype\": \"number\",\n        \"std\": 81.42809504742567,\n        \"min\": 28.6,\n        \"max\": 440.2,\n        \"num_unique_values\": 312,\n        \"samples\": [\n          289.0,\n          173.6,\n          289.8\n        ],\n        \"semantic_type\": \"\",\n        \"description\": \"\"\n      }\n    },\n    {\n      \"column\": \"Aug\",\n      \"properties\": {\n        \"dtype\": \"number\",\n        \"std\": 73.56870267681329,\n        \"min\": 32.3,\n        \"max\": 406.9,\n        \"num_unique_values\": 290,\n        \"samples\": [\n          105.0,\n          349.5,\n          187.2\n        ],\n        \"semantic_type\": \"\",\n        \"description\": \"\"\n      }\n    },\n    {\n      \"column\": \"Sep\",\n      \"properties\": {\n        \"dtype\": \"number\",\n        \"std\": 62.72157678035103,\n        \"min\": 37.3,\n        \"max\": 347.8,\n        \"num_unique_values\": 266,\n        \"samples\": [\n          132.0,\n          276.0,\n          144.1\n        ],\n        \"semantic_type\": \"\",\n        \"description\": \"\"\n      }\n    },\n    {\n      \"column\": \"Oct\",\n      \"properties\": {\n        \"dtype\": \"number\",\n        \"std\": 67.2257419028875,\n        \"min\": 24.8,\n        \"max\": 356.5,\n        \"num_unique_values\": 288,\n        \"samples\": [\n          120.0,\n          319.3,\n          245.9\n        ],\n        \"semantic_type\": \"\",\n        \"description\": \"\"\n      }\n    },\n    {\n      \"column\": \"Nov\",\n      \"properties\": {\n        \"dtype\": \"number\",\n        \"std\": 77.72631851656766,\n        \"min\": 0.0,\n        \"max\": 363.0,\n        \"num_unique_values\": 278,\n        \"samples\": [\n          191.7,\n          280.0,\n          309.8\n        ],\n        \"semantic_type\": \"\",\n        \"description\": \"\"\n      }\n    },\n    {\n      \"column\": \"Dec\",\n      \"properties\": {\n        \"dtype\": \"number\",\n        \"std\": 83.71251558206886,\n        \"min\": 0.0,\n        \"max\": 367.0,\n        \"num_unique_values\": 291,\n        \"samples\": [\n          144.0,\n          216.1,\n          286.5\n        ],\n        \"semantic_type\": \"\",\n        \"description\": \"\"\n      }\n    },\n    {\n      \"column\": \"Year\",\n      \"properties\": {\n        \"dtype\": \"number\",\n        \"std\": 623.8035140967254,\n        \"min\": 840.0,\n        \"max\": 4015.3,\n        \"num_unique_values\": 372,\n        \"samples\": [\n          3254.2,\n          3330.0,\n          2813.7\n        ],\n        \"semantic_type\": \"\",\n        \"description\": \"\"\n      }\n    }\n  ]\n}"
            }
          },
          "metadata": {},
          "execution_count": 16
        }
      ]
    },
    {
      "cell_type": "markdown",
      "source": [
        "##**Describe Data**"
      ],
      "metadata": {
        "id": "aLl6OS2D7vay"
      }
    },
    {
      "cell_type": "markdown",
      "source": [
        "###**Informasi Dasar**"
      ],
      "metadata": {
        "id": "hz1zARVsUxM-"
      }
    },
    {
      "cell_type": "code",
      "source": [
        "df.head()"
      ],
      "metadata": {
        "id": "JfnPGLyOU5Sb",
        "colab": {
          "base_uri": "https://localhost:8080/",
          "height": 206
        },
        "outputId": "a4a27682-fd72-4fa9-bfa6-0f010823d2d4"
      },
      "execution_count": null,
      "outputs": [
        {
          "output_type": "execute_result",
          "data": {
            "text/plain": [
              "       Country         City    Jan    Feb    Mar    Apr    May    Jun    Jul  \\\n",
              "0  Afghanistan        Kabul  177.2  178.6  204.5  232.5  310.3  353.4  356.8   \n",
              "1      Albania       Tirana  124.0  125.0  165.0  191.0  263.0  298.0  354.0   \n",
              "2      Algeria      Algiers  149.0  165.0  202.0  258.0  319.0  318.0  350.0   \n",
              "3      Algeria  Tamanrasset  297.6  275.5  322.4  327.0  328.6  306.0  356.5   \n",
              "4       Angola       Luanda  219.0  208.0  213.0  199.0  233.0  223.0  175.0   \n",
              "\n",
              "     Aug    Sep    Oct    Nov    Dec    Year  \n",
              "0  339.7  303.9  282.6  253.2  182.4  3175.1  \n",
              "1  327.0  264.0  218.0  127.0   88.0  2544.0  \n",
              "2  319.0  237.0  229.0  165.0  136.0  2847.0  \n",
              "3  331.7  288.0  310.0  285.0  272.8  3686.0  \n",
              "4  150.0  145.0  164.0  199.0  212.0  2341.0  "
            ],
            "text/html": [
              "\n",
              "  <div id=\"df-6ead9195-d716-405b-8a0c-4f708db361fb\" class=\"colab-df-container\">\n",
              "    <div>\n",
              "<style scoped>\n",
              "    .dataframe tbody tr th:only-of-type {\n",
              "        vertical-align: middle;\n",
              "    }\n",
              "\n",
              "    .dataframe tbody tr th {\n",
              "        vertical-align: top;\n",
              "    }\n",
              "\n",
              "    .dataframe thead th {\n",
              "        text-align: right;\n",
              "    }\n",
              "</style>\n",
              "<table border=\"1\" class=\"dataframe\">\n",
              "  <thead>\n",
              "    <tr style=\"text-align: right;\">\n",
              "      <th></th>\n",
              "      <th>Country</th>\n",
              "      <th>City</th>\n",
              "      <th>Jan</th>\n",
              "      <th>Feb</th>\n",
              "      <th>Mar</th>\n",
              "      <th>Apr</th>\n",
              "      <th>May</th>\n",
              "      <th>Jun</th>\n",
              "      <th>Jul</th>\n",
              "      <th>Aug</th>\n",
              "      <th>Sep</th>\n",
              "      <th>Oct</th>\n",
              "      <th>Nov</th>\n",
              "      <th>Dec</th>\n",
              "      <th>Year</th>\n",
              "    </tr>\n",
              "  </thead>\n",
              "  <tbody>\n",
              "    <tr>\n",
              "      <th>0</th>\n",
              "      <td>Afghanistan</td>\n",
              "      <td>Kabul</td>\n",
              "      <td>177.2</td>\n",
              "      <td>178.6</td>\n",
              "      <td>204.5</td>\n",
              "      <td>232.5</td>\n",
              "      <td>310.3</td>\n",
              "      <td>353.4</td>\n",
              "      <td>356.8</td>\n",
              "      <td>339.7</td>\n",
              "      <td>303.9</td>\n",
              "      <td>282.6</td>\n",
              "      <td>253.2</td>\n",
              "      <td>182.4</td>\n",
              "      <td>3175.1</td>\n",
              "    </tr>\n",
              "    <tr>\n",
              "      <th>1</th>\n",
              "      <td>Albania</td>\n",
              "      <td>Tirana</td>\n",
              "      <td>124.0</td>\n",
              "      <td>125.0</td>\n",
              "      <td>165.0</td>\n",
              "      <td>191.0</td>\n",
              "      <td>263.0</td>\n",
              "      <td>298.0</td>\n",
              "      <td>354.0</td>\n",
              "      <td>327.0</td>\n",
              "      <td>264.0</td>\n",
              "      <td>218.0</td>\n",
              "      <td>127.0</td>\n",
              "      <td>88.0</td>\n",
              "      <td>2544.0</td>\n",
              "    </tr>\n",
              "    <tr>\n",
              "      <th>2</th>\n",
              "      <td>Algeria</td>\n",
              "      <td>Algiers</td>\n",
              "      <td>149.0</td>\n",
              "      <td>165.0</td>\n",
              "      <td>202.0</td>\n",
              "      <td>258.0</td>\n",
              "      <td>319.0</td>\n",
              "      <td>318.0</td>\n",
              "      <td>350.0</td>\n",
              "      <td>319.0</td>\n",
              "      <td>237.0</td>\n",
              "      <td>229.0</td>\n",
              "      <td>165.0</td>\n",
              "      <td>136.0</td>\n",
              "      <td>2847.0</td>\n",
              "    </tr>\n",
              "    <tr>\n",
              "      <th>3</th>\n",
              "      <td>Algeria</td>\n",
              "      <td>Tamanrasset</td>\n",
              "      <td>297.6</td>\n",
              "      <td>275.5</td>\n",
              "      <td>322.4</td>\n",
              "      <td>327.0</td>\n",
              "      <td>328.6</td>\n",
              "      <td>306.0</td>\n",
              "      <td>356.5</td>\n",
              "      <td>331.7</td>\n",
              "      <td>288.0</td>\n",
              "      <td>310.0</td>\n",
              "      <td>285.0</td>\n",
              "      <td>272.8</td>\n",
              "      <td>3686.0</td>\n",
              "    </tr>\n",
              "    <tr>\n",
              "      <th>4</th>\n",
              "      <td>Angola</td>\n",
              "      <td>Luanda</td>\n",
              "      <td>219.0</td>\n",
              "      <td>208.0</td>\n",
              "      <td>213.0</td>\n",
              "      <td>199.0</td>\n",
              "      <td>233.0</td>\n",
              "      <td>223.0</td>\n",
              "      <td>175.0</td>\n",
              "      <td>150.0</td>\n",
              "      <td>145.0</td>\n",
              "      <td>164.0</td>\n",
              "      <td>199.0</td>\n",
              "      <td>212.0</td>\n",
              "      <td>2341.0</td>\n",
              "    </tr>\n",
              "  </tbody>\n",
              "</table>\n",
              "</div>\n",
              "    <div class=\"colab-df-buttons\">\n",
              "\n",
              "  <div class=\"colab-df-container\">\n",
              "    <button class=\"colab-df-convert\" onclick=\"convertToInteractive('df-6ead9195-d716-405b-8a0c-4f708db361fb')\"\n",
              "            title=\"Convert this dataframe to an interactive table.\"\n",
              "            style=\"display:none;\">\n",
              "\n",
              "  <svg xmlns=\"http://www.w3.org/2000/svg\" height=\"24px\" viewBox=\"0 -960 960 960\">\n",
              "    <path d=\"M120-120v-720h720v720H120Zm60-500h600v-160H180v160Zm220 220h160v-160H400v160Zm0 220h160v-160H400v160ZM180-400h160v-160H180v160Zm440 0h160v-160H620v160ZM180-180h160v-160H180v160Zm440 0h160v-160H620v160Z\"/>\n",
              "  </svg>\n",
              "    </button>\n",
              "\n",
              "  <style>\n",
              "    .colab-df-container {\n",
              "      display:flex;\n",
              "      gap: 12px;\n",
              "    }\n",
              "\n",
              "    .colab-df-convert {\n",
              "      background-color: #E8F0FE;\n",
              "      border: none;\n",
              "      border-radius: 50%;\n",
              "      cursor: pointer;\n",
              "      display: none;\n",
              "      fill: #1967D2;\n",
              "      height: 32px;\n",
              "      padding: 0 0 0 0;\n",
              "      width: 32px;\n",
              "    }\n",
              "\n",
              "    .colab-df-convert:hover {\n",
              "      background-color: #E2EBFA;\n",
              "      box-shadow: 0px 1px 2px rgba(60, 64, 67, 0.3), 0px 1px 3px 1px rgba(60, 64, 67, 0.15);\n",
              "      fill: #174EA6;\n",
              "    }\n",
              "\n",
              "    .colab-df-buttons div {\n",
              "      margin-bottom: 4px;\n",
              "    }\n",
              "\n",
              "    [theme=dark] .colab-df-convert {\n",
              "      background-color: #3B4455;\n",
              "      fill: #D2E3FC;\n",
              "    }\n",
              "\n",
              "    [theme=dark] .colab-df-convert:hover {\n",
              "      background-color: #434B5C;\n",
              "      box-shadow: 0px 1px 3px 1px rgba(0, 0, 0, 0.15);\n",
              "      filter: drop-shadow(0px 1px 2px rgba(0, 0, 0, 0.3));\n",
              "      fill: #FFFFFF;\n",
              "    }\n",
              "  </style>\n",
              "\n",
              "    <script>\n",
              "      const buttonEl =\n",
              "        document.querySelector('#df-6ead9195-d716-405b-8a0c-4f708db361fb button.colab-df-convert');\n",
              "      buttonEl.style.display =\n",
              "        google.colab.kernel.accessAllowed ? 'block' : 'none';\n",
              "\n",
              "      async function convertToInteractive(key) {\n",
              "        const element = document.querySelector('#df-6ead9195-d716-405b-8a0c-4f708db361fb');\n",
              "        const dataTable =\n",
              "          await google.colab.kernel.invokeFunction('convertToInteractive',\n",
              "                                                    [key], {});\n",
              "        if (!dataTable) return;\n",
              "\n",
              "        const docLinkHtml = 'Like what you see? Visit the ' +\n",
              "          '<a target=\"_blank\" href=https://colab.research.google.com/notebooks/data_table.ipynb>data table notebook</a>'\n",
              "          + ' to learn more about interactive tables.';\n",
              "        element.innerHTML = '';\n",
              "        dataTable['output_type'] = 'display_data';\n",
              "        await google.colab.output.renderOutput(dataTable, element);\n",
              "        const docLink = document.createElement('div');\n",
              "        docLink.innerHTML = docLinkHtml;\n",
              "        element.appendChild(docLink);\n",
              "      }\n",
              "    </script>\n",
              "  </div>\n",
              "\n",
              "\n",
              "<div id=\"df-6ce34c8a-60e4-4553-adc3-bbfda4bfb391\">\n",
              "  <button class=\"colab-df-quickchart\" onclick=\"quickchart('df-6ce34c8a-60e4-4553-adc3-bbfda4bfb391')\"\n",
              "            title=\"Suggest charts\"\n",
              "            style=\"display:none;\">\n",
              "\n",
              "<svg xmlns=\"http://www.w3.org/2000/svg\" height=\"24px\"viewBox=\"0 0 24 24\"\n",
              "     width=\"24px\">\n",
              "    <g>\n",
              "        <path d=\"M19 3H5c-1.1 0-2 .9-2 2v14c0 1.1.9 2 2 2h14c1.1 0 2-.9 2-2V5c0-1.1-.9-2-2-2zM9 17H7v-7h2v7zm4 0h-2V7h2v10zm4 0h-2v-4h2v4z\"/>\n",
              "    </g>\n",
              "</svg>\n",
              "  </button>\n",
              "\n",
              "<style>\n",
              "  .colab-df-quickchart {\n",
              "      --bg-color: #E8F0FE;\n",
              "      --fill-color: #1967D2;\n",
              "      --hover-bg-color: #E2EBFA;\n",
              "      --hover-fill-color: #174EA6;\n",
              "      --disabled-fill-color: #AAA;\n",
              "      --disabled-bg-color: #DDD;\n",
              "  }\n",
              "\n",
              "  [theme=dark] .colab-df-quickchart {\n",
              "      --bg-color: #3B4455;\n",
              "      --fill-color: #D2E3FC;\n",
              "      --hover-bg-color: #434B5C;\n",
              "      --hover-fill-color: #FFFFFF;\n",
              "      --disabled-bg-color: #3B4455;\n",
              "      --disabled-fill-color: #666;\n",
              "  }\n",
              "\n",
              "  .colab-df-quickchart {\n",
              "    background-color: var(--bg-color);\n",
              "    border: none;\n",
              "    border-radius: 50%;\n",
              "    cursor: pointer;\n",
              "    display: none;\n",
              "    fill: var(--fill-color);\n",
              "    height: 32px;\n",
              "    padding: 0;\n",
              "    width: 32px;\n",
              "  }\n",
              "\n",
              "  .colab-df-quickchart:hover {\n",
              "    background-color: var(--hover-bg-color);\n",
              "    box-shadow: 0 1px 2px rgba(60, 64, 67, 0.3), 0 1px 3px 1px rgba(60, 64, 67, 0.15);\n",
              "    fill: var(--button-hover-fill-color);\n",
              "  }\n",
              "\n",
              "  .colab-df-quickchart-complete:disabled,\n",
              "  .colab-df-quickchart-complete:disabled:hover {\n",
              "    background-color: var(--disabled-bg-color);\n",
              "    fill: var(--disabled-fill-color);\n",
              "    box-shadow: none;\n",
              "  }\n",
              "\n",
              "  .colab-df-spinner {\n",
              "    border: 2px solid var(--fill-color);\n",
              "    border-color: transparent;\n",
              "    border-bottom-color: var(--fill-color);\n",
              "    animation:\n",
              "      spin 1s steps(1) infinite;\n",
              "  }\n",
              "\n",
              "  @keyframes spin {\n",
              "    0% {\n",
              "      border-color: transparent;\n",
              "      border-bottom-color: var(--fill-color);\n",
              "      border-left-color: var(--fill-color);\n",
              "    }\n",
              "    20% {\n",
              "      border-color: transparent;\n",
              "      border-left-color: var(--fill-color);\n",
              "      border-top-color: var(--fill-color);\n",
              "    }\n",
              "    30% {\n",
              "      border-color: transparent;\n",
              "      border-left-color: var(--fill-color);\n",
              "      border-top-color: var(--fill-color);\n",
              "      border-right-color: var(--fill-color);\n",
              "    }\n",
              "    40% {\n",
              "      border-color: transparent;\n",
              "      border-right-color: var(--fill-color);\n",
              "      border-top-color: var(--fill-color);\n",
              "    }\n",
              "    60% {\n",
              "      border-color: transparent;\n",
              "      border-right-color: var(--fill-color);\n",
              "    }\n",
              "    80% {\n",
              "      border-color: transparent;\n",
              "      border-right-color: var(--fill-color);\n",
              "      border-bottom-color: var(--fill-color);\n",
              "    }\n",
              "    90% {\n",
              "      border-color: transparent;\n",
              "      border-bottom-color: var(--fill-color);\n",
              "    }\n",
              "  }\n",
              "</style>\n",
              "\n",
              "  <script>\n",
              "    async function quickchart(key) {\n",
              "      const quickchartButtonEl =\n",
              "        document.querySelector('#' + key + ' button');\n",
              "      quickchartButtonEl.disabled = true;  // To prevent multiple clicks.\n",
              "      quickchartButtonEl.classList.add('colab-df-spinner');\n",
              "      try {\n",
              "        const charts = await google.colab.kernel.invokeFunction(\n",
              "            'suggestCharts', [key], {});\n",
              "      } catch (error) {\n",
              "        console.error('Error during call to suggestCharts:', error);\n",
              "      }\n",
              "      quickchartButtonEl.classList.remove('colab-df-spinner');\n",
              "      quickchartButtonEl.classList.add('colab-df-quickchart-complete');\n",
              "    }\n",
              "    (() => {\n",
              "      let quickchartButtonEl =\n",
              "        document.querySelector('#df-6ce34c8a-60e4-4553-adc3-bbfda4bfb391 button');\n",
              "      quickchartButtonEl.style.display =\n",
              "        google.colab.kernel.accessAllowed ? 'block' : 'none';\n",
              "    })();\n",
              "  </script>\n",
              "</div>\n",
              "    </div>\n",
              "  </div>\n"
            ],
            "application/vnd.google.colaboratory.intrinsic+json": {
              "type": "dataframe",
              "variable_name": "df",
              "summary": "{\n  \"name\": \"df\",\n  \"rows\": 382,\n  \"fields\": [\n    {\n      \"column\": \"Country\",\n      \"properties\": {\n        \"dtype\": \"category\",\n        \"num_unique_values\": 140,\n        \"samples\": [\n          \"Saudi Arabia\",\n          \"Japan\",\n          \"Democratic Republic of the Congo\"\n        ],\n        \"semantic_type\": \"\",\n        \"description\": \"\"\n      }\n    },\n    {\n      \"column\": \"City\",\n      \"properties\": {\n        \"dtype\": \"string\",\n        \"num_unique_values\": 381,\n        \"samples\": [\n          \"Mogadishu\",\n          \"Karonga\",\n          \"Ouagadougou\"\n        ],\n        \"semantic_type\": \"\",\n        \"description\": \"\"\n      }\n    },\n    {\n      \"column\": \"Jan\",\n      \"properties\": {\n        \"dtype\": \"number\",\n        \"std\": 81.29503355004356,\n        \"min\": 0.0,\n        \"max\": 362.7,\n        \"num_unique_values\": 297,\n        \"samples\": [\n          267.0,\n          290.0,\n          341.0\n        ],\n        \"semantic_type\": \"\",\n        \"description\": \"\"\n      }\n    },\n    {\n      \"column\": \"Feb\",\n      \"properties\": {\n        \"dtype\": \"number\",\n        \"std\": 64.7801762092122,\n        \"min\": 22.6,\n        \"max\": 314.9,\n        \"num_unique_values\": 308,\n        \"samples\": [\n          179.7,\n          150.4,\n          105.5\n        ],\n        \"semantic_type\": \"\",\n        \"description\": \"\"\n      }\n    },\n    {\n      \"column\": \"Mar\",\n      \"properties\": {\n        \"dtype\": \"number\",\n        \"std\": 58.25443692756522,\n        \"min\": 47.0,\n        \"max\": 335.5,\n        \"num_unique_values\": 280,\n        \"samples\": [\n          166.5,\n          215.0,\n          192.5\n        ],\n        \"semantic_type\": \"\",\n        \"description\": \"\"\n      }\n    },\n    {\n      \"column\": \"Apr\",\n      \"properties\": {\n        \"dtype\": \"number\",\n        \"std\": 52.889870549878665,\n        \"min\": 65.1,\n        \"max\": 365.5,\n        \"num_unique_values\": 253,\n        \"samples\": [\n          281.4,\n          189.0,\n          210.0\n        ],\n        \"semantic_type\": \"\",\n        \"description\": \"\"\n      }\n    },\n    {\n      \"column\": \"May\",\n      \"properties\": {\n        \"dtype\": \"number\",\n        \"std\": 61.859094726232776,\n        \"min\": 68.2,\n        \"max\": 407.4,\n        \"num_unique_values\": 277,\n        \"samples\": [\n          316.0,\n          296.2,\n          261.0\n        ],\n        \"semantic_type\": \"\",\n        \"description\": \"\"\n      }\n    },\n    {\n      \"column\": \"Jun\",\n      \"properties\": {\n        \"dtype\": \"number\",\n        \"std\": 73.69578972965581,\n        \"min\": 45.0,\n        \"max\": 419.5,\n        \"num_unique_values\": 281,\n        \"samples\": [\n          186.8,\n          303.0,\n          320.6\n        ],\n        \"semantic_type\": \"\",\n        \"description\": \"\"\n      }\n    },\n    {\n      \"column\": \"Jul\",\n      \"properties\": {\n        \"dtype\": \"number\",\n        \"std\": 81.42809504742567,\n        \"min\": 28.6,\n        \"max\": 440.2,\n        \"num_unique_values\": 312,\n        \"samples\": [\n          289.0,\n          173.6,\n          289.8\n        ],\n        \"semantic_type\": \"\",\n        \"description\": \"\"\n      }\n    },\n    {\n      \"column\": \"Aug\",\n      \"properties\": {\n        \"dtype\": \"number\",\n        \"std\": 73.56870267681329,\n        \"min\": 32.3,\n        \"max\": 406.9,\n        \"num_unique_values\": 290,\n        \"samples\": [\n          105.0,\n          349.5,\n          187.2\n        ],\n        \"semantic_type\": \"\",\n        \"description\": \"\"\n      }\n    },\n    {\n      \"column\": \"Sep\",\n      \"properties\": {\n        \"dtype\": \"number\",\n        \"std\": 62.72157678035103,\n        \"min\": 37.3,\n        \"max\": 347.8,\n        \"num_unique_values\": 266,\n        \"samples\": [\n          132.0,\n          276.0,\n          144.1\n        ],\n        \"semantic_type\": \"\",\n        \"description\": \"\"\n      }\n    },\n    {\n      \"column\": \"Oct\",\n      \"properties\": {\n        \"dtype\": \"number\",\n        \"std\": 67.2257419028875,\n        \"min\": 24.8,\n        \"max\": 356.5,\n        \"num_unique_values\": 288,\n        \"samples\": [\n          120.0,\n          319.3,\n          245.9\n        ],\n        \"semantic_type\": \"\",\n        \"description\": \"\"\n      }\n    },\n    {\n      \"column\": \"Nov\",\n      \"properties\": {\n        \"dtype\": \"number\",\n        \"std\": 77.72631851656766,\n        \"min\": 0.0,\n        \"max\": 363.0,\n        \"num_unique_values\": 278,\n        \"samples\": [\n          191.7,\n          280.0,\n          309.8\n        ],\n        \"semantic_type\": \"\",\n        \"description\": \"\"\n      }\n    },\n    {\n      \"column\": \"Dec\",\n      \"properties\": {\n        \"dtype\": \"number\",\n        \"std\": 83.71251558206886,\n        \"min\": 0.0,\n        \"max\": 367.0,\n        \"num_unique_values\": 291,\n        \"samples\": [\n          144.0,\n          216.1,\n          286.5\n        ],\n        \"semantic_type\": \"\",\n        \"description\": \"\"\n      }\n    },\n    {\n      \"column\": \"Year\",\n      \"properties\": {\n        \"dtype\": \"number\",\n        \"std\": 623.8035140967254,\n        \"min\": 840.0,\n        \"max\": 4015.3,\n        \"num_unique_values\": 372,\n        \"samples\": [\n          3254.2,\n          3330.0,\n          2813.7\n        ],\n        \"semantic_type\": \"\",\n        \"description\": \"\"\n      }\n    }\n  ]\n}"
            }
          },
          "metadata": {},
          "execution_count": 8
        }
      ]
    },
    {
      "cell_type": "markdown",
      "source": [
        "Dataset diatas merupakan dataset yang berisi tentang Durasi Matahari Terbit dalam satu tahun penuh pada Kota-Kota di Negara yang ada di dunia.\n",
        "Dataset ini berisi Jenis Data Kualitatif dengan menggunakan parameter Jam(Hours) dalam pengukuran pada datanya."
      ],
      "metadata": {
        "id": "BVacpz1oeJ9j"
      }
    },
    {
      "cell_type": "markdown",
      "source": [
        "###**Informasi Lanjutan**"
      ],
      "metadata": {
        "id": "cjV5NCXJXrKw"
      }
    },
    {
      "cell_type": "code",
      "source": [
        "df.info()"
      ],
      "metadata": {
        "colab": {
          "base_uri": "https://localhost:8080/"
        },
        "id": "UHqPhQzuXpzE",
        "outputId": "cd2250ba-58d0-4725-9194-6901bbe63077"
      },
      "execution_count": null,
      "outputs": [
        {
          "output_type": "stream",
          "name": "stdout",
          "text": [
            "<class 'pandas.core.frame.DataFrame'>\n",
            "RangeIndex: 382 entries, 0 to 381\n",
            "Data columns (total 15 columns):\n",
            " #   Column   Non-Null Count  Dtype  \n",
            "---  ------   --------------  -----  \n",
            " 0   Country  382 non-null    object \n",
            " 1   City     382 non-null    object \n",
            " 2   Jan      382 non-null    float64\n",
            " 3   Feb      382 non-null    float64\n",
            " 4   Mar      382 non-null    float64\n",
            " 5   Apr      382 non-null    float64\n",
            " 6   May      382 non-null    float64\n",
            " 7   Jun      382 non-null    float64\n",
            " 8   Jul      382 non-null    float64\n",
            " 9   Aug      382 non-null    float64\n",
            " 10  Sep      382 non-null    float64\n",
            " 11  Oct      382 non-null    float64\n",
            " 12  Nov      382 non-null    float64\n",
            " 13  Dec      382 non-null    float64\n",
            " 14  Year     382 non-null    float64\n",
            "dtypes: float64(13), object(2)\n",
            "memory usage: 44.9+ KB\n"
          ]
        }
      ]
    },
    {
      "cell_type": "markdown",
      "source": [
        "####Penjelasan"
      ],
      "metadata": {
        "id": "-0glioeiVbKJ"
      }
    },
    {
      "cell_type": "markdown",
      "source": [
        "Kolom Country\n",
        "- Memiliki 382 Baris\n",
        "- bertipe Data Object\n",
        "\n",
        "Kolom City\n",
        "- Memiliki 382 Baris\n",
        "- bertipe Data Object\n",
        "\n",
        "Kolom Jan\n",
        "- Memiliki 382 Baris\n",
        "- bertipe Data float\n",
        "\n",
        "Kolom Feb\n",
        "- Memiliki 382 Baris\n",
        "- bertipe Data float\n",
        "\n",
        "Kolom Mar\n",
        "- Memiliki 382 Baris\n",
        "- bertipe Data float\n",
        "\n",
        "Kolom Apr\n",
        "- Memiliki 382 Baris\n",
        "- bertipe Data float\n",
        "\n",
        "Kolom May\n",
        "- Memiliki 382 Baris\n",
        "- bertipe Data float\n",
        "\n",
        "Kolom Jun\n",
        "- Memiliki 382 Baris\n",
        "- bertipe Data float\n",
        "\n",
        "Kolom Jul\n",
        "- Memiliki 382 Baris\n",
        "- bertipe Data float\n",
        "\n",
        "Kolom Aug\n",
        "- Memiliki 382 Baris\n",
        "- bertipe Data float\n",
        "\n",
        "Kolom Sep\n",
        "- Memiliki 382 Baris\n",
        "- bertipe Data float\n",
        "\n",
        "Kolom Oct\n",
        "- Memiliki 382 Baris\n",
        "- bertipe Data float\n",
        "\n",
        "Kolom Nov\n",
        "- Memiliki 382 Baris\n",
        "- bertipe Data float\n",
        "\n",
        "Kolom Dec\n",
        "- Memiliki 382 Baris\n",
        "- bertipe Data float\n",
        "\n",
        "Kolom Year\n",
        "- Memiliki 382 Baris\n",
        "- bertipe Data float\n",
        "\n",
        "Jumlah Kolom : 15\n",
        "\n",
        "Object(2), float(13)"
      ],
      "metadata": {
        "id": "1f6XC-jwX83M"
      }
    },
    {
      "cell_type": "markdown",
      "source": [
        "###**Informasi Statistik Deskriptif**"
      ],
      "metadata": {
        "id": "g5JK07GtKGmg"
      }
    },
    {
      "cell_type": "code",
      "source": [
        "df.describe()"
      ],
      "metadata": {
        "colab": {
          "base_uri": "https://localhost:8080/",
          "height": 320
        },
        "id": "frr8dfFsKxN6",
        "outputId": "a7ef5253-51ee-42aa-feab-55383c88e9ed"
      },
      "execution_count": null,
      "outputs": [
        {
          "output_type": "execute_result",
          "data": {
            "text/plain": [
              "              Jan         Feb         Mar         Apr         May        Jun  \\\n",
              "count  382.000000  382.000000  382.000000  382.000000  382.000000  382.00000   \n",
              "mean   179.791885  177.874215  207.212565  218.642408  241.229581  236.61911   \n",
              "std     81.295034   64.780176   58.254437   52.889871   61.859095   73.69579   \n",
              "min      0.000000   22.600000   47.000000   65.100000   68.200000   45.00000   \n",
              "25%    123.775000  129.500000  163.475000  183.000000  197.125000  177.17500   \n",
              "50%    179.800000  178.150000  208.500000  219.000000  248.050000  250.00000   \n",
              "75%    246.475000  228.800000  251.775000  253.700000  284.650000  288.52500   \n",
              "max    362.700000  314.900000  335.500000  365.500000  407.400000  419.50000   \n",
              "\n",
              "              Jul         Aug         Sep         Oct         Nov         Dec  \\\n",
              "count  382.000000  382.000000  382.000000  382.000000  382.000000  382.000000   \n",
              "mean   243.520681  235.659686  211.841885  206.376702  181.308115  172.910733   \n",
              "std     81.428095   73.568703   62.721577   67.225742   77.726319   83.712516   \n",
              "min     28.600000   32.300000   37.300000   24.800000    0.000000    0.000000   \n",
              "25%    180.250000  186.000000  164.250000  155.400000  126.250000  114.075000   \n",
              "50%    250.200000  242.000000  216.300000  209.900000  181.500000  169.400000   \n",
              "75%    307.875000  294.375000  260.850000  260.400000  246.000000  242.400000   \n",
              "max    440.200000  406.900000  347.800000  356.500000  363.000000  367.000000   \n",
              "\n",
              "              Year  \n",
              "count   382.000000  \n",
              "mean   2510.771859  \n",
              "std     623.803514  \n",
              "min     840.000000  \n",
              "25%    2025.875000  \n",
              "50%    2503.950000  \n",
              "75%    2988.475000  \n",
              "max    4015.300000  "
            ],
            "text/html": [
              "\n",
              "  <div id=\"df-cc2c5f8d-af27-460c-ab15-da01b4f7eb59\" class=\"colab-df-container\">\n",
              "    <div>\n",
              "<style scoped>\n",
              "    .dataframe tbody tr th:only-of-type {\n",
              "        vertical-align: middle;\n",
              "    }\n",
              "\n",
              "    .dataframe tbody tr th {\n",
              "        vertical-align: top;\n",
              "    }\n",
              "\n",
              "    .dataframe thead th {\n",
              "        text-align: right;\n",
              "    }\n",
              "</style>\n",
              "<table border=\"1\" class=\"dataframe\">\n",
              "  <thead>\n",
              "    <tr style=\"text-align: right;\">\n",
              "      <th></th>\n",
              "      <th>Jan</th>\n",
              "      <th>Feb</th>\n",
              "      <th>Mar</th>\n",
              "      <th>Apr</th>\n",
              "      <th>May</th>\n",
              "      <th>Jun</th>\n",
              "      <th>Jul</th>\n",
              "      <th>Aug</th>\n",
              "      <th>Sep</th>\n",
              "      <th>Oct</th>\n",
              "      <th>Nov</th>\n",
              "      <th>Dec</th>\n",
              "      <th>Year</th>\n",
              "    </tr>\n",
              "  </thead>\n",
              "  <tbody>\n",
              "    <tr>\n",
              "      <th>count</th>\n",
              "      <td>382.000000</td>\n",
              "      <td>382.000000</td>\n",
              "      <td>382.000000</td>\n",
              "      <td>382.000000</td>\n",
              "      <td>382.000000</td>\n",
              "      <td>382.00000</td>\n",
              "      <td>382.000000</td>\n",
              "      <td>382.000000</td>\n",
              "      <td>382.000000</td>\n",
              "      <td>382.000000</td>\n",
              "      <td>382.000000</td>\n",
              "      <td>382.000000</td>\n",
              "      <td>382.000000</td>\n",
              "    </tr>\n",
              "    <tr>\n",
              "      <th>mean</th>\n",
              "      <td>179.791885</td>\n",
              "      <td>177.874215</td>\n",
              "      <td>207.212565</td>\n",
              "      <td>218.642408</td>\n",
              "      <td>241.229581</td>\n",
              "      <td>236.61911</td>\n",
              "      <td>243.520681</td>\n",
              "      <td>235.659686</td>\n",
              "      <td>211.841885</td>\n",
              "      <td>206.376702</td>\n",
              "      <td>181.308115</td>\n",
              "      <td>172.910733</td>\n",
              "      <td>2510.771859</td>\n",
              "    </tr>\n",
              "    <tr>\n",
              "      <th>std</th>\n",
              "      <td>81.295034</td>\n",
              "      <td>64.780176</td>\n",
              "      <td>58.254437</td>\n",
              "      <td>52.889871</td>\n",
              "      <td>61.859095</td>\n",
              "      <td>73.69579</td>\n",
              "      <td>81.428095</td>\n",
              "      <td>73.568703</td>\n",
              "      <td>62.721577</td>\n",
              "      <td>67.225742</td>\n",
              "      <td>77.726319</td>\n",
              "      <td>83.712516</td>\n",
              "      <td>623.803514</td>\n",
              "    </tr>\n",
              "    <tr>\n",
              "      <th>min</th>\n",
              "      <td>0.000000</td>\n",
              "      <td>22.600000</td>\n",
              "      <td>47.000000</td>\n",
              "      <td>65.100000</td>\n",
              "      <td>68.200000</td>\n",
              "      <td>45.00000</td>\n",
              "      <td>28.600000</td>\n",
              "      <td>32.300000</td>\n",
              "      <td>37.300000</td>\n",
              "      <td>24.800000</td>\n",
              "      <td>0.000000</td>\n",
              "      <td>0.000000</td>\n",
              "      <td>840.000000</td>\n",
              "    </tr>\n",
              "    <tr>\n",
              "      <th>25%</th>\n",
              "      <td>123.775000</td>\n",
              "      <td>129.500000</td>\n",
              "      <td>163.475000</td>\n",
              "      <td>183.000000</td>\n",
              "      <td>197.125000</td>\n",
              "      <td>177.17500</td>\n",
              "      <td>180.250000</td>\n",
              "      <td>186.000000</td>\n",
              "      <td>164.250000</td>\n",
              "      <td>155.400000</td>\n",
              "      <td>126.250000</td>\n",
              "      <td>114.075000</td>\n",
              "      <td>2025.875000</td>\n",
              "    </tr>\n",
              "    <tr>\n",
              "      <th>50%</th>\n",
              "      <td>179.800000</td>\n",
              "      <td>178.150000</td>\n",
              "      <td>208.500000</td>\n",
              "      <td>219.000000</td>\n",
              "      <td>248.050000</td>\n",
              "      <td>250.00000</td>\n",
              "      <td>250.200000</td>\n",
              "      <td>242.000000</td>\n",
              "      <td>216.300000</td>\n",
              "      <td>209.900000</td>\n",
              "      <td>181.500000</td>\n",
              "      <td>169.400000</td>\n",
              "      <td>2503.950000</td>\n",
              "    </tr>\n",
              "    <tr>\n",
              "      <th>75%</th>\n",
              "      <td>246.475000</td>\n",
              "      <td>228.800000</td>\n",
              "      <td>251.775000</td>\n",
              "      <td>253.700000</td>\n",
              "      <td>284.650000</td>\n",
              "      <td>288.52500</td>\n",
              "      <td>307.875000</td>\n",
              "      <td>294.375000</td>\n",
              "      <td>260.850000</td>\n",
              "      <td>260.400000</td>\n",
              "      <td>246.000000</td>\n",
              "      <td>242.400000</td>\n",
              "      <td>2988.475000</td>\n",
              "    </tr>\n",
              "    <tr>\n",
              "      <th>max</th>\n",
              "      <td>362.700000</td>\n",
              "      <td>314.900000</td>\n",
              "      <td>335.500000</td>\n",
              "      <td>365.500000</td>\n",
              "      <td>407.400000</td>\n",
              "      <td>419.50000</td>\n",
              "      <td>440.200000</td>\n",
              "      <td>406.900000</td>\n",
              "      <td>347.800000</td>\n",
              "      <td>356.500000</td>\n",
              "      <td>363.000000</td>\n",
              "      <td>367.000000</td>\n",
              "      <td>4015.300000</td>\n",
              "    </tr>\n",
              "  </tbody>\n",
              "</table>\n",
              "</div>\n",
              "    <div class=\"colab-df-buttons\">\n",
              "\n",
              "  <div class=\"colab-df-container\">\n",
              "    <button class=\"colab-df-convert\" onclick=\"convertToInteractive('df-cc2c5f8d-af27-460c-ab15-da01b4f7eb59')\"\n",
              "            title=\"Convert this dataframe to an interactive table.\"\n",
              "            style=\"display:none;\">\n",
              "\n",
              "  <svg xmlns=\"http://www.w3.org/2000/svg\" height=\"24px\" viewBox=\"0 -960 960 960\">\n",
              "    <path d=\"M120-120v-720h720v720H120Zm60-500h600v-160H180v160Zm220 220h160v-160H400v160Zm0 220h160v-160H400v160ZM180-400h160v-160H180v160Zm440 0h160v-160H620v160ZM180-180h160v-160H180v160Zm440 0h160v-160H620v160Z\"/>\n",
              "  </svg>\n",
              "    </button>\n",
              "\n",
              "  <style>\n",
              "    .colab-df-container {\n",
              "      display:flex;\n",
              "      gap: 12px;\n",
              "    }\n",
              "\n",
              "    .colab-df-convert {\n",
              "      background-color: #E8F0FE;\n",
              "      border: none;\n",
              "      border-radius: 50%;\n",
              "      cursor: pointer;\n",
              "      display: none;\n",
              "      fill: #1967D2;\n",
              "      height: 32px;\n",
              "      padding: 0 0 0 0;\n",
              "      width: 32px;\n",
              "    }\n",
              "\n",
              "    .colab-df-convert:hover {\n",
              "      background-color: #E2EBFA;\n",
              "      box-shadow: 0px 1px 2px rgba(60, 64, 67, 0.3), 0px 1px 3px 1px rgba(60, 64, 67, 0.15);\n",
              "      fill: #174EA6;\n",
              "    }\n",
              "\n",
              "    .colab-df-buttons div {\n",
              "      margin-bottom: 4px;\n",
              "    }\n",
              "\n",
              "    [theme=dark] .colab-df-convert {\n",
              "      background-color: #3B4455;\n",
              "      fill: #D2E3FC;\n",
              "    }\n",
              "\n",
              "    [theme=dark] .colab-df-convert:hover {\n",
              "      background-color: #434B5C;\n",
              "      box-shadow: 0px 1px 3px 1px rgba(0, 0, 0, 0.15);\n",
              "      filter: drop-shadow(0px 1px 2px rgba(0, 0, 0, 0.3));\n",
              "      fill: #FFFFFF;\n",
              "    }\n",
              "  </style>\n",
              "\n",
              "    <script>\n",
              "      const buttonEl =\n",
              "        document.querySelector('#df-cc2c5f8d-af27-460c-ab15-da01b4f7eb59 button.colab-df-convert');\n",
              "      buttonEl.style.display =\n",
              "        google.colab.kernel.accessAllowed ? 'block' : 'none';\n",
              "\n",
              "      async function convertToInteractive(key) {\n",
              "        const element = document.querySelector('#df-cc2c5f8d-af27-460c-ab15-da01b4f7eb59');\n",
              "        const dataTable =\n",
              "          await google.colab.kernel.invokeFunction('convertToInteractive',\n",
              "                                                    [key], {});\n",
              "        if (!dataTable) return;\n",
              "\n",
              "        const docLinkHtml = 'Like what you see? Visit the ' +\n",
              "          '<a target=\"_blank\" href=https://colab.research.google.com/notebooks/data_table.ipynb>data table notebook</a>'\n",
              "          + ' to learn more about interactive tables.';\n",
              "        element.innerHTML = '';\n",
              "        dataTable['output_type'] = 'display_data';\n",
              "        await google.colab.output.renderOutput(dataTable, element);\n",
              "        const docLink = document.createElement('div');\n",
              "        docLink.innerHTML = docLinkHtml;\n",
              "        element.appendChild(docLink);\n",
              "      }\n",
              "    </script>\n",
              "  </div>\n",
              "\n",
              "\n",
              "<div id=\"df-f1b8fd24-b7cb-4633-821f-7b4d01bf08b0\">\n",
              "  <button class=\"colab-df-quickchart\" onclick=\"quickchart('df-f1b8fd24-b7cb-4633-821f-7b4d01bf08b0')\"\n",
              "            title=\"Suggest charts\"\n",
              "            style=\"display:none;\">\n",
              "\n",
              "<svg xmlns=\"http://www.w3.org/2000/svg\" height=\"24px\"viewBox=\"0 0 24 24\"\n",
              "     width=\"24px\">\n",
              "    <g>\n",
              "        <path d=\"M19 3H5c-1.1 0-2 .9-2 2v14c0 1.1.9 2 2 2h14c1.1 0 2-.9 2-2V5c0-1.1-.9-2-2-2zM9 17H7v-7h2v7zm4 0h-2V7h2v10zm4 0h-2v-4h2v4z\"/>\n",
              "    </g>\n",
              "</svg>\n",
              "  </button>\n",
              "\n",
              "<style>\n",
              "  .colab-df-quickchart {\n",
              "      --bg-color: #E8F0FE;\n",
              "      --fill-color: #1967D2;\n",
              "      --hover-bg-color: #E2EBFA;\n",
              "      --hover-fill-color: #174EA6;\n",
              "      --disabled-fill-color: #AAA;\n",
              "      --disabled-bg-color: #DDD;\n",
              "  }\n",
              "\n",
              "  [theme=dark] .colab-df-quickchart {\n",
              "      --bg-color: #3B4455;\n",
              "      --fill-color: #D2E3FC;\n",
              "      --hover-bg-color: #434B5C;\n",
              "      --hover-fill-color: #FFFFFF;\n",
              "      --disabled-bg-color: #3B4455;\n",
              "      --disabled-fill-color: #666;\n",
              "  }\n",
              "\n",
              "  .colab-df-quickchart {\n",
              "    background-color: var(--bg-color);\n",
              "    border: none;\n",
              "    border-radius: 50%;\n",
              "    cursor: pointer;\n",
              "    display: none;\n",
              "    fill: var(--fill-color);\n",
              "    height: 32px;\n",
              "    padding: 0;\n",
              "    width: 32px;\n",
              "  }\n",
              "\n",
              "  .colab-df-quickchart:hover {\n",
              "    background-color: var(--hover-bg-color);\n",
              "    box-shadow: 0 1px 2px rgba(60, 64, 67, 0.3), 0 1px 3px 1px rgba(60, 64, 67, 0.15);\n",
              "    fill: var(--button-hover-fill-color);\n",
              "  }\n",
              "\n",
              "  .colab-df-quickchart-complete:disabled,\n",
              "  .colab-df-quickchart-complete:disabled:hover {\n",
              "    background-color: var(--disabled-bg-color);\n",
              "    fill: var(--disabled-fill-color);\n",
              "    box-shadow: none;\n",
              "  }\n",
              "\n",
              "  .colab-df-spinner {\n",
              "    border: 2px solid var(--fill-color);\n",
              "    border-color: transparent;\n",
              "    border-bottom-color: var(--fill-color);\n",
              "    animation:\n",
              "      spin 1s steps(1) infinite;\n",
              "  }\n",
              "\n",
              "  @keyframes spin {\n",
              "    0% {\n",
              "      border-color: transparent;\n",
              "      border-bottom-color: var(--fill-color);\n",
              "      border-left-color: var(--fill-color);\n",
              "    }\n",
              "    20% {\n",
              "      border-color: transparent;\n",
              "      border-left-color: var(--fill-color);\n",
              "      border-top-color: var(--fill-color);\n",
              "    }\n",
              "    30% {\n",
              "      border-color: transparent;\n",
              "      border-left-color: var(--fill-color);\n",
              "      border-top-color: var(--fill-color);\n",
              "      border-right-color: var(--fill-color);\n",
              "    }\n",
              "    40% {\n",
              "      border-color: transparent;\n",
              "      border-right-color: var(--fill-color);\n",
              "      border-top-color: var(--fill-color);\n",
              "    }\n",
              "    60% {\n",
              "      border-color: transparent;\n",
              "      border-right-color: var(--fill-color);\n",
              "    }\n",
              "    80% {\n",
              "      border-color: transparent;\n",
              "      border-right-color: var(--fill-color);\n",
              "      border-bottom-color: var(--fill-color);\n",
              "    }\n",
              "    90% {\n",
              "      border-color: transparent;\n",
              "      border-bottom-color: var(--fill-color);\n",
              "    }\n",
              "  }\n",
              "</style>\n",
              "\n",
              "  <script>\n",
              "    async function quickchart(key) {\n",
              "      const quickchartButtonEl =\n",
              "        document.querySelector('#' + key + ' button');\n",
              "      quickchartButtonEl.disabled = true;  // To prevent multiple clicks.\n",
              "      quickchartButtonEl.classList.add('colab-df-spinner');\n",
              "      try {\n",
              "        const charts = await google.colab.kernel.invokeFunction(\n",
              "            'suggestCharts', [key], {});\n",
              "      } catch (error) {\n",
              "        console.error('Error during call to suggestCharts:', error);\n",
              "      }\n",
              "      quickchartButtonEl.classList.remove('colab-df-spinner');\n",
              "      quickchartButtonEl.classList.add('colab-df-quickchart-complete');\n",
              "    }\n",
              "    (() => {\n",
              "      let quickchartButtonEl =\n",
              "        document.querySelector('#df-f1b8fd24-b7cb-4633-821f-7b4d01bf08b0 button');\n",
              "      quickchartButtonEl.style.display =\n",
              "        google.colab.kernel.accessAllowed ? 'block' : 'none';\n",
              "    })();\n",
              "  </script>\n",
              "</div>\n",
              "    </div>\n",
              "  </div>\n"
            ],
            "application/vnd.google.colaboratory.intrinsic+json": {
              "type": "dataframe",
              "summary": "{\n  \"name\": \"df\",\n  \"rows\": 8,\n  \"fields\": [\n    {\n      \"column\": \"Jan\",\n      \"properties\": {\n        \"dtype\": \"number\",\n        \"std\": 132.14112910430651,\n        \"min\": 0.0,\n        \"max\": 382.0,\n        \"num_unique_values\": 8,\n        \"samples\": [\n          179.79188481675394,\n          179.8,\n          382.0\n        ],\n        \"semantic_type\": \"\",\n        \"description\": \"\"\n      }\n    },\n    {\n      \"column\": \"Feb\",\n      \"properties\": {\n        \"dtype\": \"number\",\n        \"std\": 120.45313251519029,\n        \"min\": 22.6,\n        \"max\": 382.0,\n        \"num_unique_values\": 8,\n        \"samples\": [\n          177.87421465968586,\n          178.15,\n          382.0\n        ],\n        \"semantic_type\": \"\",\n        \"description\": \"\"\n      }\n    },\n    {\n      \"column\": \"Mar\",\n      \"properties\": {\n        \"dtype\": \"number\",\n        \"std\": 118.78152962358683,\n        \"min\": 47.0,\n        \"max\": 382.0,\n        \"num_unique_values\": 8,\n        \"samples\": [\n          207.21256544502617,\n          208.5,\n          382.0\n        ],\n        \"semantic_type\": \"\",\n        \"description\": \"\"\n      }\n    },\n    {\n      \"column\": \"Apr\",\n      \"properties\": {\n        \"dtype\": \"number\",\n        \"std\": 120.58828792820557,\n        \"min\": 52.889870549878665,\n        \"max\": 382.0,\n        \"num_unique_values\": 8,\n        \"samples\": [\n          218.64240837696335,\n          219.0,\n          382.0\n        ],\n        \"semantic_type\": \"\",\n        \"description\": \"\"\n      }\n    },\n    {\n      \"column\": \"May\",\n      \"properties\": {\n        \"dtype\": \"number\",\n        \"std\": 127.18136892574672,\n        \"min\": 61.859094726232776,\n        \"max\": 407.4,\n        \"num_unique_values\": 8,\n        \"samples\": [\n          241.2295811518325,\n          248.05,\n          382.0\n        ],\n        \"semantic_type\": \"\",\n        \"description\": \"\"\n      }\n    },\n    {\n      \"column\": \"Jun\",\n      \"properties\": {\n        \"dtype\": \"number\",\n        \"std\": 133.2010149452467,\n        \"min\": 45.0,\n        \"max\": 419.5,\n        \"num_unique_values\": 8,\n        \"samples\": [\n          236.61910994764398,\n          250.0,\n          382.0\n        ],\n        \"semantic_type\": \"\",\n        \"description\": \"\"\n      }\n    },\n    {\n      \"column\": \"Jul\",\n      \"properties\": {\n        \"dtype\": \"number\",\n        \"std\": 140.59474301314793,\n        \"min\": 28.6,\n        \"max\": 440.2,\n        \"num_unique_values\": 8,\n        \"samples\": [\n          243.52068062827223,\n          250.2,\n          382.0\n        ],\n        \"semantic_type\": \"\",\n        \"description\": \"\"\n      }\n    },\n    {\n      \"column\": \"Aug\",\n      \"properties\": {\n        \"dtype\": \"number\",\n        \"std\": 133.1965961633552,\n        \"min\": 32.3,\n        \"max\": 406.9,\n        \"num_unique_values\": 8,\n        \"samples\": [\n          235.65968586387436,\n          242.0,\n          382.0\n        ],\n        \"semantic_type\": \"\",\n        \"description\": \"\"\n      }\n    },\n    {\n      \"column\": \"Sep\",\n      \"properties\": {\n        \"dtype\": \"number\",\n        \"std\": 122.36348567521779,\n        \"min\": 37.3,\n        \"max\": 382.0,\n        \"num_unique_values\": 8,\n        \"samples\": [\n          211.84188481675395,\n          216.3,\n          382.0\n        ],\n        \"semantic_type\": \"\",\n        \"description\": \"\"\n      }\n    },\n    {\n      \"column\": \"Oct\",\n      \"properties\": {\n        \"dtype\": \"number\",\n        \"std\": 126.05350490681809,\n        \"min\": 24.8,\n        \"max\": 382.0,\n        \"num_unique_values\": 8,\n        \"samples\": [\n          206.3767015706806,\n          209.9,\n          382.0\n        ],\n        \"semantic_type\": \"\",\n        \"description\": \"\"\n      }\n    },\n    {\n      \"column\": \"Nov\",\n      \"properties\": {\n        \"dtype\": \"number\",\n        \"std\": 132.3781288510622,\n        \"min\": 0.0,\n        \"max\": 382.0,\n        \"num_unique_values\": 8,\n        \"samples\": [\n          181.30811518324612,\n          181.5,\n          382.0\n        ],\n        \"semantic_type\": \"\",\n        \"description\": \"\"\n      }\n    },\n    {\n      \"column\": \"Dec\",\n      \"properties\": {\n        \"dtype\": \"number\",\n        \"std\": 133.52381906344561,\n        \"min\": 0.0,\n        \"max\": 382.0,\n        \"num_unique_values\": 8,\n        \"samples\": [\n          172.9107329842932,\n          169.39999999999998,\n          382.0\n        ],\n        \"semantic_type\": \"\",\n        \"description\": \"\"\n      }\n    },\n    {\n      \"column\": \"Year\",\n      \"properties\": {\n        \"dtype\": \"number\",\n        \"std\": 1276.7130235796685,\n        \"min\": 382.0,\n        \"max\": 4015.3,\n        \"num_unique_values\": 8,\n        \"samples\": [\n          2510.7718586387437,\n          2503.95,\n          382.0\n        ],\n        \"semantic_type\": \"\",\n        \"description\": \"\"\n      }\n    }\n  ]\n}"
            }
          },
          "metadata": {},
          "execution_count": 5
        }
      ]
    },
    {
      "cell_type": "markdown",
      "source": [
        "####Jan"
      ],
      "metadata": {
        "id": "KZZFbXu0V2v-"
      }
    },
    {
      "cell_type": "markdown",
      "source": [
        "- mean = 179.791885\n",
        "- std = 81.295034\n",
        "- min = 0.000000\n",
        "- 25% (q1) = 123.775000\n",
        "- 50% (q2) = 179.800000\n",
        "- 75% (q3) = 246.475000\n",
        "- max = 362.700000\n",
        "\n",
        "Pada Bulan Januari, Rata-Rata Durasi Matahari Terbit secara keseluruhan berada pada angka 179.791885 Jam.\n",
        "\n",
        "dengan Durasi terpendek 0 Jam dan Terpanjang 362.7 Jam"
      ],
      "metadata": {
        "id": "xzIlvLSJV_Mp"
      }
    },
    {
      "cell_type": "markdown",
      "source": [
        "####Feb"
      ],
      "metadata": {
        "id": "eqLKsTGxWGWn"
      }
    },
    {
      "cell_type": "markdown",
      "source": [
        "- mean = 177.874215\n",
        "- std = 64.780176\n",
        "- min = 22.600000\n",
        "- 25% (q1) = 129.500000\n",
        "- 50% (q2) = 178.150000\n",
        "- 75% (q3) = 228.800000\n",
        "- max = 314.900000\n",
        "\n",
        "Pada Bulan Februari, Rata-Rata Durasi Matahari Terbit secara keseluruhan berada pada angka 177.874215 Jam.\n",
        "\n",
        "dengan Durasi terpendek 22.6 Jam dan Terpanjang 314.9 Jam"
      ],
      "metadata": {
        "id": "vwPcSIZ1W9sx"
      }
    },
    {
      "cell_type": "markdown",
      "source": [
        "####Mar"
      ],
      "metadata": {
        "id": "r2Z9v8-SWyGY"
      }
    },
    {
      "cell_type": "markdown",
      "source": [
        "- mean = 207.212565\n",
        "- std = 58.254437\n",
        "- min = 47.000000\n",
        "- 25% (q1) = 163.475000\n",
        "- 50% (q2) = 208.500000\n",
        "- 75% (q3) = 251.775000\n",
        "- max = 335.500000\n",
        "\n",
        "Pada Bulan Maret, Rata-Rata Durasi Matahari Terbit secara keseluruhan berada pada angka 207.212565 Jam.\n",
        "\n",
        "dengan Durasi terpendek 47 Jam dan Terpanjang 335.5 Jam"
      ],
      "metadata": {
        "id": "ZIS-jZz7W0sf"
      }
    },
    {
      "cell_type": "markdown",
      "source": [
        "####Apr"
      ],
      "metadata": {
        "id": "BbjSxElsXA1J"
      }
    },
    {
      "cell_type": "markdown",
      "source": [
        "- mean = 218.642408\n",
        "- std = 52.889871\n",
        "- min = 65.100000\n",
        "- 25% (q1) = 183.000000\n",
        "- 50% (q2) = 219.000000\n",
        "- 75% (q3) = 253.700000\n",
        "- max = 365.500000\n",
        "\n",
        "Pada Bulan April, Rata-Rata Durasi Matahari Terbit secara keseluruhan berada pada angka 218.642408 Jam.\n",
        "\n",
        "dengan Durasi terpendek 65.1 Jam dan Terpanjang 365.5 Jam"
      ],
      "metadata": {
        "id": "Cia6116OXKYL"
      }
    },
    {
      "cell_type": "markdown",
      "source": [
        "####May"
      ],
      "metadata": {
        "id": "BA8MH2qHXLJA"
      }
    },
    {
      "cell_type": "markdown",
      "source": [
        "- mean = 241.229581\n",
        "- std = 61.859095\n",
        "- min = 68.200000\n",
        "- 25% (q1) = 197.125000\n",
        "- 50% (q2) = 248.050000\n",
        "- 75% (q3) = 284.650000\n",
        "- max = 407.400000\n",
        "\n",
        "Pada Bulan Mei, Rata-Rata Durasi Matahari Terbit secara keseluruhan berada pada angka 241.229581 Jam.\n",
        "\n",
        "dengan Durasi terpendek 68.2 Jam dan Terpanjang 407.4 Jam"
      ],
      "metadata": {
        "id": "92zAGENzXMxi"
      }
    },
    {
      "cell_type": "markdown",
      "source": [
        "####Jun"
      ],
      "metadata": {
        "id": "T6IDkHITXNCB"
      }
    },
    {
      "cell_type": "markdown",
      "source": [
        "- mean = 236.61911\n",
        "- std = 73.69579\n",
        "- min = 45.00000\n",
        "- 25% (q1) = 177.17500\n",
        "- 50% (q2) = 250.00000\n",
        "- 75% (q3) = 288.52500\n",
        "- max = 419.50000\n",
        "\n",
        "Pada Bulan Juni, Rata-Rata Durasi Matahari Terbit secara keseluruhan berada pada angka 236.61911 Jam.\n",
        "\n",
        "dengan Durasi terpendek 45 Jam dan Terpanjang 419.5 Jam"
      ],
      "metadata": {
        "id": "nxcKvDu8XO8g"
      }
    },
    {
      "cell_type": "markdown",
      "source": [
        "####Jul"
      ],
      "metadata": {
        "id": "yh_2pmfhXPWe"
      }
    },
    {
      "cell_type": "markdown",
      "source": [
        "- mean = 243.520681\n",
        "- std = 81.428095\n",
        "- min = 28.600000\n",
        "- 25% (q1) = 180.250000\n",
        "- 50% (q2) = 250.200000\n",
        "- 75% (q3) = 307.875000\n",
        "- max = 440.200000\n",
        "\n",
        "Pada Bulan Juli, Rata-Rata Durasi Matahari Terbit secara keseluruhan berada pada angka 243.520681 Jam.\n",
        "\n",
        "dengan Durasi terpendek 28.6 Jam dan Terpanjang 440.2 Jam"
      ],
      "metadata": {
        "id": "4cutxA6rXQxh"
      }
    },
    {
      "cell_type": "markdown",
      "source": [
        "####Aug"
      ],
      "metadata": {
        "id": "pWa-wDaEXRg7"
      }
    },
    {
      "cell_type": "markdown",
      "source": [
        "- mean = 235.659686\n",
        "- std = 73.568703\n",
        "- min = 32.300000\n",
        "- 25% (q1) = 186.000000\n",
        "- 50% (q2) = 242.000000\n",
        "- 75% (q3) = 294.375000\n",
        "- max = 406.900000\n",
        "\n",
        "Pada Bulan Agustus, Rata-Rata Durasi Matahari Terbit secara keseluruhan berada pada angka 235.659686 Jam.\n",
        "\n",
        "dengan Durasi terpendek 32.3 Jam dan Terpanjang 406.9 Jam"
      ],
      "metadata": {
        "id": "5Ti4O8K4XTQL"
      }
    },
    {
      "cell_type": "markdown",
      "source": [
        "####Sep"
      ],
      "metadata": {
        "id": "OP_LW4F1XTup"
      }
    },
    {
      "cell_type": "markdown",
      "source": [
        "- mean = 211.841885\n",
        "- std = 62.721577\n",
        "- min = 37.300000\n",
        "- 25% (q1) = 164.250000\n",
        "- 50% (q2) = 216.300000\n",
        "- 75% (q3) = 260.850000\n",
        "- max = 347.800000\n",
        "\n",
        "Pada Bulan September, Rata-Rata Durasi Matahari Terbit secara keseluruhan berada pada angka 211.841885 Jam.\n",
        "\n",
        "dengan Durasi terpendek 37.3 Jam dan Terpanjang 347.8 Jam"
      ],
      "metadata": {
        "id": "E2JMCKXzXWkg"
      }
    },
    {
      "cell_type": "markdown",
      "source": [
        "####Oct"
      ],
      "metadata": {
        "id": "CH6KuS5WXX9G"
      }
    },
    {
      "cell_type": "markdown",
      "source": [
        "- mean = 206.376702\n",
        "- std = 67.225742\n",
        "- min = 24.800000\n",
        "- 25% (q1) = 155.400000\n",
        "- 50% (q2) = 209.900000\n",
        "- 75% (q3) = 260.400000\n",
        "- max = 356.500000\n",
        "\n",
        "Pada Bulan Oktober, Rata-Rata Durasi Matahari Terbit secara keseluruhan berada pada angka 206.376702 Jam.\n",
        "\n",
        "dengan Durasi terpendek 24.8 Jam dan Terpanjang 356.5 Jam"
      ],
      "metadata": {
        "id": "muyqHGYHXbqA"
      }
    },
    {
      "cell_type": "markdown",
      "source": [
        "####Nov"
      ],
      "metadata": {
        "id": "45JSH8vLXdS1"
      }
    },
    {
      "cell_type": "markdown",
      "source": [
        "- mean = 181.308115\n",
        "- std = 77.726319\n",
        "- min = 0.000000\n",
        "- 25% (q1) = 126.250000\n",
        "- 50% (q2) = 181.500000\n",
        "- 75% (q3) = 246.000000\n",
        "- max = 363.000000\n",
        "\n",
        "Pada Bulan November, Rata-Rata Durasi Matahari Terbit secara keseluruhan berada pada angka 181.308115 Jam.\n",
        "\n",
        "dengan Durasi terpendek 0 Jam dan Terpanjang 363 Jam"
      ],
      "metadata": {
        "id": "PRae1XDMXeSV"
      }
    },
    {
      "cell_type": "markdown",
      "source": [
        "####Dec"
      ],
      "metadata": {
        "id": "p7EDCTJPXk1d"
      }
    },
    {
      "cell_type": "markdown",
      "source": [
        "- mean = 172.910733\n",
        "- std = 83.712516\n",
        "- min = 0.000000\n",
        "- 25% (q1) = 114.075000\n",
        "- 50% (q2) = 169.400000\n",
        "- 75% (q3) = 242.400000\n",
        "- max = 367.000000\n",
        "\n",
        "Pada Bulan Desember, Rata-Rata Durasi Matahari Terbit secara keseluruhan berada pada angka 172.910733 Jam.\n",
        "\n",
        "dengan Durasi terpendek 0 Jam dan Terpanjang 367 Jam"
      ],
      "metadata": {
        "id": "uegPtxq-XmiK"
      }
    },
    {
      "cell_type": "markdown",
      "source": [
        "####Year"
      ],
      "metadata": {
        "id": "se7mFifJY1vZ"
      }
    },
    {
      "cell_type": "markdown",
      "source": [
        "- mean = 2510.771859\n",
        "- std = 623.803514\n",
        "- min = 840.000000\n",
        "- 25% (q1) = 2025.875000\n",
        "- 50% (q2) = 2503.950000\n",
        "- 75% (q3) = 2988.475000\n",
        "- max = 4015.300000\n",
        "\n",
        "Dalam Satu Tahun Penuh Secara Keseluruhan, Rata-Rata Durasi Matahari Terbit  berada pada angka 2510.771859 Jam.\n",
        "\n",
        "dengan Durasi terpendek 840 Jam dan Terpanjang 4015.3 Jam dalam satu tahunnya."
      ],
      "metadata": {
        "id": "eSK-v87OY3fm"
      }
    },
    {
      "cell_type": "markdown",
      "source": [
        "#**Explanatory Data Analysis**"
      ],
      "metadata": {
        "id": "XDX_JfGr_JH4"
      }
    },
    {
      "cell_type": "markdown",
      "source": [
        "###Rata-Rata (Mean)"
      ],
      "metadata": {
        "id": "HJoeD1SpyYQf"
      }
    },
    {
      "cell_type": "code",
      "source": [
        "excl_kolom = [\"Country\", \"City\", \"Year\"]\n",
        "kolom_bulan = [col for col in df.columns if col not in excl_kolom]\n",
        "durasi_per_bulan = df[kolom_bulan]\n",
        "mean_per_bulan = durasi_per_bulan.mean()\n",
        "\n",
        "plt.figure(figsize=(10, 6))\n",
        "plt.bar(mean_per_bulan.index, mean_per_bulan.values)\n",
        "\n",
        "for i, v in enumerate(mean_per_bulan.values):\n",
        "    plt.text(i, v + 0.1, f\"{v:.2f}\", ha='center', va='bottom', fontsize=10)\n",
        "\n",
        "plt.xlabel(\"Rata-Rata Durasi per Bulan\")\n",
        "plt.ylabel(\"Nilai Mean\")\n",
        "plt.title(\"Persebaran Rata-Rata Durasi Matahari Terbit di Dunia per Bulan\")\n",
        "if len(mean_per_bulan) > 10:\n",
        "    plt.xticks(rotation=45)\n",
        "\n",
        "# Show the plot\n",
        "plt.grid(True)\n",
        "plt.tight_layout()\n",
        "plt.show()"
      ],
      "metadata": {
        "id": "YD6K_ZHZngjC"
      },
      "execution_count": null,
      "outputs": []
    },
    {
      "cell_type": "markdown",
      "source": [
        "###Nilai Minimum (Min)"
      ],
      "metadata": {
        "id": "dGmZ0lm3yu6K"
      }
    },
    {
      "cell_type": "code",
      "source": [
        "excl_kolom = [\"Country\", \"City\", \"Year\"]\n",
        "kolom_bulan = [col for col in df.columns if col not in excl_kolom]\n",
        "durasi_per_bulan = df[kolom_bulan]\n",
        "min_per_bulan = durasi_per_bulan.min()\n",
        "\n",
        "plt.figure(figsize=(10, 6))\n",
        "plt.bar(min_per_bulan.index, min_per_bulan.values)\n",
        "\n",
        "for i, v in enumerate(min_per_bulan.values):\n",
        "    plt.text(i, v + 0.1, f\"{v:.2f}\", ha='center', va='bottom', fontsize=10)\n",
        "\n",
        "plt.xlabel(\"Durasi Terpendek per Bulan\")\n",
        "plt.ylabel(\"Nilai Terpendek\")\n",
        "plt.title(\"Persebaran Durasi Terpendek Matahari Terbit di Dunia per Bulan\")\n",
        "if len(mean_per_bulan) > 10:\n",
        "    plt.xticks(rotation=45)\n",
        "\n",
        "# Show the plot\n",
        "plt.grid(True)\n",
        "plt.tight_layout()\n",
        "plt.show()"
      ],
      "metadata": {
        "colab": {
          "base_uri": "https://localhost:8080/",
          "height": 607
        },
        "id": "XBSZwt0MrTaL",
        "outputId": "46d2c6b0-963e-49ed-a77f-366b145a7684"
      },
      "execution_count": null,
      "outputs": [
        {
          "output_type": "display_data",
          "data": {
            "text/plain": [
              "<Figure size 1000x600 with 1 Axes>"
            ],
            "image/png": "[encoded data removed]"
          },
          "metadata": {}
        }
      ]
    },
    {
      "cell_type": "markdown",
      "source": [
        "###Nilai Maximum (Max)"
      ],
      "metadata": {
        "id": "ePZJAxz8y0Gz"
      }
    },
    {
      "cell_type": "code",
      "source": [
        "excl_kolom = [\"Country\", \"City\", \"Year\"]\n",
        "kolom_bulan = [col for col in df.columns if col not in excl_kolom]\n",
        "durasi_per_bulan = df[kolom_bulan]\n",
        "max_per_bulan = durasi_per_bulan.max()\n",
        "\n",
        "plt.figure(figsize=(10, 6))\n",
        "plt.bar(max_per_bulan.index, max_per_bulan.values)\n",
        "\n",
        "for i, v in enumerate(max_per_bulan.values):\n",
        "    plt.text(i, v + 0.1, f\"{v:.2f}\", ha='center', va='bottom', fontsize=10)\n",
        "\n",
        "plt.xlabel(\"Durasi Terpanjang per Bulan\")\n",
        "plt.ylabel(\"Nilai Terpanjang\")\n",
        "plt.title(\"Persebaran Durasi Terpanjang Matahari Terbit di Dunia per Bulan\")\n",
        "if len(mean_per_bulan) > 10:\n",
        "    plt.xticks(rotation=45)\n",
        "\n",
        "plt.grid(True)\n",
        "plt.tight_layout()\n",
        "plt.show()"
      ],
      "metadata": {
        "colab": {
          "base_uri": "https://localhost:8080/",
          "height": 607
        },
        "id": "JDYBQpIDu5lD",
        "outputId": "af99725f-bc1c-4315-e181-08bbc9bd7f53"
      },
      "execution_count": null,
      "outputs": [
        {
          "output_type": "display_data",
          "data": {
            "text/plain": [
              "<Figure size 1000x600 with 1 Axes>"
            ],
            "image/png": "[encoded data removed]"
          },
          "metadata": {}
        }
      ]
    },
    {
      "cell_type": "markdown",
      "source": [
        "###Penjelasan"
      ],
      "metadata": {
        "id": "L0kXJ1JozBuK"
      }
    },
    {
      "cell_type": "markdown",
      "source": [
        "Dari Ketiga Grafik diatas dapat kita lihat bahwa persebaran data dari Dataset ini berdistribusi Normal"
      ],
      "metadata": {
        "id": "6-XKuGve2FB3"
      }
    },
    {
      "cell_type": "markdown",
      "source": [
        "#**Verify Data Quality**"
      ],
      "metadata": {
        "id": "5d-_9IKO2buH"
      }
    },
    {
      "cell_type": "markdown",
      "source": [
        "###Missing Values"
      ],
      "metadata": {
        "id": "zkrzDwvN2iED"
      }
    },
    {
      "cell_type": "code",
      "source": [
        "df.info()"
      ],
      "metadata": {
        "colab": {
          "base_uri": "https://localhost:8080/"
        },
        "id": "-nhqX3JC2qQm",
        "outputId": "b1451277-1bfd-4029-f12f-761a6bb6a813"
      },
      "execution_count": null,
      "outputs": [
        {
          "output_type": "stream",
          "name": "stdout",
          "text": [
            "<class 'pandas.core.frame.DataFrame'>\n",
            "RangeIndex: 382 entries, 0 to 381\n",
            "Data columns (total 15 columns):\n",
            " #   Column   Non-Null Count  Dtype  \n",
            "---  ------   --------------  -----  \n",
            " 0   Country  382 non-null    object \n",
            " 1   City     382 non-null    object \n",
            " 2   Jan      382 non-null    float64\n",
            " 3   Feb      382 non-null    float64\n",
            " 4   Mar      382 non-null    float64\n",
            " 5   Apr      382 non-null    float64\n",
            " 6   May      382 non-null    float64\n",
            " 7   Jun      382 non-null    float64\n",
            " 8   Jul      382 non-null    float64\n",
            " 9   Aug      382 non-null    float64\n",
            " 10  Sep      382 non-null    float64\n",
            " 11  Oct      382 non-null    float64\n",
            " 12  Nov      382 non-null    float64\n",
            " 13  Dec      382 non-null    float64\n",
            " 14  Year     382 non-null    float64\n",
            "dtypes: float64(13), object(2)\n",
            "memory usage: 44.9+ KB\n"
          ]
        }
      ]
    },
    {
      "cell_type": "markdown",
      "source": [
        "Dari Hasil Syntax diatas ddapat dilihat bahwa Setiap Kolom Tidak Memiliki Row yang Kosong sehingga dapat diartikan bahwa **tidak ada Missing Value** pada Dataset Ini"
      ],
      "metadata": {
        "id": "7j175XYr25fx"
      }
    },
    {
      "cell_type": "markdown",
      "source": [
        "###Outliers Values"
      ],
      "metadata": {
        "id": "rQMSDdjl3WHI"
      }
    },
    {
      "cell_type": "code",
      "source": [
        "kolom_bulan = ['Jan', 'Feb', 'Mar', 'Apr', 'May', 'Jun', 'Jul', 'Aug', 'Sep', 'Oct', 'Nov', 'Dec']\n",
        "plt.figure(figsize=(12, 6))\n",
        "df[kolom_bulan].boxplot()\n",
        "\n",
        "plt.xlabel(\"Bulan\")\n",
        "plt.ylabel(\"Nilai\")\n",
        "plt.title(\"Distribusi Data Outliers Durasi Matahari Terbit di Dunia per Bulan\")\n",
        "if len(kolom_bulan) > 10:\n",
        "    plt.xticks(rotation=45)\n",
        "\n",
        "plt.grid(True)\n",
        "plt.tight_layout()\n",
        "plt.show()"
      ],
      "metadata": {
        "colab": {
          "base_uri": "https://localhost:8080/",
          "height": 607
        },
        "id": "sstJYH_e8_TF",
        "outputId": "f4122e49-3087-4d19-9252-495143d61912"
      },
      "execution_count": null,
      "outputs": [
        {
          "output_type": "display_data",
          "data": {
            "text/plain": [
              "<Figure size 1200x600 with 1 Axes>"
            ],
            "image/png": "[encoded data removed]"
          },
          "metadata": {}
        }
      ]
    },
    {
      "cell_type": "markdown",
      "source": [
        "Dari Grafik Boxplot diatas dapat dilihat Terdapat Data Outlier pada bulan April"
      ],
      "metadata": {
        "id": "qmP1D3Ib9xmb"
      }
    },
    {
      "cell_type": "markdown",
      "source": [
        "###Duplicated Values"
      ],
      "metadata": {
        "id": "_sIyy7lJ5QPJ"
      }
    },
    {
      "cell_type": "code",
      "source": [
        "duplicate = df.duplicated()\n",
        "\n",
        "if duplicate.any():\n",
        "    print(\"Ada Data Duplikat Di Dataset.\")\n",
        "    print(f\"Jumlah data duplikat: {duplicate.sum()}\")\n",
        "    print(df[duplicate])\n",
        "else:\n",
        "    print(\"Tidak Ada Duplikasi Data dalam Dataset\")"
      ],
      "metadata": {
        "colab": {
          "base_uri": "https://localhost:8080/"
        },
        "id": "BtA7_iWL6pl9",
        "outputId": "0af19a52-3c3b-4260-905c-1fe58c76cb32"
      },
      "execution_count": null,
      "outputs": [
        {
          "output_type": "stream",
          "name": "stdout",
          "text": [
            "Tidak Ada Duplikasi Data dalam Dataset\n"
          ]
        }
      ]
    },
    {
      "cell_type": "markdown",
      "source": [
        "Syntax **df.duplicated** diatas dapat mengidentifikasi adanya duplikasi data di dalam dataset.\n",
        "\n",
        "Dari Hasil syntax diatas dapat terlihat bahwa **tidak terdapat duplikasi data/value** dalam dataset"
      ],
      "metadata": {
        "id": "DOGf6lxX7W72"
      }
    },
    {
      "cell_type": "markdown",
      "source": [
        "#**Data Preparation**"
      ],
      "metadata": {
        "id": "86MooJCjR4jG"
      }
    },
    {
      "cell_type": "markdown",
      "source": [
        "##**Data Cleaning**"
      ],
      "metadata": {
        "id": "3m9dVOe_R8kB"
      }
    },
    {
      "cell_type": "markdown",
      "source": [
        "###**Penanganan Missing Values**"
      ],
      "metadata": {
        "id": "e63_evdXTZmB"
      }
    },
    {
      "cell_type": "markdown",
      "source": [
        "####Pengecekan Missing Values"
      ],
      "metadata": {
        "id": "wCiATCpoTkPv"
      }
    },
    {
      "cell_type": "markdown",
      "source": [
        "Pada Bagian Verify Data Quality sebelumnya juga telah dilakukan pengecekan Missing Value pada Data. Namun mari kita cek kembali adanya Missing Value pada Dataset ini\n",
        "\n",
        "Di bawah ini merupakan syntax untuk melakukan pengecekan Missing Values ke dalam bentuk persentase"
      ],
      "metadata": {
        "id": "GzM4Y4iETysw"
      }
    },
    {
      "cell_type": "code",
      "source": [
        "print((df.isna().sum() / len(df)) * 100)"
      ],
      "metadata": {
        "colab": {
          "base_uri": "https://localhost:8080/"
        },
        "id": "oUxu5bJ_RslX",
        "outputId": "e4168f5e-6633-4b59-ebc4-d18860bb2a4f"
      },
      "execution_count": null,
      "outputs": [
        {
          "output_type": "stream",
          "name": "stdout",
          "text": [
            "Country    0.0\n",
            "City       0.0\n",
            "Jan        0.0\n",
            "Feb        0.0\n",
            "Mar        0.0\n",
            "Apr        0.0\n",
            "May        0.0\n",
            "Jun        0.0\n",
            "Jul        0.0\n",
            "Aug        0.0\n",
            "Sep        0.0\n",
            "Oct        0.0\n",
            "Nov        0.0\n",
            "Dec        0.0\n",
            "Year       0.0\n",
            "dtype: float64\n"
          ]
        }
      ]
    },
    {
      "cell_type": "markdown",
      "source": [
        "Dari hasil Syntax diatas dapat dilihat bahwa setiap kolom memiliki persentase missing value **0(nol)** sehingga dapat disimpulkan bahwa pada Dataset ini **tidak terdapat adanya Missing Values** dan tidak diperlukan lagi penanganan lebih lanjut"
      ],
      "metadata": {
        "id": "dWrFWP_JSX26"
      }
    },
    {
      "cell_type": "markdown",
      "source": [
        "###**Penanganan Duplicated Values**"
      ],
      "metadata": {
        "id": "tnD84QLXUk-E"
      }
    },
    {
      "cell_type": "markdown",
      "source": [
        "####**Pengecekan Duplicated Values**"
      ],
      "metadata": {
        "id": "UXQNHJK5U8oA"
      }
    },
    {
      "cell_type": "markdown",
      "source": [
        "Pada Bagian Verify Data Quality sebelumnya juga telah dilakukan pengecekan Duplikasi pada Data. Namun mari kita cek kembali adanya Duplicated Value pada Dataset ini"
      ],
      "metadata": {
        "id": "8SaQ67-hVDeg"
      }
    },
    {
      "cell_type": "code",
      "source": [
        "duplicate = df.duplicated()\n",
        "\n",
        "if duplicate.any():\n",
        "    print(\"Ada Data Duplikat Di Dataset.\")\n",
        "    print(f\"Jumlah data duplikat: {duplicate.sum()}\")\n",
        "    print(df[duplicate])\n",
        "else:\n",
        "    print(\"Tidak Ada Duplikasi Data dalam Dataset\")"
      ],
      "metadata": {
        "id": "p8AGFMTrVS50",
        "colab": {
          "base_uri": "https://localhost:8080/"
        },
        "outputId": "d30f8825-33b4-4028-b87f-dedd376427f9"
      },
      "execution_count": null,
      "outputs": [
        {
          "output_type": "stream",
          "name": "stdout",
          "text": [
            "Tidak Ada Duplikasi Data dalam Dataset\n"
          ]
        }
      ]
    },
    {
      "cell_type": "markdown",
      "source": [
        "Dari Hasil Syntax diatas terlihat bahwa pada Dataset ini **tidak terdapat adanya Duplikasi Data** sehingga tidak diperlukan Penanganan Lebih lanjut dalam hal ini"
      ],
      "metadata": {
        "id": "xmn-VsUYWBPd"
      }
    },
    {
      "cell_type": "markdown",
      "source": [
        "###**Penanganan Outliers**"
      ],
      "metadata": {
        "id": "aVPtsP7mWxwD"
      }
    },
    {
      "cell_type": "markdown",
      "source": [
        "####Pengecekan Data Outliers"
      ],
      "metadata": {
        "id": "KMqYu3d7W3vV"
      }
    },
    {
      "cell_type": "markdown",
      "source": [
        "Seperti Duplicated dan Missing Values, Data Outliers juga telah dicek sebelumnya pada bagian Verify Data Quality dalam bentuk grafik Boxplot. Namun, dengan Syntax di bawah ini akan memperlihatkan Data Outliers dalam bentuk Persentase"
      ],
      "metadata": {
        "id": "lsjpFc1NXQN9"
      }
    },
    {
      "cell_type": "code",
      "source": [
        "results = []\n",
        "\n",
        "cols = df.select_dtypes(include=['float64', 'int64'])\n",
        "\n",
        "for col in cols:\n",
        "  q1 = df[col].quantile(0.25)\n",
        "  q3 = df[col].quantile(0.75)\n",
        "  iqr = q3 - q1\n",
        "  lower_bound = q1 - 1.5*iqr\n",
        "  upper_bound = q3 + 1.5*iqr\n",
        "  outliers = df[(df[col] < lower_bound) | (df[col] > upper_bound)]\n",
        "  percent_outliers = (len(outliers)/len(df))*100\n",
        "  results.append({'Kolom': col, 'Persentase Outliers': percent_outliers})\n",
        "\n",
        "# Dataframe dari list hasil\n",
        "results_df = pd.DataFrame(results)\n",
        "results_df.set_index('Kolom', inplace=True)\n",
        "results_df = results_df.rename_axis(None, axis=0).rename_axis('Kolom', axis=1)\n",
        "\n",
        "# Tampilkan dataframe\n",
        "display(results_df)"
      ],
      "metadata": {
        "colab": {
          "base_uri": "https://localhost:8080/",
          "height": 457
        },
        "id": "JEFsp_rPXHrb",
        "outputId": "fb279113-ef0f-48dd-945f-c3911a68da83"
      },
      "execution_count": null,
      "outputs": [
        {
          "output_type": "display_data",
          "data": {
            "text/plain": [
              "Kolom  Persentase Outliers\n",
              "Jan                0.00000\n",
              "Feb                0.00000\n",
              "Mar                0.00000\n",
              "Apr                0.52356\n",
              "May                0.00000\n",
              "Jun                0.00000\n",
              "Jul                0.00000\n",
              "Aug                0.00000\n",
              "Sep                0.00000\n",
              "Oct                0.00000\n",
              "Nov                0.00000\n",
              "Dec                0.00000\n",
              "Year               0.00000"
            ],
            "text/html": [
              "\n",
              "  <div id=\"df-e6bfe684-b2d2-4753-aeda-e068148bb39d\" class=\"colab-df-container\">\n",
              "    <div>\n",
              "<style scoped>\n",
              "    .dataframe tbody tr th:only-of-type {\n",
              "        vertical-align: middle;\n",
              "    }\n",
              "\n",
              "    .dataframe tbody tr th {\n",
              "        vertical-align: top;\n",
              "    }\n",
              "\n",
              "    .dataframe thead th {\n",
              "        text-align: right;\n",
              "    }\n",
              "</style>\n",
              "<table border=\"1\" class=\"dataframe\">\n",
              "  <thead>\n",
              "    <tr style=\"text-align: right;\">\n",
              "      <th>Kolom</th>\n",
              "      <th>Persentase Outliers</th>\n",
              "    </tr>\n",
              "  </thead>\n",
              "  <tbody>\n",
              "    <tr>\n",
              "      <th>Jan</th>\n",
              "      <td>0.00000</td>\n",
              "    </tr>\n",
              "    <tr>\n",
              "      <th>Feb</th>\n",
              "      <td>0.00000</td>\n",
              "    </tr>\n",
              "    <tr>\n",
              "      <th>Mar</th>\n",
              "      <td>0.00000</td>\n",
              "    </tr>\n",
              "    <tr>\n",
              "      <th>Apr</th>\n",
              "      <td>0.52356</td>\n",
              "    </tr>\n",
              "    <tr>\n",
              "      <th>May</th>\n",
              "      <td>0.00000</td>\n",
              "    </tr>\n",
              "    <tr>\n",
              "      <th>Jun</th>\n",
              "      <td>0.00000</td>\n",
              "    </tr>\n",
              "    <tr>\n",
              "      <th>Jul</th>\n",
              "      <td>0.00000</td>\n",
              "    </tr>\n",
              "    <tr>\n",
              "      <th>Aug</th>\n",
              "      <td>0.00000</td>\n",
              "    </tr>\n",
              "    <tr>\n",
              "      <th>Sep</th>\n",
              "      <td>0.00000</td>\n",
              "    </tr>\n",
              "    <tr>\n",
              "      <th>Oct</th>\n",
              "      <td>0.00000</td>\n",
              "    </tr>\n",
              "    <tr>\n",
              "      <th>Nov</th>\n",
              "      <td>0.00000</td>\n",
              "    </tr>\n",
              "    <tr>\n",
              "      <th>Dec</th>\n",
              "      <td>0.00000</td>\n",
              "    </tr>\n",
              "    <tr>\n",
              "      <th>Year</th>\n",
              "      <td>0.00000</td>\n",
              "    </tr>\n",
              "  </tbody>\n",
              "</table>\n",
              "</div>\n",
              "    <div class=\"colab-df-buttons\">\n",
              "\n",
              "  <div class=\"colab-df-container\">\n",
              "    <button class=\"colab-df-convert\" onclick=\"convertToInteractive('df-e6bfe684-b2d2-4753-aeda-e068148bb39d')\"\n",
              "            title=\"Convert this dataframe to an interactive table.\"\n",
              "            style=\"display:none;\">\n",
              "\n",
              "  <svg xmlns=\"http://www.w3.org/2000/svg\" height=\"24px\" viewBox=\"0 -960 960 960\">\n",
              "    <path d=\"M120-120v-720h720v720H120Zm60-500h600v-160H180v160Zm220 220h160v-160H400v160Zm0 220h160v-160H400v160ZM180-400h160v-160H180v160Zm440 0h160v-160H620v160ZM180-180h160v-160H180v160Zm440 0h160v-160H620v160Z\"/>\n",
              "  </svg>\n",
              "    </button>\n",
              "\n",
              "  <style>\n",
              "    .colab-df-container {\n",
              "      display:flex;\n",
              "      gap: 12px;\n",
              "    }\n",
              "\n",
              "    .colab-df-convert {\n",
              "      background-color: #E8F0FE;\n",
              "      border: none;\n",
              "      border-radius: 50%;\n",
              "      cursor: pointer;\n",
              "      display: none;\n",
              "      fill: #1967D2;\n",
              "      height: 32px;\n",
              "      padding: 0 0 0 0;\n",
              "      width: 32px;\n",
              "    }\n",
              "\n",
              "    .colab-df-convert:hover {\n",
              "      background-color: #E2EBFA;\n",
              "      box-shadow: 0px 1px 2px rgba(60, 64, 67, 0.3), 0px 1px 3px 1px rgba(60, 64, 67, 0.15);\n",
              "      fill: #174EA6;\n",
              "    }\n",
              "\n",
              "    .colab-df-buttons div {\n",
              "      margin-bottom: 4px;\n",
              "    }\n",
              "\n",
              "    [theme=dark] .colab-df-convert {\n",
              "      background-color: #3B4455;\n",
              "      fill: #D2E3FC;\n",
              "    }\n",
              "\n",
              "    [theme=dark] .colab-df-convert:hover {\n",
              "      background-color: #434B5C;\n",
              "      box-shadow: 0px 1px 3px 1px rgba(0, 0, 0, 0.15);\n",
              "      filter: drop-shadow(0px 1px 2px rgba(0, 0, 0, 0.3));\n",
              "      fill: #FFFFFF;\n",
              "    }\n",
              "  </style>\n",
              "\n",
              "    <script>\n",
              "      const buttonEl =\n",
              "        document.querySelector('#df-e6bfe684-b2d2-4753-aeda-e068148bb39d button.colab-df-convert');\n",
              "      buttonEl.style.display =\n",
              "        google.colab.kernel.accessAllowed ? 'block' : 'none';\n",
              "\n",
              "      async function convertToInteractive(key) {\n",
              "        const element = document.querySelector('#df-e6bfe684-b2d2-4753-aeda-e068148bb39d');\n",
              "        const dataTable =\n",
              "          await google.colab.kernel.invokeFunction('convertToInteractive',\n",
              "                                                    [key], {});\n",
              "        if (!dataTable) return;\n",
              "\n",
              "        const docLinkHtml = 'Like what you see? Visit the ' +\n",
              "          '<a target=\"_blank\" href=https://colab.research.google.com/notebooks/data_table.ipynb>data table notebook</a>'\n",
              "          + ' to learn more about interactive tables.';\n",
              "        element.innerHTML = '';\n",
              "        dataTable['output_type'] = 'display_data';\n",
              "        await google.colab.output.renderOutput(dataTable, element);\n",
              "        const docLink = document.createElement('div');\n",
              "        docLink.innerHTML = docLinkHtml;\n",
              "        element.appendChild(docLink);\n",
              "      }\n",
              "    </script>\n",
              "  </div>\n",
              "\n",
              "\n",
              "<div id=\"df-a8823e79-994a-4488-9dfa-44dd434c9e4f\">\n",
              "  <button class=\"colab-df-quickchart\" onclick=\"quickchart('df-a8823e79-994a-4488-9dfa-44dd434c9e4f')\"\n",
              "            title=\"Suggest charts\"\n",
              "            style=\"display:none;\">\n",
              "\n",
              "<svg xmlns=\"http://www.w3.org/2000/svg\" height=\"24px\"viewBox=\"0 0 24 24\"\n",
              "     width=\"24px\">\n",
              "    <g>\n",
              "        <path d=\"M19 3H5c-1.1 0-2 .9-2 2v14c0 1.1.9 2 2 2h14c1.1 0 2-.9 2-2V5c0-1.1-.9-2-2-2zM9 17H7v-7h2v7zm4 0h-2V7h2v10zm4 0h-2v-4h2v4z\"/>\n",
              "    </g>\n",
              "</svg>\n",
              "  </button>\n",
              "\n",
              "<style>\n",
              "  .colab-df-quickchart {\n",
              "      --bg-color: #E8F0FE;\n",
              "      --fill-color: #1967D2;\n",
              "      --hover-bg-color: #E2EBFA;\n",
              "      --hover-fill-color: #174EA6;\n",
              "      --disabled-fill-color: #AAA;\n",
              "      --disabled-bg-color: #DDD;\n",
              "  }\n",
              "\n",
              "  [theme=dark] .colab-df-quickchart {\n",
              "      --bg-color: #3B4455;\n",
              "      --fill-color: #D2E3FC;\n",
              "      --hover-bg-color: #434B5C;\n",
              "      --hover-fill-color: #FFFFFF;\n",
              "      --disabled-bg-color: #3B4455;\n",
              "      --disabled-fill-color: #666;\n",
              "  }\n",
              "\n",
              "  .colab-df-quickchart {\n",
              "    background-color: var(--bg-color);\n",
              "    border: none;\n",
              "    border-radius: 50%;\n",
              "    cursor: pointer;\n",
              "    display: none;\n",
              "    fill: var(--fill-color);\n",
              "    height: 32px;\n",
              "    padding: 0;\n",
              "    width: 32px;\n",
              "  }\n",
              "\n",
              "  .colab-df-quickchart:hover {\n",
              "    background-color: var(--hover-bg-color);\n",
              "    box-shadow: 0 1px 2px rgba(60, 64, 67, 0.3), 0 1px 3px 1px rgba(60, 64, 67, 0.15);\n",
              "    fill: var(--button-hover-fill-color);\n",
              "  }\n",
              "\n",
              "  .colab-df-quickchart-complete:disabled,\n",
              "  .colab-df-quickchart-complete:disabled:hover {\n",
              "    background-color: var(--disabled-bg-color);\n",
              "    fill: var(--disabled-fill-color);\n",
              "    box-shadow: none;\n",
              "  }\n",
              "\n",
              "  .colab-df-spinner {\n",
              "    border: 2px solid var(--fill-color);\n",
              "    border-color: transparent;\n",
              "    border-bottom-color: var(--fill-color);\n",
              "    animation:\n",
              "      spin 1s steps(1) infinite;\n",
              "  }\n",
              "\n",
              "  @keyframes spin {\n",
              "    0% {\n",
              "      border-color: transparent;\n",
              "      border-bottom-color: var(--fill-color);\n",
              "      border-left-color: var(--fill-color);\n",
              "    }\n",
              "    20% {\n",
              "      border-color: transparent;\n",
              "      border-left-color: var(--fill-color);\n",
              "      border-top-color: var(--fill-color);\n",
              "    }\n",
              "    30% {\n",
              "      border-color: transparent;\n",
              "      border-left-color: var(--fill-color);\n",
              "      border-top-color: var(--fill-color);\n",
              "      border-right-color: var(--fill-color);\n",
              "    }\n",
              "    40% {\n",
              "      border-color: transparent;\n",
              "      border-right-color: var(--fill-color);\n",
              "      border-top-color: var(--fill-color);\n",
              "    }\n",
              "    60% {\n",
              "      border-color: transparent;\n",
              "      border-right-color: var(--fill-color);\n",
              "    }\n",
              "    80% {\n",
              "      border-color: transparent;\n",
              "      border-right-color: var(--fill-color);\n",
              "      border-bottom-color: var(--fill-color);\n",
              "    }\n",
              "    90% {\n",
              "      border-color: transparent;\n",
              "      border-bottom-color: var(--fill-color);\n",
              "    }\n",
              "  }\n",
              "</style>\n",
              "\n",
              "  <script>\n",
              "    async function quickchart(key) {\n",
              "      const quickchartButtonEl =\n",
              "        document.querySelector('#' + key + ' button');\n",
              "      quickchartButtonEl.disabled = true;  // To prevent multiple clicks.\n",
              "      quickchartButtonEl.classList.add('colab-df-spinner');\n",
              "      try {\n",
              "        const charts = await google.colab.kernel.invokeFunction(\n",
              "            'suggestCharts', [key], {});\n",
              "      } catch (error) {\n",
              "        console.error('Error during call to suggestCharts:', error);\n",
              "      }\n",
              "      quickchartButtonEl.classList.remove('colab-df-spinner');\n",
              "      quickchartButtonEl.classList.add('colab-df-quickchart-complete');\n",
              "    }\n",
              "    (() => {\n",
              "      let quickchartButtonEl =\n",
              "        document.querySelector('#df-a8823e79-994a-4488-9dfa-44dd434c9e4f button');\n",
              "      quickchartButtonEl.style.display =\n",
              "        google.colab.kernel.accessAllowed ? 'block' : 'none';\n",
              "    })();\n",
              "  </script>\n",
              "</div>\n",
              "    </div>\n",
              "  </div>\n"
            ],
            "application/vnd.google.colaboratory.intrinsic+json": {
              "type": "dataframe",
              "variable_name": "results_df",
              "summary": "{\n  \"name\": \"results_df\",\n  \"rows\": 13,\n  \"fields\": [\n    {\n      \"column\": \"Persentase Outliers\",\n      \"properties\": {\n        \"dtype\": \"number\",\n        \"std\": 0.14520947545163065,\n        \"min\": 0.0,\n        \"max\": 0.5235602094240838,\n        \"num_unique_values\": 2,\n        \"samples\": [\n          0.5235602094240838,\n          0.0\n        ],\n        \"semantic_type\": \"\",\n        \"description\": \"\"\n      }\n    }\n  ]\n}"
            }
          },
          "metadata": {}
        }
      ]
    },
    {
      "cell_type": "markdown",
      "source": [
        "Dari Hasil Syntax diatas terlihat terdapat Data Outliers sebesar 0,52356% pada Kolom April"
      ],
      "metadata": {
        "id": "IBMZ9sHBX4bF"
      }
    },
    {
      "cell_type": "markdown",
      "source": [
        "####Hapus Outlier\n",
        "\n",
        "\n",
        "\n",
        "\n",
        "\n"
      ],
      "metadata": {
        "id": "CuqnOFlAW93k"
      }
    },
    {
      "cell_type": "markdown",
      "source": [
        "Dikarenakan **Terdapat Data Outlier** pada bulan **April** dengan Persentase Outliers **kurang dari 10%** maka diputuskan lebih baik untuk **menghapus Data Outliers** tersebut.\n",
        "\n",
        "Syntax dibawah ini akan menghapus data Outliers yang ada"
      ],
      "metadata": {
        "id": "iAc0Zw9KY7Sm"
      }
    },
    {
      "cell_type": "code",
      "source": [
        "Q1 = df['Apr'].quantile(0.25)\n",
        "Q3 = df['Apr'].quantile(0.75)\n",
        "IQR = Q3 - Q1\n",
        "lower_bound = Q1 - 1.5 * IQR\n",
        "upper_bound = Q3 + 1.5 * IQR\n",
        "\n",
        "df = df[(df['Apr'] >= lower_bound) & (df['Apr'] <= upper_bound)]"
      ],
      "metadata": {
        "id": "edt-Qf7iaCnw"
      },
      "execution_count": null,
      "outputs": []
    },
    {
      "cell_type": "markdown",
      "source": [
        "####Pengecekan Ulang"
      ],
      "metadata": {
        "id": "1yTbGWRDawLR"
      }
    },
    {
      "cell_type": "markdown",
      "source": [
        "Setelah dilakukan penghapusan Data Outliers mari kita mengecek kembali apakah data Outliers telah berhasi dihapus"
      ],
      "metadata": {
        "id": "EVpTilb_azj3"
      }
    },
    {
      "cell_type": "code",
      "source": [
        "results = []\n",
        "\n",
        "cols = df.select_dtypes(include=['float64', 'int64'])\n",
        "\n",
        "for col in cols:\n",
        "  q1 = df[col].quantile(0.25)\n",
        "  q3 = df[col].quantile(0.75)\n",
        "  iqr = q3 - q1\n",
        "  lower_bound = q1 - 1.5*iqr\n",
        "  upper_bound = q3 + 1.5*iqr\n",
        "  outliers = df[(df[col] < lower_bound) | (df[col] > upper_bound)]\n",
        "  percent_outliers = (len(outliers)/len(df))*100\n",
        "  results.append({'Kolom': col, 'Persentase Outliers': percent_outliers})\n",
        "\n",
        "# Dataframe dari list hasil\n",
        "results_df = pd.DataFrame(results)\n",
        "results_df.set_index('Kolom', inplace=True)\n",
        "results_df = results_df.rename_axis(None, axis=0).rename_axis('Kolom', axis=1)\n",
        "\n",
        "# Tampilkan dataframe\n",
        "display(results_df)"
      ],
      "metadata": {
        "colab": {
          "base_uri": "https://localhost:8080/",
          "height": 457
        },
        "id": "tznNOoohbCb3",
        "outputId": "cb9eb57b-a097-4e49-d66d-de24d5e8944f"
      },
      "execution_count": null,
      "outputs": [
        {
          "output_type": "display_data",
          "data": {
            "text/plain": [
              "Kolom  Persentase Outliers\n",
              "Jan                    0.0\n",
              "Feb                    0.0\n",
              "Mar                    0.0\n",
              "Apr                    0.0\n",
              "May                    0.0\n",
              "Jun                    0.0\n",
              "Jul                    0.0\n",
              "Aug                    0.0\n",
              "Sep                    0.0\n",
              "Oct                    0.0\n",
              "Nov                    0.0\n",
              "Dec                    0.0\n",
              "Year                   0.0"
            ],
            "text/html": [
              "\n",
              "  <div id=\"df-709bc321-05af-4e22-b429-3b0888094516\" class=\"colab-df-container\">\n",
              "    <div>\n",
              "<style scoped>\n",
              "    .dataframe tbody tr th:only-of-type {\n",
              "        vertical-align: middle;\n",
              "    }\n",
              "\n",
              "    .dataframe tbody tr th {\n",
              "        vertical-align: top;\n",
              "    }\n",
              "\n",
              "    .dataframe thead th {\n",
              "        text-align: right;\n",
              "    }\n",
              "</style>\n",
              "<table border=\"1\" class=\"dataframe\">\n",
              "  <thead>\n",
              "    <tr style=\"text-align: right;\">\n",
              "      <th>Kolom</th>\n",
              "      <th>Persentase Outliers</th>\n",
              "    </tr>\n",
              "  </thead>\n",
              "  <tbody>\n",
              "    <tr>\n",
              "      <th>Jan</th>\n",
              "      <td>0.0</td>\n",
              "    </tr>\n",
              "    <tr>\n",
              "      <th>Feb</th>\n",
              "      <td>0.0</td>\n",
              "    </tr>\n",
              "    <tr>\n",
              "      <th>Mar</th>\n",
              "      <td>0.0</td>\n",
              "    </tr>\n",
              "    <tr>\n",
              "      <th>Apr</th>\n",
              "      <td>0.0</td>\n",
              "    </tr>\n",
              "    <tr>\n",
              "      <th>May</th>\n",
              "      <td>0.0</td>\n",
              "    </tr>\n",
              "    <tr>\n",
              "      <th>Jun</th>\n",
              "      <td>0.0</td>\n",
              "    </tr>\n",
              "    <tr>\n",
              "      <th>Jul</th>\n",
              "      <td>0.0</td>\n",
              "    </tr>\n",
              "    <tr>\n",
              "      <th>Aug</th>\n",
              "      <td>0.0</td>\n",
              "    </tr>\n",
              "    <tr>\n",
              "      <th>Sep</th>\n",
              "      <td>0.0</td>\n",
              "    </tr>\n",
              "    <tr>\n",
              "      <th>Oct</th>\n",
              "      <td>0.0</td>\n",
              "    </tr>\n",
              "    <tr>\n",
              "      <th>Nov</th>\n",
              "      <td>0.0</td>\n",
              "    </tr>\n",
              "    <tr>\n",
              "      <th>Dec</th>\n",
              "      <td>0.0</td>\n",
              "    </tr>\n",
              "    <tr>\n",
              "      <th>Year</th>\n",
              "      <td>0.0</td>\n",
              "    </tr>\n",
              "  </tbody>\n",
              "</table>\n",
              "</div>\n",
              "    <div class=\"colab-df-buttons\">\n",
              "\n",
              "  <div class=\"colab-df-container\">\n",
              "    <button class=\"colab-df-convert\" onclick=\"convertToInteractive('df-709bc321-05af-4e22-b429-3b0888094516')\"\n",
              "            title=\"Convert this dataframe to an interactive table.\"\n",
              "            style=\"display:none;\">\n",
              "\n",
              "  <svg xmlns=\"http://www.w3.org/2000/svg\" height=\"24px\" viewBox=\"0 -960 960 960\">\n",
              "    <path d=\"M120-120v-720h720v720H120Zm60-500h600v-160H180v160Zm220 220h160v-160H400v160Zm0 220h160v-160H400v160ZM180-400h160v-160H180v160Zm440 0h160v-160H620v160ZM180-180h160v-160H180v160Zm440 0h160v-160H620v160Z\"/>\n",
              "  </svg>\n",
              "    </button>\n",
              "\n",
              "  <style>\n",
              "    .colab-df-container {\n",
              "      display:flex;\n",
              "      gap: 12px;\n",
              "    }\n",
              "\n",
              "    .colab-df-convert {\n",
              "      background-color: #E8F0FE;\n",
              "      border: none;\n",
              "      border-radius: 50%;\n",
              "      cursor: pointer;\n",
              "      display: none;\n",
              "      fill: #1967D2;\n",
              "      height: 32px;\n",
              "      padding: 0 0 0 0;\n",
              "      width: 32px;\n",
              "    }\n",
              "\n",
              "    .colab-df-convert:hover {\n",
              "      background-color: #E2EBFA;\n",
              "      box-shadow: 0px 1px 2px rgba(60, 64, 67, 0.3), 0px 1px 3px 1px rgba(60, 64, 67, 0.15);\n",
              "      fill: #174EA6;\n",
              "    }\n",
              "\n",
              "    .colab-df-buttons div {\n",
              "      margin-bottom: 4px;\n",
              "    }\n",
              "\n",
              "    [theme=dark] .colab-df-convert {\n",
              "      background-color: #3B4455;\n",
              "      fill: #D2E3FC;\n",
              "    }\n",
              "\n",
              "    [theme=dark] .colab-df-convert:hover {\n",
              "      background-color: #434B5C;\n",
              "      box-shadow: 0px 1px 3px 1px rgba(0, 0, 0, 0.15);\n",
              "      filter: drop-shadow(0px 1px 2px rgba(0, 0, 0, 0.3));\n",
              "      fill: #FFFFFF;\n",
              "    }\n",
              "  </style>\n",
              "\n",
              "    <script>\n",
              "      const buttonEl =\n",
              "        document.querySelector('#df-709bc321-05af-4e22-b429-3b0888094516 button.colab-df-convert');\n",
              "      buttonEl.style.display =\n",
              "        google.colab.kernel.accessAllowed ? 'block' : 'none';\n",
              "\n",
              "      async function convertToInteractive(key) {\n",
              "        const element = document.querySelector('#df-709bc321-05af-4e22-b429-3b0888094516');\n",
              "        const dataTable =\n",
              "          await google.colab.kernel.invokeFunction('convertToInteractive',\n",
              "                                                    [key], {});\n",
              "        if (!dataTable) return;\n",
              "\n",
              "        const docLinkHtml = 'Like what you see? Visit the ' +\n",
              "          '<a target=\"_blank\" href=https://colab.research.google.com/notebooks/data_table.ipynb>data table notebook</a>'\n",
              "          + ' to learn more about interactive tables.';\n",
              "        element.innerHTML = '';\n",
              "        dataTable['output_type'] = 'display_data';\n",
              "        await google.colab.output.renderOutput(dataTable, element);\n",
              "        const docLink = document.createElement('div');\n",
              "        docLink.innerHTML = docLinkHtml;\n",
              "        element.appendChild(docLink);\n",
              "      }\n",
              "    </script>\n",
              "  </div>\n",
              "\n",
              "\n",
              "<div id=\"df-a352a2b3-d058-4ad7-b85b-10a4f7c477c2\">\n",
              "  <button class=\"colab-df-quickchart\" onclick=\"quickchart('df-a352a2b3-d058-4ad7-b85b-10a4f7c477c2')\"\n",
              "            title=\"Suggest charts\"\n",
              "            style=\"display:none;\">\n",
              "\n",
              "<svg xmlns=\"http://www.w3.org/2000/svg\" height=\"24px\"viewBox=\"0 0 24 24\"\n",
              "     width=\"24px\">\n",
              "    <g>\n",
              "        <path d=\"M19 3H5c-1.1 0-2 .9-2 2v14c0 1.1.9 2 2 2h14c1.1 0 2-.9 2-2V5c0-1.1-.9-2-2-2zM9 17H7v-7h2v7zm4 0h-2V7h2v10zm4 0h-2v-4h2v4z\"/>\n",
              "    </g>\n",
              "</svg>\n",
              "  </button>\n",
              "\n",
              "<style>\n",
              "  .colab-df-quickchart {\n",
              "      --bg-color: #E8F0FE;\n",
              "      --fill-color: #1967D2;\n",
              "      --hover-bg-color: #E2EBFA;\n",
              "      --hover-fill-color: #174EA6;\n",
              "      --disabled-fill-color: #AAA;\n",
              "      --disabled-bg-color: #DDD;\n",
              "  }\n",
              "\n",
              "  [theme=dark] .colab-df-quickchart {\n",
              "      --bg-color: #3B4455;\n",
              "      --fill-color: #D2E3FC;\n",
              "      --hover-bg-color: #434B5C;\n",
              "      --hover-fill-color: #FFFFFF;\n",
              "      --disabled-bg-color: #3B4455;\n",
              "      --disabled-fill-color: #666;\n",
              "  }\n",
              "\n",
              "  .colab-df-quickchart {\n",
              "    background-color: var(--bg-color);\n",
              "    border: none;\n",
              "    border-radius: 50%;\n",
              "    cursor: pointer;\n",
              "    display: none;\n",
              "    fill: var(--fill-color);\n",
              "    height: 32px;\n",
              "    padding: 0;\n",
              "    width: 32px;\n",
              "  }\n",
              "\n",
              "  .colab-df-quickchart:hover {\n",
              "    background-color: var(--hover-bg-color);\n",
              "    box-shadow: 0 1px 2px rgba(60, 64, 67, 0.3), 0 1px 3px 1px rgba(60, 64, 67, 0.15);\n",
              "    fill: var(--button-hover-fill-color);\n",
              "  }\n",
              "\n",
              "  .colab-df-quickchart-complete:disabled,\n",
              "  .colab-df-quickchart-complete:disabled:hover {\n",
              "    background-color: var(--disabled-bg-color);\n",
              "    fill: var(--disabled-fill-color);\n",
              "    box-shadow: none;\n",
              "  }\n",
              "\n",
              "  .colab-df-spinner {\n",
              "    border: 2px solid var(--fill-color);\n",
              "    border-color: transparent;\n",
              "    border-bottom-color: var(--fill-color);\n",
              "    animation:\n",
              "      spin 1s steps(1) infinite;\n",
              "  }\n",
              "\n",
              "  @keyframes spin {\n",
              "    0% {\n",
              "      border-color: transparent;\n",
              "      border-bottom-color: var(--fill-color);\n",
              "      border-left-color: var(--fill-color);\n",
              "    }\n",
              "    20% {\n",
              "      border-color: transparent;\n",
              "      border-left-color: var(--fill-color);\n",
              "      border-top-color: var(--fill-color);\n",
              "    }\n",
              "    30% {\n",
              "      border-color: transparent;\n",
              "      border-left-color: var(--fill-color);\n",
              "      border-top-color: var(--fill-color);\n",
              "      border-right-color: var(--fill-color);\n",
              "    }\n",
              "    40% {\n",
              "      border-color: transparent;\n",
              "      border-right-color: var(--fill-color);\n",
              "      border-top-color: var(--fill-color);\n",
              "    }\n",
              "    60% {\n",
              "      border-color: transparent;\n",
              "      border-right-color: var(--fill-color);\n",
              "    }\n",
              "    80% {\n",
              "      border-color: transparent;\n",
              "      border-right-color: var(--fill-color);\n",
              "      border-bottom-color: var(--fill-color);\n",
              "    }\n",
              "    90% {\n",
              "      border-color: transparent;\n",
              "      border-bottom-color: var(--fill-color);\n",
              "    }\n",
              "  }\n",
              "</style>\n",
              "\n",
              "  <script>\n",
              "    async function quickchart(key) {\n",
              "      const quickchartButtonEl =\n",
              "        document.querySelector('#' + key + ' button');\n",
              "      quickchartButtonEl.disabled = true;  // To prevent multiple clicks.\n",
              "      quickchartButtonEl.classList.add('colab-df-spinner');\n",
              "      try {\n",
              "        const charts = await google.colab.kernel.invokeFunction(\n",
              "            'suggestCharts', [key], {});\n",
              "      } catch (error) {\n",
              "        console.error('Error during call to suggestCharts:', error);\n",
              "      }\n",
              "      quickchartButtonEl.classList.remove('colab-df-spinner');\n",
              "      quickchartButtonEl.classList.add('colab-df-quickchart-complete');\n",
              "    }\n",
              "    (() => {\n",
              "      let quickchartButtonEl =\n",
              "        document.querySelector('#df-a352a2b3-d058-4ad7-b85b-10a4f7c477c2 button');\n",
              "      quickchartButtonEl.style.display =\n",
              "        google.colab.kernel.accessAllowed ? 'block' : 'none';\n",
              "    })();\n",
              "  </script>\n",
              "</div>\n",
              "    </div>\n",
              "  </div>\n"
            ],
            "application/vnd.google.colaboratory.intrinsic+json": {
              "type": "dataframe",
              "variable_name": "results_df",
              "summary": "{\n  \"name\": \"results_df\",\n  \"rows\": 13,\n  \"fields\": [\n    {\n      \"column\": \"Persentase Outliers\",\n      \"properties\": {\n        \"dtype\": \"number\",\n        \"std\": 0.0,\n        \"min\": 0.0,\n        \"max\": 0.0,\n        \"num_unique_values\": 1,\n        \"samples\": [\n          0.0\n        ],\n        \"semantic_type\": \"\",\n        \"description\": \"\"\n      }\n    }\n  ]\n}"
            }
          },
          "metadata": {}
        }
      ]
    },
    {
      "cell_type": "markdown",
      "source": [
        "Seperti yang kita lihat pada hasil dari syntax diatas persentase Data Outliers pada kolom 'Apr' telah menjadi **0 persen** menyatakan bahwa **Data Outliers telah berhasi dihapus**"
      ],
      "metadata": {
        "id": "9-gFvaURbJXy"
      }
    },
    {
      "cell_type": "markdown",
      "source": [
        "##**Construct Data**\n"
      ],
      "metadata": {
        "id": "fhE-0-vWcJQK"
      }
    },
    {
      "cell_type": "markdown",
      "source": [
        "####Melakukan Rekayasa Fitur (Feature Engineering)"
      ],
      "metadata": {
        "id": "TXE86mJWcNyd"
      }
    },
    {
      "cell_type": "markdown",
      "source": [
        "Di Dalam Dataset ini berisi Durasi tentang berapa lama matahari Terbit di Suatu Kota. lebih spesifiknya berapa Jam Durasi Matahari Terbit di Kota Tersebut per bulannya.\n",
        "\n",
        "Menurut Saya Dataset ini **telah memberikan Informasi yang cukup lengkap** secara statistikal dan menambahkan fitur dengan melakukan Klasifikasi dari Nilai Data yang ada juga tidak terlalu berguna dikarenakan prsebaran data yang cukup padat.\n",
        "\n",
        "Begitu pula dengan statistik deskriptif seperti Mean, Median, dll hanya akan cukup relevan ketika melakukan Analisis dengan Fokus tertentu."
      ],
      "metadata": {
        "id": "6vK4bcxireTj"
      }
    },
    {
      "cell_type": "markdown",
      "source": [
        "###**Data Reduction**\n"
      ],
      "metadata": {
        "id": "5jH5lzbuwHt-"
      }
    },
    {
      "cell_type": "markdown",
      "source": [
        "####Mengurangi Fitur-Fitur yang kurang Relevan"
      ],
      "metadata": {
        "id": "v4MEllzGwUdo"
      }
    },
    {
      "cell_type": "code",
      "source": [
        "df.head()"
      ],
      "metadata": {
        "colab": {
          "base_uri": "https://localhost:8080/",
          "height": 206
        },
        "id": "7OP-dnE3w4n1",
        "outputId": "39ca37cc-72dd-4c36-e7d0-13e9f55328a0"
      },
      "execution_count": null,
      "outputs": [
        {
          "output_type": "execute_result",
          "data": {
            "text/plain": [
              "       Country         City    Jan    Feb    Mar    Apr    May    Jun    Jul  \\\n",
              "0  Afghanistan        Kabul  177.2  178.6  204.5  232.5  310.3  353.4  356.8   \n",
              "1      Albania       Tirana  124.0  125.0  165.0  191.0  263.0  298.0  354.0   \n",
              "2      Algeria      Algiers  149.0  165.0  202.0  258.0  319.0  318.0  350.0   \n",
              "3      Algeria  Tamanrasset  297.6  275.5  322.4  327.0  328.6  306.0  356.5   \n",
              "4       Angola       Luanda  219.0  208.0  213.0  199.0  233.0  223.0  175.0   \n",
              "\n",
              "     Aug    Sep    Oct    Nov    Dec    Year  \n",
              "0  339.7  303.9  282.6  253.2  182.4  3175.1  \n",
              "1  327.0  264.0  218.0  127.0   88.0  2544.0  \n",
              "2  319.0  237.0  229.0  165.0  136.0  2847.0  \n",
              "3  331.7  288.0  310.0  285.0  272.8  3686.0  \n",
              "4  150.0  145.0  164.0  199.0  212.0  2341.0  "
            ],
            "text/html": [
              "\n",
              "  <div id=\"df-25120048-f14c-421d-b691-e33d1f387fb4\" class=\"colab-df-container\">\n",
              "    <div>\n",
              "<style scoped>\n",
              "    .dataframe tbody tr th:only-of-type {\n",
              "        vertical-align: middle;\n",
              "    }\n",
              "\n",
              "    .dataframe tbody tr th {\n",
              "        vertical-align: top;\n",
              "    }\n",
              "\n",
              "    .dataframe thead th {\n",
              "        text-align: right;\n",
              "    }\n",
              "</style>\n",
              "<table border=\"1\" class=\"dataframe\">\n",
              "  <thead>\n",
              "    <tr style=\"text-align: right;\">\n",
              "      <th></th>\n",
              "      <th>Country</th>\n",
              "      <th>City</th>\n",
              "      <th>Jan</th>\n",
              "      <th>Feb</th>\n",
              "      <th>Mar</th>\n",
              "      <th>Apr</th>\n",
              "      <th>May</th>\n",
              "      <th>Jun</th>\n",
              "      <th>Jul</th>\n",
              "      <th>Aug</th>\n",
              "      <th>Sep</th>\n",
              "      <th>Oct</th>\n",
              "      <th>Nov</th>\n",
              "      <th>Dec</th>\n",
              "      <th>Year</th>\n",
              "    </tr>\n",
              "  </thead>\n",
              "  <tbody>\n",
              "    <tr>\n",
              "      <th>0</th>\n",
              "      <td>Afghanistan</td>\n",
              "      <td>Kabul</td>\n",
              "      <td>177.2</td>\n",
              "      <td>178.6</td>\n",
              "      <td>204.5</td>\n",
              "      <td>232.5</td>\n",
              "      <td>310.3</td>\n",
              "      <td>353.4</td>\n",
              "      <td>356.8</td>\n",
              "      <td>339.7</td>\n",
              "      <td>303.9</td>\n",
              "      <td>282.6</td>\n",
              "      <td>253.2</td>\n",
              "      <td>182.4</td>\n",
              "      <td>3175.1</td>\n",
              "    </tr>\n",
              "    <tr>\n",
              "      <th>1</th>\n",
              "      <td>Albania</td>\n",
              "      <td>Tirana</td>\n",
              "      <td>124.0</td>\n",
              "      <td>125.0</td>\n",
              "      <td>165.0</td>\n",
              "      <td>191.0</td>\n",
              "      <td>263.0</td>\n",
              "      <td>298.0</td>\n",
              "      <td>354.0</td>\n",
              "      <td>327.0</td>\n",
              "      <td>264.0</td>\n",
              "      <td>218.0</td>\n",
              "      <td>127.0</td>\n",
              "      <td>88.0</td>\n",
              "      <td>2544.0</td>\n",
              "    </tr>\n",
              "    <tr>\n",
              "      <th>2</th>\n",
              "      <td>Algeria</td>\n",
              "      <td>Algiers</td>\n",
              "      <td>149.0</td>\n",
              "      <td>165.0</td>\n",
              "      <td>202.0</td>\n",
              "      <td>258.0</td>\n",
              "      <td>319.0</td>\n",
              "      <td>318.0</td>\n",
              "      <td>350.0</td>\n",
              "      <td>319.0</td>\n",
              "      <td>237.0</td>\n",
              "      <td>229.0</td>\n",
              "      <td>165.0</td>\n",
              "      <td>136.0</td>\n",
              "      <td>2847.0</td>\n",
              "    </tr>\n",
              "    <tr>\n",
              "      <th>3</th>\n",
              "      <td>Algeria</td>\n",
              "      <td>Tamanrasset</td>\n",
              "      <td>297.6</td>\n",
              "      <td>275.5</td>\n",
              "      <td>322.4</td>\n",
              "      <td>327.0</td>\n",
              "      <td>328.6</td>\n",
              "      <td>306.0</td>\n",
              "      <td>356.5</td>\n",
              "      <td>331.7</td>\n",
              "      <td>288.0</td>\n",
              "      <td>310.0</td>\n",
              "      <td>285.0</td>\n",
              "      <td>272.8</td>\n",
              "      <td>3686.0</td>\n",
              "    </tr>\n",
              "    <tr>\n",
              "      <th>4</th>\n",
              "      <td>Angola</td>\n",
              "      <td>Luanda</td>\n",
              "      <td>219.0</td>\n",
              "      <td>208.0</td>\n",
              "      <td>213.0</td>\n",
              "      <td>199.0</td>\n",
              "      <td>233.0</td>\n",
              "      <td>223.0</td>\n",
              "      <td>175.0</td>\n",
              "      <td>150.0</td>\n",
              "      <td>145.0</td>\n",
              "      <td>164.0</td>\n",
              "      <td>199.0</td>\n",
              "      <td>212.0</td>\n",
              "      <td>2341.0</td>\n",
              "    </tr>\n",
              "  </tbody>\n",
              "</table>\n",
              "</div>\n",
              "    <div class=\"colab-df-buttons\">\n",
              "\n",
              "  <div class=\"colab-df-container\">\n",
              "    <button class=\"colab-df-convert\" onclick=\"convertToInteractive('df-25120048-f14c-421d-b691-e33d1f387fb4')\"\n",
              "            title=\"Convert this dataframe to an interactive table.\"\n",
              "            style=\"display:none;\">\n",
              "\n",
              "  <svg xmlns=\"http://www.w3.org/2000/svg\" height=\"24px\" viewBox=\"0 -960 960 960\">\n",
              "    <path d=\"M120-120v-720h720v720H120Zm60-500h600v-160H180v160Zm220 220h160v-160H400v160Zm0 220h160v-160H400v160ZM180-400h160v-160H180v160Zm440 0h160v-160H620v160ZM180-180h160v-160H180v160Zm440 0h160v-160H620v160Z\"/>\n",
              "  </svg>\n",
              "    </button>\n",
              "\n",
              "  <style>\n",
              "    .colab-df-container {\n",
              "      display:flex;\n",
              "      gap: 12px;\n",
              "    }\n",
              "\n",
              "    .colab-df-convert {\n",
              "      background-color: #E8F0FE;\n",
              "      border: none;\n",
              "      border-radius: 50%;\n",
              "      cursor: pointer;\n",
              "      display: none;\n",
              "      fill: #1967D2;\n",
              "      height: 32px;\n",
              "      padding: 0 0 0 0;\n",
              "      width: 32px;\n",
              "    }\n",
              "\n",
              "    .colab-df-convert:hover {\n",
              "      background-color: #E2EBFA;\n",
              "      box-shadow: 0px 1px 2px rgba(60, 64, 67, 0.3), 0px 1px 3px 1px rgba(60, 64, 67, 0.15);\n",
              "      fill: #174EA6;\n",
              "    }\n",
              "\n",
              "    .colab-df-buttons div {\n",
              "      margin-bottom: 4px;\n",
              "    }\n",
              "\n",
              "    [theme=dark] .colab-df-convert {\n",
              "      background-color: #3B4455;\n",
              "      fill: #D2E3FC;\n",
              "    }\n",
              "\n",
              "    [theme=dark] .colab-df-convert:hover {\n",
              "      background-color: #434B5C;\n",
              "      box-shadow: 0px 1px 3px 1px rgba(0, 0, 0, 0.15);\n",
              "      filter: drop-shadow(0px 1px 2px rgba(0, 0, 0, 0.3));\n",
              "      fill: #FFFFFF;\n",
              "    }\n",
              "  </style>\n",
              "\n",
              "    <script>\n",
              "      const buttonEl =\n",
              "        document.querySelector('#df-25120048-f14c-421d-b691-e33d1f387fb4 button.colab-df-convert');\n",
              "      buttonEl.style.display =\n",
              "        google.colab.kernel.accessAllowed ? 'block' : 'none';\n",
              "\n",
              "      async function convertToInteractive(key) {\n",
              "        const element = document.querySelector('#df-25120048-f14c-421d-b691-e33d1f387fb4');\n",
              "        const dataTable =\n",
              "          await google.colab.kernel.invokeFunction('convertToInteractive',\n",
              "                                                    [key], {});\n",
              "        if (!dataTable) return;\n",
              "\n",
              "        const docLinkHtml = 'Like what you see? Visit the ' +\n",
              "          '<a target=\"_blank\" href=https://colab.research.google.com/notebooks/data_table.ipynb>data table notebook</a>'\n",
              "          + ' to learn more about interactive tables.';\n",
              "        element.innerHTML = '';\n",
              "        dataTable['output_type'] = 'display_data';\n",
              "        await google.colab.output.renderOutput(dataTable, element);\n",
              "        const docLink = document.createElement('div');\n",
              "        docLink.innerHTML = docLinkHtml;\n",
              "        element.appendChild(docLink);\n",
              "      }\n",
              "    </script>\n",
              "  </div>\n",
              "\n",
              "\n",
              "<div id=\"df-d4121665-cc39-4d86-808e-f6f633f3e379\">\n",
              "  <button class=\"colab-df-quickchart\" onclick=\"quickchart('df-d4121665-cc39-4d86-808e-f6f633f3e379')\"\n",
              "            title=\"Suggest charts\"\n",
              "            style=\"display:none;\">\n",
              "\n",
              "<svg xmlns=\"http://www.w3.org/2000/svg\" height=\"24px\"viewBox=\"0 0 24 24\"\n",
              "     width=\"24px\">\n",
              "    <g>\n",
              "        <path d=\"M19 3H5c-1.1 0-2 .9-2 2v14c0 1.1.9 2 2 2h14c1.1 0 2-.9 2-2V5c0-1.1-.9-2-2-2zM9 17H7v-7h2v7zm4 0h-2V7h2v10zm4 0h-2v-4h2v4z\"/>\n",
              "    </g>\n",
              "</svg>\n",
              "  </button>\n",
              "\n",
              "<style>\n",
              "  .colab-df-quickchart {\n",
              "      --bg-color: #E8F0FE;\n",
              "      --fill-color: #1967D2;\n",
              "      --hover-bg-color: #E2EBFA;\n",
              "      --hover-fill-color: #174EA6;\n",
              "      --disabled-fill-color: #AAA;\n",
              "      --disabled-bg-color: #DDD;\n",
              "  }\n",
              "\n",
              "  [theme=dark] .colab-df-quickchart {\n",
              "      --bg-color: #3B4455;\n",
              "      --fill-color: #D2E3FC;\n",
              "      --hover-bg-color: #434B5C;\n",
              "      --hover-fill-color: #FFFFFF;\n",
              "      --disabled-bg-color: #3B4455;\n",
              "      --disabled-fill-color: #666;\n",
              "  }\n",
              "\n",
              "  .colab-df-quickchart {\n",
              "    background-color: var(--bg-color);\n",
              "    border: none;\n",
              "    border-radius: 50%;\n",
              "    cursor: pointer;\n",
              "    display: none;\n",
              "    fill: var(--fill-color);\n",
              "    height: 32px;\n",
              "    padding: 0;\n",
              "    width: 32px;\n",
              "  }\n",
              "\n",
              "  .colab-df-quickchart:hover {\n",
              "    background-color: var(--hover-bg-color);\n",
              "    box-shadow: 0 1px 2px rgba(60, 64, 67, 0.3), 0 1px 3px 1px rgba(60, 64, 67, 0.15);\n",
              "    fill: var(--button-hover-fill-color);\n",
              "  }\n",
              "\n",
              "  .colab-df-quickchart-complete:disabled,\n",
              "  .colab-df-quickchart-complete:disabled:hover {\n",
              "    background-color: var(--disabled-bg-color);\n",
              "    fill: var(--disabled-fill-color);\n",
              "    box-shadow: none;\n",
              "  }\n",
              "\n",
              "  .colab-df-spinner {\n",
              "    border: 2px solid var(--fill-color);\n",
              "    border-color: transparent;\n",
              "    border-bottom-color: var(--fill-color);\n",
              "    animation:\n",
              "      spin 1s steps(1) infinite;\n",
              "  }\n",
              "\n",
              "  @keyframes spin {\n",
              "    0% {\n",
              "      border-color: transparent;\n",
              "      border-bottom-color: var(--fill-color);\n",
              "      border-left-color: var(--fill-color);\n",
              "    }\n",
              "    20% {\n",
              "      border-color: transparent;\n",
              "      border-left-color: var(--fill-color);\n",
              "      border-top-color: var(--fill-color);\n",
              "    }\n",
              "    30% {\n",
              "      border-color: transparent;\n",
              "      border-left-color: var(--fill-color);\n",
              "      border-top-color: var(--fill-color);\n",
              "      border-right-color: var(--fill-color);\n",
              "    }\n",
              "    40% {\n",
              "      border-color: transparent;\n",
              "      border-right-color: var(--fill-color);\n",
              "      border-top-color: var(--fill-color);\n",
              "    }\n",
              "    60% {\n",
              "      border-color: transparent;\n",
              "      border-right-color: var(--fill-color);\n",
              "    }\n",
              "    80% {\n",
              "      border-color: transparent;\n",
              "      border-right-color: var(--fill-color);\n",
              "      border-bottom-color: var(--fill-color);\n",
              "    }\n",
              "    90% {\n",
              "      border-color: transparent;\n",
              "      border-bottom-color: var(--fill-color);\n",
              "    }\n",
              "  }\n",
              "</style>\n",
              "\n",
              "  <script>\n",
              "    async function quickchart(key) {\n",
              "      const quickchartButtonEl =\n",
              "        document.querySelector('#' + key + ' button');\n",
              "      quickchartButtonEl.disabled = true;  // To prevent multiple clicks.\n",
              "      quickchartButtonEl.classList.add('colab-df-spinner');\n",
              "      try {\n",
              "        const charts = await google.colab.kernel.invokeFunction(\n",
              "            'suggestCharts', [key], {});\n",
              "      } catch (error) {\n",
              "        console.error('Error during call to suggestCharts:', error);\n",
              "      }\n",
              "      quickchartButtonEl.classList.remove('colab-df-spinner');\n",
              "      quickchartButtonEl.classList.add('colab-df-quickchart-complete');\n",
              "    }\n",
              "    (() => {\n",
              "      let quickchartButtonEl =\n",
              "        document.querySelector('#df-d4121665-cc39-4d86-808e-f6f633f3e379 button');\n",
              "      quickchartButtonEl.style.display =\n",
              "        google.colab.kernel.accessAllowed ? 'block' : 'none';\n",
              "    })();\n",
              "  </script>\n",
              "</div>\n",
              "    </div>\n",
              "  </div>\n"
            ],
            "application/vnd.google.colaboratory.intrinsic+json": {
              "type": "dataframe",
              "variable_name": "df",
              "summary": "{\n  \"name\": \"df\",\n  \"rows\": 380,\n  \"fields\": [\n    {\n      \"column\": \"Country\",\n      \"properties\": {\n        \"dtype\": \"category\",\n        \"num_unique_values\": 140,\n        \"samples\": [\n          \"Saudi Arabia\",\n          \"Japan\",\n          \"Democratic Republic of the Congo\"\n        ],\n        \"semantic_type\": \"\",\n        \"description\": \"\"\n      }\n    },\n    {\n      \"column\": \"City\",\n      \"properties\": {\n        \"dtype\": \"string\",\n        \"num_unique_values\": 379,\n        \"samples\": [\n          \"Zurich\",\n          \"Gothenburg\",\n          \"Fresno\"\n        ],\n        \"semantic_type\": \"\",\n        \"description\": \"\"\n      }\n    },\n    {\n      \"column\": \"Jan\",\n      \"properties\": {\n        \"dtype\": \"number\",\n        \"std\": 81.32111935915454,\n        \"min\": 0.0,\n        \"max\": 362.7,\n        \"num_unique_values\": 295,\n        \"samples\": [\n          93.9,\n          191.1,\n          157.0\n        ],\n        \"semantic_type\": \"\",\n        \"description\": \"\"\n      }\n    },\n    {\n      \"column\": \"Feb\",\n      \"properties\": {\n        \"dtype\": \"number\",\n        \"std\": 64.54479656345873,\n        \"min\": 22.6,\n        \"max\": 314.9,\n        \"num_unique_values\": 306,\n        \"samples\": [\n          183.6,\n          119.0,\n          178.0\n        ],\n        \"semantic_type\": \"\",\n        \"description\": \"\"\n      }\n    },\n    {\n      \"column\": \"Mar\",\n      \"properties\": {\n        \"dtype\": \"number\",\n        \"std\": 57.55632084150174,\n        \"min\": 47.0,\n        \"max\": 326.0,\n        \"num_unique_values\": 278,\n        \"samples\": [\n          257.0,\n          210.7,\n          325.0\n        ],\n        \"semantic_type\": \"\",\n        \"description\": \"\"\n      }\n    },\n    {\n      \"column\": \"Apr\",\n      \"properties\": {\n        \"dtype\": \"number\",\n        \"std\": 51.894031258046255,\n        \"min\": 85.3,\n        \"max\": 357.2,\n        \"num_unique_values\": 251,\n        \"samples\": [\n          315.2,\n          189.0,\n          292.5\n        ],\n        \"semantic_type\": \"\",\n        \"description\": \"\"\n      }\n    },\n    {\n      \"column\": \"May\",\n      \"properties\": {\n        \"dtype\": \"number\",\n        \"std\": 61.02613881667739,\n        \"min\": 68.2,\n        \"max\": 406.3,\n        \"num_unique_values\": 275,\n        \"samples\": [\n          316.0,\n          248.8,\n          324.0\n        ],\n        \"semantic_type\": \"\",\n        \"description\": \"\"\n      }\n    },\n    {\n      \"column\": \"Jun\",\n      \"properties\": {\n        \"dtype\": \"number\",\n        \"std\": 73.14929158789671,\n        \"min\": 45.0,\n        \"max\": 419.5,\n        \"num_unique_values\": 279,\n        \"samples\": [\n          254.3,\n          334.3,\n          175.4\n        ],\n        \"semantic_type\": \"\",\n        \"description\": \"\"\n      }\n    },\n    {\n      \"column\": \"Jul\",\n      \"properties\": {\n        \"dtype\": \"number\",\n        \"std\": 81.2542615382263,\n        \"min\": 28.6,\n        \"max\": 440.2,\n        \"num_unique_values\": 310,\n        \"samples\": [\n          301.4,\n          173.6,\n          289.8\n        ],\n        \"semantic_type\": \"\",\n        \"description\": \"\"\n      }\n    },\n    {\n      \"column\": \"Aug\",\n      \"properties\": {\n        \"dtype\": \"number\",\n        \"std\": 73.34171728779573,\n        \"min\": 32.3,\n        \"max\": 406.9,\n        \"num_unique_values\": 289,\n        \"samples\": [\n          187.2,\n          283.6,\n          278.9\n        ],\n        \"semantic_type\": \"\",\n        \"description\": \"\"\n      }\n    },\n    {\n      \"column\": \"Sep\",\n      \"properties\": {\n        \"dtype\": \"number\",\n        \"std\": 62.49506353008831,\n        \"min\": 37.3,\n        \"max\": 347.8,\n        \"num_unique_values\": 264,\n        \"samples\": [\n          153.7,\n          280.8,\n          153.4\n        ],\n        \"semantic_type\": \"\",\n        \"description\": \"\"\n      }\n    },\n    {\n      \"column\": \"Oct\",\n      \"properties\": {\n        \"dtype\": \"number\",\n        \"std\": 67.13922905407301,\n        \"min\": 24.8,\n        \"max\": 356.5,\n        \"num_unique_values\": 286,\n        \"samples\": [\n          182.9,\n          215.4,\n          148.6\n        ],\n        \"semantic_type\": \"\",\n        \"description\": \"\"\n      }\n    },\n    {\n      \"column\": \"Nov\",\n      \"properties\": {\n        \"dtype\": \"number\",\n        \"std\": 77.79600865452316,\n        \"min\": 0.0,\n        \"max\": 363.0,\n        \"num_unique_values\": 276,\n        \"samples\": [\n          191.7,\n          231.0,\n          216.0\n        ],\n        \"semantic_type\": \"\",\n        \"description\": \"\"\n      }\n    },\n    {\n      \"column\": \"Dec\",\n      \"properties\": {\n        \"dtype\": \"number\",\n        \"std\": 83.83200507804996,\n        \"min\": 0.0,\n        \"max\": 367.0,\n        \"num_unique_values\": 290,\n        \"samples\": [\n          130.0,\n          118.3,\n          286.5\n        ],\n        \"semantic_type\": \"\",\n        \"description\": \"\"\n      }\n    },\n    {\n      \"column\": \"Year\",\n      \"properties\": {\n        \"dtype\": \"number\",\n        \"std\": 618.9934284230847,\n        \"min\": 840.0,\n        \"max\": 3958.0,\n        \"num_unique_values\": 370,\n        \"samples\": [\n          2514.4,\n          3330.0,\n          2813.7\n        ],\n        \"semantic_type\": \"\",\n        \"description\": \"\"\n      }\n    }\n  ]\n}"
            }
          },
          "metadata": {},
          "execution_count": 17
        }
      ]
    },
    {
      "cell_type": "markdown",
      "source": [
        "Seperti pada penjelasan-penjelasan sebelumnya, Dataset ini berisi data numerical yang berisi durasi Matahari Terbit pada Kota-Kota di Dunia dalam Satu Tahun Penuh.\n",
        "\n",
        "Sehingga Tiap data-data tersebut Merupakan Data yang **Relevan**.\n",
        "\n",
        "Namun, Seperti yang kita lihat diatas, Kolom 'Country' yang berisi Negara-Negara dari Kota-Kota yang tercantum dapat di Katakan **tidak terlalu Relevan** karena Keberadaannya dapat dianggap tidak terlalu diperlukan dikarenakan Relevansinya terhadap Data data numeric dari Durasi lebih kecil dari apa dimiliki oleh Kolom 'City' yang lebih relevan ke kolom - kolom lainnya.\n",
        "\n",
        "Sehingga Kolom 'Country' **dapat dihilangkan karena kurang relevan** kecuali Data ini berfokus pada Topik/Bidang tertentu yang menggunakan Data tersebut."
      ],
      "metadata": {
        "id": "cb9Z0QIkw8FP"
      }
    },
    {
      "cell_type": "code",
      "source": [
        "df = df.drop(['Country'], axis=1)"
      ],
      "metadata": {
        "id": "0dpsNSPCzXuV"
      },
      "execution_count": null,
      "outputs": []
    },
    {
      "cell_type": "markdown",
      "source": [
        "Syntax diatas menghapus Kolom 'Country' beserta value di dalamnya secara keseluruhan"
      ],
      "metadata": {
        "id": "2fzc_DMuzg0L"
      }
    },
    {
      "cell_type": "markdown",
      "source": [
        "####Pengecekan Ulang"
      ],
      "metadata": {
        "id": "uySQQT0Nzxq-"
      }
    },
    {
      "cell_type": "code",
      "source": [
        "df.head()"
      ],
      "metadata": {
        "colab": {
          "base_uri": "https://localhost:8080/",
          "height": 226
        },
        "id": "Ln3phctTzrJ8",
        "outputId": "18bf8f1e-1f80-4127-96c3-baee243433c7"
      },
      "execution_count": null,
      "outputs": [
        {
          "output_type": "execute_result",
          "data": {
            "text/plain": [
              "          City    Jan    Feb    Mar    Apr    May    Jun    Jul    Aug    Sep  \\\n",
              "0        Kabul  177.2  178.6  204.5  232.5  310.3  353.4  356.8  339.7  303.9   \n",
              "1       Tirana  124.0  125.0  165.0  191.0  263.0  298.0  354.0  327.0  264.0   \n",
              "2      Algiers  149.0  165.0  202.0  258.0  319.0  318.0  350.0  319.0  237.0   \n",
              "3  Tamanrasset  297.6  275.5  322.4  327.0  328.6  306.0  356.5  331.7  288.0   \n",
              "4       Luanda  219.0  208.0  213.0  199.0  233.0  223.0  175.0  150.0  145.0   \n",
              "\n",
              "     Oct    Nov    Dec    Year  \n",
              "0  282.6  253.2  182.4  3175.1  \n",
              "1  218.0  127.0   88.0  2544.0  \n",
              "2  229.0  165.0  136.0  2847.0  \n",
              "3  310.0  285.0  272.8  3686.0  \n",
              "4  164.0  199.0  212.0  2341.0  "
            ],
            "text/html": [
              "\n",
              "  <div id=\"df-27077f92-4a8e-4cba-98e5-59f24bbf6c44\" class=\"colab-df-container\">\n",
              "    <div>\n",
              "<style scoped>\n",
              "    .dataframe tbody tr th:only-of-type {\n",
              "        vertical-align: middle;\n",
              "    }\n",
              "\n",
              "    .dataframe tbody tr th {\n",
              "        vertical-align: top;\n",
              "    }\n",
              "\n",
              "    .dataframe thead th {\n",
              "        text-align: right;\n",
              "    }\n",
              "</style>\n",
              "<table border=\"1\" class=\"dataframe\">\n",
              "  <thead>\n",
              "    <tr style=\"text-align: right;\">\n",
              "      <th></th>\n",
              "      <th>City</th>\n",
              "      <th>Jan</th>\n",
              "      <th>Feb</th>\n",
              "      <th>Mar</th>\n",
              "      <th>Apr</th>\n",
              "      <th>May</th>\n",
              "      <th>Jun</th>\n",
              "      <th>Jul</th>\n",
              "      <th>Aug</th>\n",
              "      <th>Sep</th>\n",
              "      <th>Oct</th>\n",
              "      <th>Nov</th>\n",
              "      <th>Dec</th>\n",
              "      <th>Year</th>\n",
              "    </tr>\n",
              "  </thead>\n",
              "  <tbody>\n",
              "    <tr>\n",
              "      <th>0</th>\n",
              "      <td>Kabul</td>\n",
              "      <td>177.2</td>\n",
              "      <td>178.6</td>\n",
              "      <td>204.5</td>\n",
              "      <td>232.5</td>\n",
              "      <td>310.3</td>\n",
              "      <td>353.4</td>\n",
              "      <td>356.8</td>\n",
              "      <td>339.7</td>\n",
              "      <td>303.9</td>\n",
              "      <td>282.6</td>\n",
              "      <td>253.2</td>\n",
              "      <td>182.4</td>\n",
              "      <td>3175.1</td>\n",
              "    </tr>\n",
              "    <tr>\n",
              "      <th>1</th>\n",
              "      <td>Tirana</td>\n",
              "      <td>124.0</td>\n",
              "      <td>125.0</td>\n",
              "      <td>165.0</td>\n",
              "      <td>191.0</td>\n",
              "      <td>263.0</td>\n",
              "      <td>298.0</td>\n",
              "      <td>354.0</td>\n",
              "      <td>327.0</td>\n",
              "      <td>264.0</td>\n",
              "      <td>218.0</td>\n",
              "      <td>127.0</td>\n",
              "      <td>88.0</td>\n",
              "      <td>2544.0</td>\n",
              "    </tr>\n",
              "    <tr>\n",
              "      <th>2</th>\n",
              "      <td>Algiers</td>\n",
              "      <td>149.0</td>\n",
              "      <td>165.0</td>\n",
              "      <td>202.0</td>\n",
              "      <td>258.0</td>\n",
              "      <td>319.0</td>\n",
              "      <td>318.0</td>\n",
              "      <td>350.0</td>\n",
              "      <td>319.0</td>\n",
              "      <td>237.0</td>\n",
              "      <td>229.0</td>\n",
              "      <td>165.0</td>\n",
              "      <td>136.0</td>\n",
              "      <td>2847.0</td>\n",
              "    </tr>\n",
              "    <tr>\n",
              "      <th>3</th>\n",
              "      <td>Tamanrasset</td>\n",
              "      <td>297.6</td>\n",
              "      <td>275.5</td>\n",
              "      <td>322.4</td>\n",
              "      <td>327.0</td>\n",
              "      <td>328.6</td>\n",
              "      <td>306.0</td>\n",
              "      <td>356.5</td>\n",
              "      <td>331.7</td>\n",
              "      <td>288.0</td>\n",
              "      <td>310.0</td>\n",
              "      <td>285.0</td>\n",
              "      <td>272.8</td>\n",
              "      <td>3686.0</td>\n",
              "    </tr>\n",
              "    <tr>\n",
              "      <th>4</th>\n",
              "      <td>Luanda</td>\n",
              "      <td>219.0</td>\n",
              "      <td>208.0</td>\n",
              "      <td>213.0</td>\n",
              "      <td>199.0</td>\n",
              "      <td>233.0</td>\n",
              "      <td>223.0</td>\n",
              "      <td>175.0</td>\n",
              "      <td>150.0</td>\n",
              "      <td>145.0</td>\n",
              "      <td>164.0</td>\n",
              "      <td>199.0</td>\n",
              "      <td>212.0</td>\n",
              "      <td>2341.0</td>\n",
              "    </tr>\n",
              "  </tbody>\n",
              "</table>\n",
              "</div>\n",
              "    <div class=\"colab-df-buttons\">\n",
              "\n",
              "  <div class=\"colab-df-container\">\n",
              "    <button class=\"colab-df-convert\" onclick=\"convertToInteractive('df-27077f92-4a8e-4cba-98e5-59f24bbf6c44')\"\n",
              "            title=\"Convert this dataframe to an interactive table.\"\n",
              "            style=\"display:none;\">\n",
              "\n",
              "  <svg xmlns=\"http://www.w3.org/2000/svg\" height=\"24px\" viewBox=\"0 -960 960 960\">\n",
              "    <path d=\"M120-120v-720h720v720H120Zm60-500h600v-160H180v160Zm220 220h160v-160H400v160Zm0 220h160v-160H400v160ZM180-400h160v-160H180v160Zm440 0h160v-160H620v160ZM180-180h160v-160H180v160Zm440 0h160v-160H620v160Z\"/>\n",
              "  </svg>\n",
              "    </button>\n",
              "\n",
              "  <style>\n",
              "    .colab-df-container {\n",
              "      display:flex;\n",
              "      gap: 12px;\n",
              "    }\n",
              "\n",
              "    .colab-df-convert {\n",
              "      background-color: #E8F0FE;\n",
              "      border: none;\n",
              "      border-radius: 50%;\n",
              "      cursor: pointer;\n",
              "      display: none;\n",
              "      fill: #1967D2;\n",
              "      height: 32px;\n",
              "      padding: 0 0 0 0;\n",
              "      width: 32px;\n",
              "    }\n",
              "\n",
              "    .colab-df-convert:hover {\n",
              "      background-color: #E2EBFA;\n",
              "      box-shadow: 0px 1px 2px rgba(60, 64, 67, 0.3), 0px 1px 3px 1px rgba(60, 64, 67, 0.15);\n",
              "      fill: #174EA6;\n",
              "    }\n",
              "\n",
              "    .colab-df-buttons div {\n",
              "      margin-bottom: 4px;\n",
              "    }\n",
              "\n",
              "    [theme=dark] .colab-df-convert {\n",
              "      background-color: #3B4455;\n",
              "      fill: #D2E3FC;\n",
              "    }\n",
              "\n",
              "    [theme=dark] .colab-df-convert:hover {\n",
              "      background-color: #434B5C;\n",
              "      box-shadow: 0px 1px 3px 1px rgba(0, 0, 0, 0.15);\n",
              "      filter: drop-shadow(0px 1px 2px rgba(0, 0, 0, 0.3));\n",
              "      fill: #FFFFFF;\n",
              "    }\n",
              "  </style>\n",
              "\n",
              "    <script>\n",
              "      const buttonEl =\n",
              "        document.querySelector('#df-27077f92-4a8e-4cba-98e5-59f24bbf6c44 button.colab-df-convert');\n",
              "      buttonEl.style.display =\n",
              "        google.colab.kernel.accessAllowed ? 'block' : 'none';\n",
              "\n",
              "      async function convertToInteractive(key) {\n",
              "        const element = document.querySelector('#df-27077f92-4a8e-4cba-98e5-59f24bbf6c44');\n",
              "        const dataTable =\n",
              "          await google.colab.kernel.invokeFunction('convertToInteractive',\n",
              "                                                    [key], {});\n",
              "        if (!dataTable) return;\n",
              "\n",
              "        const docLinkHtml = 'Like what you see? Visit the ' +\n",
              "          '<a target=\"_blank\" href=https://colab.research.google.com/notebooks/data_table.ipynb>data table notebook</a>'\n",
              "          + ' to learn more about interactive tables.';\n",
              "        element.innerHTML = '';\n",
              "        dataTable['output_type'] = 'display_data';\n",
              "        await google.colab.output.renderOutput(dataTable, element);\n",
              "        const docLink = document.createElement('div');\n",
              "        docLink.innerHTML = docLinkHtml;\n",
              "        element.appendChild(docLink);\n",
              "      }\n",
              "    </script>\n",
              "  </div>\n",
              "\n",
              "\n",
              "<div id=\"df-e19a9684-cd73-446f-9909-a342452f9696\">\n",
              "  <button class=\"colab-df-quickchart\" onclick=\"quickchart('df-e19a9684-cd73-446f-9909-a342452f9696')\"\n",
              "            title=\"Suggest charts\"\n",
              "            style=\"display:none;\">\n",
              "\n",
              "<svg xmlns=\"http://www.w3.org/2000/svg\" height=\"24px\"viewBox=\"0 0 24 24\"\n",
              "     width=\"24px\">\n",
              "    <g>\n",
              "        <path d=\"M19 3H5c-1.1 0-2 .9-2 2v14c0 1.1.9 2 2 2h14c1.1 0 2-.9 2-2V5c0-1.1-.9-2-2-2zM9 17H7v-7h2v7zm4 0h-2V7h2v10zm4 0h-2v-4h2v4z\"/>\n",
              "    </g>\n",
              "</svg>\n",
              "  </button>\n",
              "\n",
              "<style>\n",
              "  .colab-df-quickchart {\n",
              "      --bg-color: #E8F0FE;\n",
              "      --fill-color: #1967D2;\n",
              "      --hover-bg-color: #E2EBFA;\n",
              "      --hover-fill-color: #174EA6;\n",
              "      --disabled-fill-color: #AAA;\n",
              "      --disabled-bg-color: #DDD;\n",
              "  }\n",
              "\n",
              "  [theme=dark] .colab-df-quickchart {\n",
              "      --bg-color: #3B4455;\n",
              "      --fill-color: #D2E3FC;\n",
              "      --hover-bg-color: #434B5C;\n",
              "      --hover-fill-color: #FFFFFF;\n",
              "      --disabled-bg-color: #3B4455;\n",
              "      --disabled-fill-color: #666;\n",
              "  }\n",
              "\n",
              "  .colab-df-quickchart {\n",
              "    background-color: var(--bg-color);\n",
              "    border: none;\n",
              "    border-radius: 50%;\n",
              "    cursor: pointer;\n",
              "    display: none;\n",
              "    fill: var(--fill-color);\n",
              "    height: 32px;\n",
              "    padding: 0;\n",
              "    width: 32px;\n",
              "  }\n",
              "\n",
              "  .colab-df-quickchart:hover {\n",
              "    background-color: var(--hover-bg-color);\n",
              "    box-shadow: 0 1px 2px rgba(60, 64, 67, 0.3), 0 1px 3px 1px rgba(60, 64, 67, 0.15);\n",
              "    fill: var(--button-hover-fill-color);\n",
              "  }\n",
              "\n",
              "  .colab-df-quickchart-complete:disabled,\n",
              "  .colab-df-quickchart-complete:disabled:hover {\n",
              "    background-color: var(--disabled-bg-color);\n",
              "    fill: var(--disabled-fill-color);\n",
              "    box-shadow: none;\n",
              "  }\n",
              "\n",
              "  .colab-df-spinner {\n",
              "    border: 2px solid var(--fill-color);\n",
              "    border-color: transparent;\n",
              "    border-bottom-color: var(--fill-color);\n",
              "    animation:\n",
              "      spin 1s steps(1) infinite;\n",
              "  }\n",
              "\n",
              "  @keyframes spin {\n",
              "    0% {\n",
              "      border-color: transparent;\n",
              "      border-bottom-color: var(--fill-color);\n",
              "      border-left-color: var(--fill-color);\n",
              "    }\n",
              "    20% {\n",
              "      border-color: transparent;\n",
              "      border-left-color: var(--fill-color);\n",
              "      border-top-color: var(--fill-color);\n",
              "    }\n",
              "    30% {\n",
              "      border-color: transparent;\n",
              "      border-left-color: var(--fill-color);\n",
              "      border-top-color: var(--fill-color);\n",
              "      border-right-color: var(--fill-color);\n",
              "    }\n",
              "    40% {\n",
              "      border-color: transparent;\n",
              "      border-right-color: var(--fill-color);\n",
              "      border-top-color: var(--fill-color);\n",
              "    }\n",
              "    60% {\n",
              "      border-color: transparent;\n",
              "      border-right-color: var(--fill-color);\n",
              "    }\n",
              "    80% {\n",
              "      border-color: transparent;\n",
              "      border-right-color: var(--fill-color);\n",
              "      border-bottom-color: var(--fill-color);\n",
              "    }\n",
              "    90% {\n",
              "      border-color: transparent;\n",
              "      border-bottom-color: var(--fill-color);\n",
              "    }\n",
              "  }\n",
              "</style>\n",
              "\n",
              "  <script>\n",
              "    async function quickchart(key) {\n",
              "      const quickchartButtonEl =\n",
              "        document.querySelector('#' + key + ' button');\n",
              "      quickchartButtonEl.disabled = true;  // To prevent multiple clicks.\n",
              "      quickchartButtonEl.classList.add('colab-df-spinner');\n",
              "      try {\n",
              "        const charts = await google.colab.kernel.invokeFunction(\n",
              "            'suggestCharts', [key], {});\n",
              "      } catch (error) {\n",
              "        console.error('Error during call to suggestCharts:', error);\n",
              "      }\n",
              "      quickchartButtonEl.classList.remove('colab-df-spinner');\n",
              "      quickchartButtonEl.classList.add('colab-df-quickchart-complete');\n",
              "    }\n",
              "    (() => {\n",
              "      let quickchartButtonEl =\n",
              "        document.querySelector('#df-e19a9684-cd73-446f-9909-a342452f9696 button');\n",
              "      quickchartButtonEl.style.display =\n",
              "        google.colab.kernel.accessAllowed ? 'block' : 'none';\n",
              "    })();\n",
              "  </script>\n",
              "</div>\n",
              "    </div>\n",
              "  </div>\n"
            ],
            "application/vnd.google.colaboratory.intrinsic+json": {
              "type": "dataframe",
              "variable_name": "df",
              "summary": "{\n  \"name\": \"df\",\n  \"rows\": 380,\n  \"fields\": [\n    {\n      \"column\": \"City\",\n      \"properties\": {\n        \"dtype\": \"string\",\n        \"num_unique_values\": 379,\n        \"samples\": [\n          \"Zurich\",\n          \"Gothenburg\",\n          \"Fresno\"\n        ],\n        \"semantic_type\": \"\",\n        \"description\": \"\"\n      }\n    },\n    {\n      \"column\": \"Jan\",\n      \"properties\": {\n        \"dtype\": \"number\",\n        \"std\": 81.32111935915454,\n        \"min\": 0.0,\n        \"max\": 362.7,\n        \"num_unique_values\": 295,\n        \"samples\": [\n          93.9,\n          191.1,\n          157.0\n        ],\n        \"semantic_type\": \"\",\n        \"description\": \"\"\n      }\n    },\n    {\n      \"column\": \"Feb\",\n      \"properties\": {\n        \"dtype\": \"number\",\n        \"std\": 64.54479656345873,\n        \"min\": 22.6,\n        \"max\": 314.9,\n        \"num_unique_values\": 306,\n        \"samples\": [\n          183.6,\n          119.0,\n          178.0\n        ],\n        \"semantic_type\": \"\",\n        \"description\": \"\"\n      }\n    },\n    {\n      \"column\": \"Mar\",\n      \"properties\": {\n        \"dtype\": \"number\",\n        \"std\": 57.55632084150174,\n        \"min\": 47.0,\n        \"max\": 326.0,\n        \"num_unique_values\": 278,\n        \"samples\": [\n          257.0,\n          210.7,\n          325.0\n        ],\n        \"semantic_type\": \"\",\n        \"description\": \"\"\n      }\n    },\n    {\n      \"column\": \"Apr\",\n      \"properties\": {\n        \"dtype\": \"number\",\n        \"std\": 51.894031258046255,\n        \"min\": 85.3,\n        \"max\": 357.2,\n        \"num_unique_values\": 251,\n        \"samples\": [\n          315.2,\n          189.0,\n          292.5\n        ],\n        \"semantic_type\": \"\",\n        \"description\": \"\"\n      }\n    },\n    {\n      \"column\": \"May\",\n      \"properties\": {\n        \"dtype\": \"number\",\n        \"std\": 61.02613881667739,\n        \"min\": 68.2,\n        \"max\": 406.3,\n        \"num_unique_values\": 275,\n        \"samples\": [\n          316.0,\n          248.8,\n          324.0\n        ],\n        \"semantic_type\": \"\",\n        \"description\": \"\"\n      }\n    },\n    {\n      \"column\": \"Jun\",\n      \"properties\": {\n        \"dtype\": \"number\",\n        \"std\": 73.14929158789671,\n        \"min\": 45.0,\n        \"max\": 419.5,\n        \"num_unique_values\": 279,\n        \"samples\": [\n          254.3,\n          334.3,\n          175.4\n        ],\n        \"semantic_type\": \"\",\n        \"description\": \"\"\n      }\n    },\n    {\n      \"column\": \"Jul\",\n      \"properties\": {\n        \"dtype\": \"number\",\n        \"std\": 81.2542615382263,\n        \"min\": 28.6,\n        \"max\": 440.2,\n        \"num_unique_values\": 310,\n        \"samples\": [\n          301.4,\n          173.6,\n          289.8\n        ],\n        \"semantic_type\": \"\",\n        \"description\": \"\"\n      }\n    },\n    {\n      \"column\": \"Aug\",\n      \"properties\": {\n        \"dtype\": \"number\",\n        \"std\": 73.34171728779573,\n        \"min\": 32.3,\n        \"max\": 406.9,\n        \"num_unique_values\": 289,\n        \"samples\": [\n          187.2,\n          283.6,\n          278.9\n        ],\n        \"semantic_type\": \"\",\n        \"description\": \"\"\n      }\n    },\n    {\n      \"column\": \"Sep\",\n      \"properties\": {\n        \"dtype\": \"number\",\n        \"std\": 62.49506353008831,\n        \"min\": 37.3,\n        \"max\": 347.8,\n        \"num_unique_values\": 264,\n        \"samples\": [\n          153.7,\n          280.8,\n          153.4\n        ],\n        \"semantic_type\": \"\",\n        \"description\": \"\"\n      }\n    },\n    {\n      \"column\": \"Oct\",\n      \"properties\": {\n        \"dtype\": \"number\",\n        \"std\": 67.13922905407301,\n        \"min\": 24.8,\n        \"max\": 356.5,\n        \"num_unique_values\": 286,\n        \"samples\": [\n          182.9,\n          215.4,\n          148.6\n        ],\n        \"semantic_type\": \"\",\n        \"description\": \"\"\n      }\n    },\n    {\n      \"column\": \"Nov\",\n      \"properties\": {\n        \"dtype\": \"number\",\n        \"std\": 77.79600865452316,\n        \"min\": 0.0,\n        \"max\": 363.0,\n        \"num_unique_values\": 276,\n        \"samples\": [\n          191.7,\n          231.0,\n          216.0\n        ],\n        \"semantic_type\": \"\",\n        \"description\": \"\"\n      }\n    },\n    {\n      \"column\": \"Dec\",\n      \"properties\": {\n        \"dtype\": \"number\",\n        \"std\": 83.83200507804996,\n        \"min\": 0.0,\n        \"max\": 367.0,\n        \"num_unique_values\": 290,\n        \"samples\": [\n          130.0,\n          118.3,\n          286.5\n        ],\n        \"semantic_type\": \"\",\n        \"description\": \"\"\n      }\n    },\n    {\n      \"column\": \"Year\",\n      \"properties\": {\n        \"dtype\": \"number\",\n        \"std\": 618.9934284230847,\n        \"min\": 840.0,\n        \"max\": 3958.0,\n        \"num_unique_values\": 370,\n        \"samples\": [\n          2514.4,\n          3330.0,\n          2813.7\n        ],\n        \"semantic_type\": \"\",\n        \"description\": \"\"\n      }\n    }\n  ]\n}"
            }
          },
          "metadata": {},
          "execution_count": 22
        }
      ]
    },
    {
      "cell_type": "markdown",
      "source": [
        "dari hasil syntax diatas datap dilihat bahwa kolom 'Country' telah dihapus secara keseluruhan dari dataset"
      ],
      "metadata": {
        "id": "1VTHrtsmz1av"
      }
    },
    {
      "cell_type": "markdown",
      "source": [
        "###**Data Transformation**"
      ],
      "metadata": {
        "id": "WJO_O8IG0C25"
      }
    },
    {
      "cell_type": "markdown",
      "source": [
        "Seperti yang telah dijelaskan pada Bagian-bagian sebelumnya diatas, Dataset ini Merupakan Dataset tentang Durasi Matahari Terbit pada Kota-Kota di Dunia dalam format **Jam**. Dataset ini hanya berisi **data numerical** dari Durasi-Durasi tersebut dan **tidak memiliki data yang berjenis Ordinal** atau berupa sebuah klasifikasi tertentu sehingga **tidak terdapat proses Mapping dan Encoding** dalam dataset ini"
      ],
      "metadata": {
        "id": "s86jRA4j1YZD"
      }
    },
    {
      "cell_type": "code",
      "source": [
        "df.to_csv('Data Cleaned.csv')"
      ],
      "metadata": {
        "id": "vdrrZUhIECPQ"
      },
      "execution_count": null,
      "outputs": []
    },
    {
      "cell_type": "markdown",
      "source": [
        "#**Modelling**"
      ],
      "metadata": {
        "id": "UQcqVuv0jDUW"
      }
    },
    {
      "cell_type": "markdown",
      "source": [
        "##**Modelling Associate**"
      ],
      "metadata": {
        "id": "KfhVOTUyjHbu"
      }
    },
    {
      "cell_type": "markdown",
      "source": [
        "Library yang akan digunakan dalam proses Modelling (Clustering)"
      ],
      "metadata": {
        "id": "oDeg417Z8NpH"
      }
    },
    {
      "cell_type": "code",
      "source": [
        "from sklearn.cluster import KMeans\n",
        "from scipy.cluster.hierarchy import dendrogram, linkage\n",
        "from scipy.cluster.hierarchy import cut_tree\n",
        "from sklearn.preprocessing import StandardScaler"
      ],
      "metadata": {
        "id": "dhFfKHHG8L51"
      },
      "execution_count": null,
      "outputs": []
    },
    {
      "cell_type": "markdown",
      "source": [
        "###**Pre-Processing**"
      ],
      "metadata": {
        "id": "gsy2aqYI5ha-"
      }
    },
    {
      "cell_type": "markdown",
      "source": [
        "Pada proses Modelling ini kita akan menggunakan Kolom 'Year' yang merupakan Durasi keseluruhan Matahari Terbit dalam setahun penuh pada Kota-Kota di Dunia untuk melakukan Clustering menggunakan algoritma K-Means dan Hierarchical"
      ],
      "metadata": {
        "id": "6wJRibjN8nSK"
      }
    },
    {
      "cell_type": "code",
      "source": [
        "# Mengambil kolom 'Year'\n",
        "data_tahun = df['Year'].values.reshape(-1, 1)"
      ],
      "metadata": {
        "id": "h1E5O2Lh7ur3"
      },
      "execution_count": null,
      "outputs": []
    },
    {
      "cell_type": "markdown",
      "source": [
        "####Normalisasi Data\n",
        "\n",
        "\n"
      ],
      "metadata": {
        "id": "YcFI9IOejOQg"
      }
    },
    {
      "cell_type": "markdown",
      "source": [
        "Menggunakan Syntax dibawah, akan dilakukan Normalisasi Data pada Data Durasi diatas"
      ],
      "metadata": {
        "id": "JkIPwBYM9LDb"
      }
    },
    {
      "cell_type": "code",
      "source": [
        "# Normalisasi data\n",
        "scaler = StandardScaler()\n",
        "data_tahun_normalized = scaler.fit_transform(data_tahun)"
      ],
      "metadata": {
        "id": "eyqt9oR03Wbx"
      },
      "execution_count": null,
      "outputs": []
    },
    {
      "cell_type": "markdown",
      "source": [
        "####Validasi Silang"
      ],
      "metadata": {
        "id": "4FVGiOTV5T65"
      }
    },
    {
      "cell_type": "code",
      "source": [
        "#nilai inertia\n",
        "nilai_inertia = []\n",
        "\n",
        "# Range nilai cluster yang diuji\n",
        "k_range = range(2, 10)\n",
        "\n",
        "#iterasi untuk setiap nilai K\n",
        "for k in k_range:\n",
        "    # Membuat model KMeans\n",
        "    kmeans = KMeans(n_clusters=k, random_state=42)\n",
        "    # Melatih model pada data\n",
        "    kmeans.fit(data_tahun)\n",
        "    # Menambahkan inertia ke dalam list diatas\n",
        "    nilai_inertia.append(kmeans.inertia_)\n",
        "\n",
        "# Membuat diagram plot untuk Elbow Method\n",
        "plt.plot(k_range, nilai_inertia, marker='o')\n",
        "plt.xlabel('Number of clusters (K)')\n",
        "plt.ylabel('Inertia')\n",
        "plt.title('Elbow Method for Optimal K')\n",
        "plt.xticks(k_range)\n",
        "plt.grid(True)\n",
        "plt.show()\n"
      ],
      "metadata": {
        "colab": {
          "base_uri": "https://localhost:8080/",
          "height": 778
        },
        "id": "og2amxM5s3DX",
        "outputId": "70b9a804-a29b-4746-c4e8-778338934ac2"
      },
      "execution_count": null,
      "outputs": [
        {
          "output_type": "stream",
          "name": "stderr",
          "text": [
            "/usr/local/lib/python3.10/dist-packages/sklearn/cluster/_kmeans.py:870: FutureWarning: The default value of `n_init` will change from 10 to 'auto' in 1.4. Set the value of `n_init` explicitly to suppress the warning\n",
            "  warnings.warn(\n",
            "/usr/local/lib/python3.10/dist-packages/sklearn/cluster/_kmeans.py:870: FutureWarning: The default value of `n_init` will change from 10 to 'auto' in 1.4. Set the value of `n_init` explicitly to suppress the warning\n",
            "  warnings.warn(\n",
            "/usr/local/lib/python3.10/dist-packages/sklearn/cluster/_kmeans.py:870: FutureWarning: The default value of `n_init` will change from 10 to 'auto' in 1.4. Set the value of `n_init` explicitly to suppress the warning\n",
            "  warnings.warn(\n",
            "/usr/local/lib/python3.10/dist-packages/sklearn/cluster/_kmeans.py:870: FutureWarning: The default value of `n_init` will change from 10 to 'auto' in 1.4. Set the value of `n_init` explicitly to suppress the warning\n",
            "  warnings.warn(\n",
            "/usr/local/lib/python3.10/dist-packages/sklearn/cluster/_kmeans.py:870: FutureWarning: The default value of `n_init` will change from 10 to 'auto' in 1.4. Set the value of `n_init` explicitly to suppress the warning\n",
            "  warnings.warn(\n",
            "/usr/local/lib/python3.10/dist-packages/sklearn/cluster/_kmeans.py:870: FutureWarning: The default value of `n_init` will change from 10 to 'auto' in 1.4. Set the value of `n_init` explicitly to suppress the warning\n",
            "  warnings.warn(\n",
            "/usr/local/lib/python3.10/dist-packages/sklearn/cluster/_kmeans.py:870: FutureWarning: The default value of `n_init` will change from 10 to 'auto' in 1.4. Set the value of `n_init` explicitly to suppress the warning\n",
            "  warnings.warn(\n",
            "/usr/local/lib/python3.10/dist-packages/sklearn/cluster/_kmeans.py:870: FutureWarning: The default value of `n_init` will change from 10 to 'auto' in 1.4. Set the value of `n_init` explicitly to suppress the warning\n",
            "  warnings.warn(\n"
          ]
        },
        {
          "output_type": "display_data",
          "data": {
            "text/plain": [
              "<Figure size 640x480 with 1 Axes>"
            ],
            "image/png": "[encoded data removed]"
          },
          "metadata": {}
        }
      ]
    },
    {
      "cell_type": "markdown",
      "source": [
        "Diatas Merupakan Plot Elbow Method. Plot ini bertujuan untuk melihat kualitas permodelan untuk tiap cluster.\n",
        "\n",
        "Dari sini dapat dilihat cluster 3 merupakan cluster paling optimal dilihat dari bentuk siku/sudutnya paling menyerupai Siku-siku"
      ],
      "metadata": {
        "id": "fGex7KH0Ac06"
      }
    },
    {
      "cell_type": "markdown",
      "source": [
        "###**Build Model**"
      ],
      "metadata": {
        "id": "LwJ_v9FS5sRB"
      }
    },
    {
      "cell_type": "markdown",
      "source": [
        "####K-Means"
      ],
      "metadata": {
        "id": "1XqhjojE562k"
      }
    },
    {
      "cell_type": "markdown",
      "source": [
        "Syntax di bawah ini membangun Model Clustering menjadi 3 cluster berbeda pada dataset"
      ],
      "metadata": {
        "id": "EtakRgdKCIGd"
      }
    },
    {
      "cell_type": "code",
      "source": [
        "# Clustering menggunakan KMeans\n",
        "kmeans = KMeans(n_clusters=3, random_state=42)\n",
        "kmeans.fit(data_tahun_normalized)"
      ],
      "metadata": {
        "colab": {
          "base_uri": "https://localhost:8080/",
          "height": 130
        },
        "id": "hd7jkfv7yqua",
        "outputId": "7e1411be-dfce-4d84-fb8c-6f3ff4881525"
      },
      "execution_count": null,
      "outputs": [
        {
          "output_type": "stream",
          "name": "stderr",
          "text": [
            "/usr/local/lib/python3.10/dist-packages/sklearn/cluster/_kmeans.py:870: FutureWarning: The default value of `n_init` will change from 10 to 'auto' in 1.4. Set the value of `n_init` explicitly to suppress the warning\n",
            "  warnings.warn(\n"
          ]
        },
        {
          "output_type": "execute_result",
          "data": {
            "text/plain": [
              "KMeans(n_clusters=3, random_state=42)"
            ],
            "text/html": [
              "<style>#sk-container-id-1 {color: black;background-color: white;}#sk-container-id-1 pre{padding: 0;}#sk-container-id-1 div.sk-toggleable {background-color: white;}#sk-container-id-1 label.sk-toggleable__label {cursor: pointer;display: block;width: 100%;margin-bottom: 0;padding: 0.3em;box-sizing: border-box;text-align: center;}#sk-container-id-1 label.sk-toggleable__label-arrow:before {content: \"▸\";float: left;margin-right: 0.25em;color: #696969;}#sk-container-id-1 label.sk-toggleable__label-arrow:hover:before {color: black;}#sk-container-id-1 div.sk-estimator:hover label.sk-toggleable__label-arrow:before {color: black;}#sk-container-id-1 div.sk-toggleable__content {max-height: 0;max-width: 0;overflow: hidden;text-align: left;background-color: #f0f8ff;}#sk-container-id-1 div.sk-toggleable__content pre {margin: 0.2em;color: black;border-radius: 0.25em;background-color: #f0f8ff;}#sk-container-id-1 input.sk-toggleable__control:checked~div.sk-toggleable__content {max-height: 200px;max-width: 100%;overflow: auto;}#sk-container-id-1 input.sk-toggleable__control:checked~label.sk-toggleable__label-arrow:before {content: \"▾\";}#sk-container-id-1 div.sk-estimator input.sk-toggleable__control:checked~label.sk-toggleable__label {background-color: #d4ebff;}#sk-container-id-1 div.sk-label input.sk-toggleable__control:checked~label.sk-toggleable__label {background-color: #d4ebff;}#sk-container-id-1 input.sk-hidden--visually {border: 0;clip: rect(1px 1px 1px 1px);clip: rect(1px, 1px, 1px, 1px);height: 1px;margin: -1px;overflow: hidden;padding: 0;position: absolute;width: 1px;}#sk-container-id-1 div.sk-estimator {font-family: monospace;background-color: #f0f8ff;border: 1px dotted black;border-radius: 0.25em;box-sizing: border-box;margin-bottom: 0.5em;}#sk-container-id-1 div.sk-estimator:hover {background-color: #d4ebff;}#sk-container-id-1 div.sk-parallel-item::after {content: \"\";width: 100%;border-bottom: 1px solid gray;flex-grow: 1;}#sk-container-id-1 div.sk-label:hover label.sk-toggleable__label {background-color: #d4ebff;}#sk-container-id-1 div.sk-serial::before {content: \"\";position: absolute;border-left: 1px solid gray;box-sizing: border-box;top: 0;bottom: 0;left: 50%;z-index: 0;}#sk-container-id-1 div.sk-serial {display: flex;flex-direction: column;align-items: center;background-color: white;padding-right: 0.2em;padding-left: 0.2em;position: relative;}#sk-container-id-1 div.sk-item {position: relative;z-index: 1;}#sk-container-id-1 div.sk-parallel {display: flex;align-items: stretch;justify-content: center;background-color: white;position: relative;}#sk-container-id-1 div.sk-item::before, #sk-container-id-1 div.sk-parallel-item::before {content: \"\";position: absolute;border-left: 1px solid gray;box-sizing: border-box;top: 0;bottom: 0;left: 50%;z-index: -1;}#sk-container-id-1 div.sk-parallel-item {display: flex;flex-direction: column;z-index: 1;position: relative;background-color: white;}#sk-container-id-1 div.sk-parallel-item:first-child::after {align-self: flex-end;width: 50%;}#sk-container-id-1 div.sk-parallel-item:last-child::after {align-self: flex-start;width: 50%;}#sk-container-id-1 div.sk-parallel-item:only-child::after {width: 0;}#sk-container-id-1 div.sk-dashed-wrapped {border: 1px dashed gray;margin: 0 0.4em 0.5em 0.4em;box-sizing: border-box;padding-bottom: 0.4em;background-color: white;}#sk-container-id-1 div.sk-label label {font-family: monospace;font-weight: bold;display: inline-block;line-height: 1.2em;}#sk-container-id-1 div.sk-label-container {text-align: center;}#sk-container-id-1 div.sk-container {/* jupyter's `normalize.less` sets `[hidden] { display: none; }` but bootstrap.min.css set `[hidden] { display: none !important; }` so we also need the `!important` here to be able to override the default hidden behavior on the sphinx rendered scikit-learn.org. See: https://github.com/scikit-learn/scikit-learn/issues/21755 */display: inline-block !important;position: relative;}#sk-container-id-1 div.sk-text-repr-fallback {display: none;}</style><div id=\"sk-container-id-1\" class=\"sk-top-container\"><div class=\"sk-text-repr-fallback\"><pre>KMeans(n_clusters=3, random_state=42)</pre><b>In a Jupyter environment, please rerun this cell to show the HTML representation or trust the notebook. <br />On GitHub, the HTML representation is unable to render, please try loading this page with nbviewer.org.</b></div><div class=\"sk-container\" hidden><div class=\"sk-item\"><div class=\"sk-estimator sk-toggleable\"><input class=\"sk-toggleable__control sk-hidden--visually\" id=\"sk-estimator-id-1\" type=\"checkbox\" checked><label for=\"sk-estimator-id-1\" class=\"sk-toggleable__label sk-toggleable__label-arrow\">KMeans</label><div class=\"sk-toggleable__content\"><pre>KMeans(n_clusters=3, random_state=42)</pre></div></div></div></div></div>"
            ]
          },
          "metadata": {},
          "execution_count": 27
        }
      ]
    },
    {
      "cell_type": "markdown",
      "source": [
        "####Hierachical Clustering"
      ],
      "metadata": {
        "id": "FNAylGxm6D8n"
      }
    },
    {
      "cell_type": "markdown",
      "source": [
        "Menggunakan Syntax yang dimiliki Library yang ada diatas dilakukan Hierarchical Clustering menggunakan Syntax dibawah ini"
      ],
      "metadata": {
        "id": "W0OgYHANFWQq"
      }
    },
    {
      "cell_type": "code",
      "source": [
        "# Clustering menggunakan Hierarchical Clustering\n",
        "Z = linkage(data_tahun_normalized, method='ward')\n",
        "# Menentukan label cluster dari dendrogram dengan cut_tree\n",
        "cut_labels = cut_tree(Z, n_clusters=3).flatten()"
      ],
      "metadata": {
        "id": "Z9NHNNot6DKj"
      },
      "execution_count": null,
      "outputs": []
    },
    {
      "cell_type": "markdown",
      "source": [
        "###**Begins and Compare Clusters**"
      ],
      "metadata": {
        "id": "lSAt94v16JFd"
      }
    },
    {
      "cell_type": "markdown",
      "source": [
        "Syntax di bawah ini digunakan untuk menampilkan dataset dan hasil cluster yang telah dilakukan sebelumnya"
      ],
      "metadata": {
        "id": "9rBingiNF9VX"
      }
    },
    {
      "cell_type": "code",
      "source": [
        "#Memasukkan hasil Clustering ke dalam dataset\n",
        "df['KMeans Cluster'] = kmeans.labels_\n",
        "df['Hierarchical Cluster'] = cut_labels\n",
        "\n",
        "# Menampilkan hasil clustering\n",
        "df.sample(100)"
      ],
      "metadata": {
        "colab": {
          "base_uri": "https://localhost:8080/",
          "height": 479
        },
        "id": "mC7rFE7P6Xm0",
        "outputId": "60be68d6-9943-4611-e65b-393ab3e9a7ef"
      },
      "execution_count": null,
      "outputs": [
        {
          "output_type": "execute_result",
          "data": {
            "text/plain": [
              "             City    Jan     Feb    Mar    Apr    May    Jun    Jul    Aug  \\\n",
              "160      Cagliari  150.0  163.00  209.0  218.0  270.0  311.0  342.0  321.0   \n",
              "7        La Plata  251.1  229.60  210.8  186.0  155.0  120.0  127.1  161.2   \n",
              "234        Quetta  229.1  209.95  232.5  273.0  334.8  327.0  313.1  313.1   \n",
              "276          Juba  288.3  237.80  220.1  195.0  241.8  225.0  182.9  213.9   \n",
              "274         Busan  199.0  182.50  193.0  210.0  221.7  179.7  165.8  200.9   \n",
              "..            ...    ...     ...    ...    ...    ...    ...    ...    ...   \n",
              "238      Arequipa  223.2  189.30  244.9  294.0  288.3  291.0  291.4  310.0   \n",
              "87         Bogotá  156.0  128.00  107.0   88.0   83.0   94.0  114.0  117.0   \n",
              "11        Yerevan   93.0  108.00  162.0  177.0  242.0  297.0  343.0  332.0   \n",
              "92   Pointe-Noire  157.0  156.00  164.0  160.0  150.0  132.0  119.0  106.0   \n",
              "263    Bratislava   65.0   82.00  152.0  204.0  264.0  270.0  276.0  270.0   \n",
              "\n",
              "       Sep    Oct    Nov    Dec     Year  KMeans Cluster  Hierarchical Cluster  \n",
              "160  243.0  209.0  150.0  127.0  2726.00               0                     1  \n",
              "7    171.0  207.7  225.0  238.7  2283.20               0                     2  \n",
              "234  294.0  306.9  279.0  238.7  3341.25               2                     0  \n",
              "276  225.0  235.6  237.0  251.1  2753.50               0                     1  \n",
              "274  167.2  208.9  194.4  204.3  2327.30               0                     2  \n",
              "..     ...    ...    ...    ...      ...             ...                   ...  \n",
              "238  297.0  303.8  309.0  291.4  3333.30               2                     0  \n",
              "87   109.0   96.0  103.0  138.0  1328.00               1                     2  \n",
              "11   278.0  212.0  138.0   92.0  2474.00               0                     1  \n",
              "92    70.0   93.0  123.0  144.0  1574.00               1                     2  \n",
              "263  207.0  143.0   60.0   47.0  2038.00               1                     2  \n",
              "\n",
              "[100 rows x 16 columns]"
            ],
            "text/html": [
              "\n",
              "  <div id=\"df-8f5a7c7a-0786-4865-bd91-53fa8a8d7537\" class=\"colab-df-container\">\n",
              "    <div>\n",
              "<style scoped>\n",
              "    .dataframe tbody tr th:only-of-type {\n",
              "        vertical-align: middle;\n",
              "    }\n",
              "\n",
              "    .dataframe tbody tr th {\n",
              "        vertical-align: top;\n",
              "    }\n",
              "\n",
              "    .dataframe thead th {\n",
              "        text-align: right;\n",
              "    }\n",
              "</style>\n",
              "<table border=\"1\" class=\"dataframe\">\n",
              "  <thead>\n",
              "    <tr style=\"text-align: right;\">\n",
              "      <th></th>\n",
              "      <th>City</th>\n",
              "      <th>Jan</th>\n",
              "      <th>Feb</th>\n",
              "      <th>Mar</th>\n",
              "      <th>Apr</th>\n",
              "      <th>May</th>\n",
              "      <th>Jun</th>\n",
              "      <th>Jul</th>\n",
              "      <th>Aug</th>\n",
              "      <th>Sep</th>\n",
              "      <th>Oct</th>\n",
              "      <th>Nov</th>\n",
              "      <th>Dec</th>\n",
              "      <th>Year</th>\n",
              "      <th>KMeans Cluster</th>\n",
              "      <th>Hierarchical Cluster</th>\n",
              "    </tr>\n",
              "  </thead>\n",
              "  <tbody>\n",
              "    <tr>\n",
              "      <th>160</th>\n",
              "      <td>Cagliari</td>\n",
              "      <td>150.0</td>\n",
              "      <td>163.00</td>\n",
              "      <td>209.0</td>\n",
              "      <td>218.0</td>\n",
              "      <td>270.0</td>\n",
              "      <td>311.0</td>\n",
              "      <td>342.0</td>\n",
              "      <td>321.0</td>\n",
              "      <td>243.0</td>\n",
              "      <td>209.0</td>\n",
              "      <td>150.0</td>\n",
              "      <td>127.0</td>\n",
              "      <td>2726.00</td>\n",
              "      <td>0</td>\n",
              "      <td>1</td>\n",
              "    </tr>\n",
              "    <tr>\n",
              "      <th>7</th>\n",
              "      <td>La Plata</td>\n",
              "      <td>251.1</td>\n",
              "      <td>229.60</td>\n",
              "      <td>210.8</td>\n",
              "      <td>186.0</td>\n",
              "      <td>155.0</td>\n",
              "      <td>120.0</td>\n",
              "      <td>127.1</td>\n",
              "      <td>161.2</td>\n",
              "      <td>171.0</td>\n",
              "      <td>207.7</td>\n",
              "      <td>225.0</td>\n",
              "      <td>238.7</td>\n",
              "      <td>2283.20</td>\n",
              "      <td>0</td>\n",
              "      <td>2</td>\n",
              "    </tr>\n",
              "    <tr>\n",
              "      <th>234</th>\n",
              "      <td>Quetta</td>\n",
              "      <td>229.1</td>\n",
              "      <td>209.95</td>\n",
              "      <td>232.5</td>\n",
              "      <td>273.0</td>\n",
              "      <td>334.8</td>\n",
              "      <td>327.0</td>\n",
              "      <td>313.1</td>\n",
              "      <td>313.1</td>\n",
              "      <td>294.0</td>\n",
              "      <td>306.9</td>\n",
              "      <td>279.0</td>\n",
              "      <td>238.7</td>\n",
              "      <td>3341.25</td>\n",
              "      <td>2</td>\n",
              "      <td>0</td>\n",
              "    </tr>\n",
              "    <tr>\n",
              "      <th>276</th>\n",
              "      <td>Juba</td>\n",
              "      <td>288.3</td>\n",
              "      <td>237.80</td>\n",
              "      <td>220.1</td>\n",
              "      <td>195.0</td>\n",
              "      <td>241.8</td>\n",
              "      <td>225.0</td>\n",
              "      <td>182.9</td>\n",
              "      <td>213.9</td>\n",
              "      <td>225.0</td>\n",
              "      <td>235.6</td>\n",
              "      <td>237.0</td>\n",
              "      <td>251.1</td>\n",
              "      <td>2753.50</td>\n",
              "      <td>0</td>\n",
              "      <td>1</td>\n",
              "    </tr>\n",
              "    <tr>\n",
              "      <th>274</th>\n",
              "      <td>Busan</td>\n",
              "      <td>199.0</td>\n",
              "      <td>182.50</td>\n",
              "      <td>193.0</td>\n",
              "      <td>210.0</td>\n",
              "      <td>221.7</td>\n",
              "      <td>179.7</td>\n",
              "      <td>165.8</td>\n",
              "      <td>200.9</td>\n",
              "      <td>167.2</td>\n",
              "      <td>208.9</td>\n",
              "      <td>194.4</td>\n",
              "      <td>204.3</td>\n",
              "      <td>2327.30</td>\n",
              "      <td>0</td>\n",
              "      <td>2</td>\n",
              "    </tr>\n",
              "    <tr>\n",
              "      <th>...</th>\n",
              "      <td>...</td>\n",
              "      <td>...</td>\n",
              "      <td>...</td>\n",
              "      <td>...</td>\n",
              "      <td>...</td>\n",
              "      <td>...</td>\n",
              "      <td>...</td>\n",
              "      <td>...</td>\n",
              "      <td>...</td>\n",
              "      <td>...</td>\n",
              "      <td>...</td>\n",
              "      <td>...</td>\n",
              "      <td>...</td>\n",
              "      <td>...</td>\n",
              "      <td>...</td>\n",
              "      <td>...</td>\n",
              "    </tr>\n",
              "    <tr>\n",
              "      <th>238</th>\n",
              "      <td>Arequipa</td>\n",
              "      <td>223.2</td>\n",
              "      <td>189.30</td>\n",
              "      <td>244.9</td>\n",
              "      <td>294.0</td>\n",
              "      <td>288.3</td>\n",
              "      <td>291.0</td>\n",
              "      <td>291.4</td>\n",
              "      <td>310.0</td>\n",
              "      <td>297.0</td>\n",
              "      <td>303.8</td>\n",
              "      <td>309.0</td>\n",
              "      <td>291.4</td>\n",
              "      <td>3333.30</td>\n",
              "      <td>2</td>\n",
              "      <td>0</td>\n",
              "    </tr>\n",
              "    <tr>\n",
              "      <th>87</th>\n",
              "      <td>Bogotá</td>\n",
              "      <td>156.0</td>\n",
              "      <td>128.00</td>\n",
              "      <td>107.0</td>\n",
              "      <td>88.0</td>\n",
              "      <td>83.0</td>\n",
              "      <td>94.0</td>\n",
              "      <td>114.0</td>\n",
              "      <td>117.0</td>\n",
              "      <td>109.0</td>\n",
              "      <td>96.0</td>\n",
              "      <td>103.0</td>\n",
              "      <td>138.0</td>\n",
              "      <td>1328.00</td>\n",
              "      <td>1</td>\n",
              "      <td>2</td>\n",
              "    </tr>\n",
              "    <tr>\n",
              "      <th>11</th>\n",
              "      <td>Yerevan</td>\n",
              "      <td>93.0</td>\n",
              "      <td>108.00</td>\n",
              "      <td>162.0</td>\n",
              "      <td>177.0</td>\n",
              "      <td>242.0</td>\n",
              "      <td>297.0</td>\n",
              "      <td>343.0</td>\n",
              "      <td>332.0</td>\n",
              "      <td>278.0</td>\n",
              "      <td>212.0</td>\n",
              "      <td>138.0</td>\n",
              "      <td>92.0</td>\n",
              "      <td>2474.00</td>\n",
              "      <td>0</td>\n",
              "      <td>1</td>\n",
              "    </tr>\n",
              "    <tr>\n",
              "      <th>92</th>\n",
              "      <td>Pointe-Noire</td>\n",
              "      <td>157.0</td>\n",
              "      <td>156.00</td>\n",
              "      <td>164.0</td>\n",
              "      <td>160.0</td>\n",
              "      <td>150.0</td>\n",
              "      <td>132.0</td>\n",
              "      <td>119.0</td>\n",
              "      <td>106.0</td>\n",
              "      <td>70.0</td>\n",
              "      <td>93.0</td>\n",
              "      <td>123.0</td>\n",
              "      <td>144.0</td>\n",
              "      <td>1574.00</td>\n",
              "      <td>1</td>\n",
              "      <td>2</td>\n",
              "    </tr>\n",
              "    <tr>\n",
              "      <th>263</th>\n",
              "      <td>Bratislava</td>\n",
              "      <td>65.0</td>\n",
              "      <td>82.00</td>\n",
              "      <td>152.0</td>\n",
              "      <td>204.0</td>\n",
              "      <td>264.0</td>\n",
              "      <td>270.0</td>\n",
              "      <td>276.0</td>\n",
              "      <td>270.0</td>\n",
              "      <td>207.0</td>\n",
              "      <td>143.0</td>\n",
              "      <td>60.0</td>\n",
              "      <td>47.0</td>\n",
              "      <td>2038.00</td>\n",
              "      <td>1</td>\n",
              "      <td>2</td>\n",
              "    </tr>\n",
              "  </tbody>\n",
              "</table>\n",
              "<p>100 rows × 16 columns</p>\n",
              "</div>\n",
              "    <div class=\"colab-df-buttons\">\n",
              "\n",
              "  <div class=\"colab-df-container\">\n",
              "    <button class=\"colab-df-convert\" onclick=\"convertToInteractive('df-8f5a7c7a-0786-4865-bd91-53fa8a8d7537')\"\n",
              "            title=\"Convert this dataframe to an interactive table.\"\n",
              "            style=\"display:none;\">\n",
              "\n",
              "  <svg xmlns=\"http://www.w3.org/2000/svg\" height=\"24px\" viewBox=\"0 -960 960 960\">\n",
              "    <path d=\"M120-120v-720h720v720H120Zm60-500h600v-160H180v160Zm220 220h160v-160H400v160Zm0 220h160v-160H400v160ZM180-400h160v-160H180v160Zm440 0h160v-160H620v160ZM180-180h160v-160H180v160Zm440 0h160v-160H620v160Z\"/>\n",
              "  </svg>\n",
              "    </button>\n",
              "\n",
              "  <style>\n",
              "    .colab-df-container {\n",
              "      display:flex;\n",
              "      gap: 12px;\n",
              "    }\n",
              "\n",
              "    .colab-df-convert {\n",
              "      background-color: #E8F0FE;\n",
              "      border: none;\n",
              "      border-radius: 50%;\n",
              "      cursor: pointer;\n",
              "      display: none;\n",
              "      fill: #1967D2;\n",
              "      height: 32px;\n",
              "      padding: 0 0 0 0;\n",
              "      width: 32px;\n",
              "    }\n",
              "\n",
              "    .colab-df-convert:hover {\n",
              "      background-color: #E2EBFA;\n",
              "      box-shadow: 0px 1px 2px rgba(60, 64, 67, 0.3), 0px 1px 3px 1px rgba(60, 64, 67, 0.15);\n",
              "      fill: #174EA6;\n",
              "    }\n",
              "\n",
              "    .colab-df-buttons div {\n",
              "      margin-bottom: 4px;\n",
              "    }\n",
              "\n",
              "    [theme=dark] .colab-df-convert {\n",
              "      background-color: #3B4455;\n",
              "      fill: #D2E3FC;\n",
              "    }\n",
              "\n",
              "    [theme=dark] .colab-df-convert:hover {\n",
              "      background-color: #434B5C;\n",
              "      box-shadow: 0px 1px 3px 1px rgba(0, 0, 0, 0.15);\n",
              "      filter: drop-shadow(0px 1px 2px rgba(0, 0, 0, 0.3));\n",
              "      fill: #FFFFFF;\n",
              "    }\n",
              "  </style>\n",
              "\n",
              "    <script>\n",
              "      const buttonEl =\n",
              "        document.querySelector('#df-8f5a7c7a-0786-4865-bd91-53fa8a8d7537 button.colab-df-convert');\n",
              "      buttonEl.style.display =\n",
              "        google.colab.kernel.accessAllowed ? 'block' : 'none';\n",
              "\n",
              "      async function convertToInteractive(key) {\n",
              "        const element = document.querySelector('#df-8f5a7c7a-0786-4865-bd91-53fa8a8d7537');\n",
              "        const dataTable =\n",
              "          await google.colab.kernel.invokeFunction('convertToInteractive',\n",
              "                                                    [key], {});\n",
              "        if (!dataTable) return;\n",
              "\n",
              "        const docLinkHtml = 'Like what you see? Visit the ' +\n",
              "          '<a target=\"_blank\" href=https://colab.research.google.com/notebooks/data_table.ipynb>data table notebook</a>'\n",
              "          + ' to learn more about interactive tables.';\n",
              "        element.innerHTML = '';\n",
              "        dataTable['output_type'] = 'display_data';\n",
              "        await google.colab.output.renderOutput(dataTable, element);\n",
              "        const docLink = document.createElement('div');\n",
              "        docLink.innerHTML = docLinkHtml;\n",
              "        element.appendChild(docLink);\n",
              "      }\n",
              "    </script>\n",
              "  </div>\n",
              "\n",
              "\n",
              "<div id=\"df-d6727b0c-d0c3-4702-a56f-6f32cc5c8305\">\n",
              "  <button class=\"colab-df-quickchart\" onclick=\"quickchart('df-d6727b0c-d0c3-4702-a56f-6f32cc5c8305')\"\n",
              "            title=\"Suggest charts\"\n",
              "            style=\"display:none;\">\n",
              "\n",
              "<svg xmlns=\"http://www.w3.org/2000/svg\" height=\"24px\"viewBox=\"0 0 24 24\"\n",
              "     width=\"24px\">\n",
              "    <g>\n",
              "        <path d=\"M19 3H5c-1.1 0-2 .9-2 2v14c0 1.1.9 2 2 2h14c1.1 0 2-.9 2-2V5c0-1.1-.9-2-2-2zM9 17H7v-7h2v7zm4 0h-2V7h2v10zm4 0h-2v-4h2v4z\"/>\n",
              "    </g>\n",
              "</svg>\n",
              "  </button>\n",
              "\n",
              "<style>\n",
              "  .colab-df-quickchart {\n",
              "      --bg-color: #E8F0FE;\n",
              "      --fill-color: #1967D2;\n",
              "      --hover-bg-color: #E2EBFA;\n",
              "      --hover-fill-color: #174EA6;\n",
              "      --disabled-fill-color: #AAA;\n",
              "      --disabled-bg-color: #DDD;\n",
              "  }\n",
              "\n",
              "  [theme=dark] .colab-df-quickchart {\n",
              "      --bg-color: #3B4455;\n",
              "      --fill-color: #D2E3FC;\n",
              "      --hover-bg-color: #434B5C;\n",
              "      --hover-fill-color: #FFFFFF;\n",
              "      --disabled-bg-color: #3B4455;\n",
              "      --disabled-fill-color: #666;\n",
              "  }\n",
              "\n",
              "  .colab-df-quickchart {\n",
              "    background-color: var(--bg-color);\n",
              "    border: none;\n",
              "    border-radius: 50%;\n",
              "    cursor: pointer;\n",
              "    display: none;\n",
              "    fill: var(--fill-color);\n",
              "    height: 32px;\n",
              "    padding: 0;\n",
              "    width: 32px;\n",
              "  }\n",
              "\n",
              "  .colab-df-quickchart:hover {\n",
              "    background-color: var(--hover-bg-color);\n",
              "    box-shadow: 0 1px 2px rgba(60, 64, 67, 0.3), 0 1px 3px 1px rgba(60, 64, 67, 0.15);\n",
              "    fill: var(--button-hover-fill-color);\n",
              "  }\n",
              "\n",
              "  .colab-df-quickchart-complete:disabled,\n",
              "  .colab-df-quickchart-complete:disabled:hover {\n",
              "    background-color: var(--disabled-bg-color);\n",
              "    fill: var(--disabled-fill-color);\n",
              "    box-shadow: none;\n",
              "  }\n",
              "\n",
              "  .colab-df-spinner {\n",
              "    border: 2px solid var(--fill-color);\n",
              "    border-color: transparent;\n",
              "    border-bottom-color: var(--fill-color);\n",
              "    animation:\n",
              "      spin 1s steps(1) infinite;\n",
              "  }\n",
              "\n",
              "  @keyframes spin {\n",
              "    0% {\n",
              "      border-color: transparent;\n",
              "      border-bottom-color: var(--fill-color);\n",
              "      border-left-color: var(--fill-color);\n",
              "    }\n",
              "    20% {\n",
              "      border-color: transparent;\n",
              "      border-left-color: var(--fill-color);\n",
              "      border-top-color: var(--fill-color);\n",
              "    }\n",
              "    30% {\n",
              "      border-color: transparent;\n",
              "      border-left-color: var(--fill-color);\n",
              "      border-top-color: var(--fill-color);\n",
              "      border-right-color: var(--fill-color);\n",
              "    }\n",
              "    40% {\n",
              "      border-color: transparent;\n",
              "      border-right-color: var(--fill-color);\n",
              "      border-top-color: var(--fill-color);\n",
              "    }\n",
              "    60% {\n",
              "      border-color: transparent;\n",
              "      border-right-color: var(--fill-color);\n",
              "    }\n",
              "    80% {\n",
              "      border-color: transparent;\n",
              "      border-right-color: var(--fill-color);\n",
              "      border-bottom-color: var(--fill-color);\n",
              "    }\n",
              "    90% {\n",
              "      border-color: transparent;\n",
              "      border-bottom-color: var(--fill-color);\n",
              "    }\n",
              "  }\n",
              "</style>\n",
              "\n",
              "  <script>\n",
              "    async function quickchart(key) {\n",
              "      const quickchartButtonEl =\n",
              "        document.querySelector('#' + key + ' button');\n",
              "      quickchartButtonEl.disabled = true;  // To prevent multiple clicks.\n",
              "      quickchartButtonEl.classList.add('colab-df-spinner');\n",
              "      try {\n",
              "        const charts = await google.colab.kernel.invokeFunction(\n",
              "            'suggestCharts', [key], {});\n",
              "      } catch (error) {\n",
              "        console.error('Error during call to suggestCharts:', error);\n",
              "      }\n",
              "      quickchartButtonEl.classList.remove('colab-df-spinner');\n",
              "      quickchartButtonEl.classList.add('colab-df-quickchart-complete');\n",
              "    }\n",
              "    (() => {\n",
              "      let quickchartButtonEl =\n",
              "        document.querySelector('#df-d6727b0c-d0c3-4702-a56f-6f32cc5c8305 button');\n",
              "      quickchartButtonEl.style.display =\n",
              "        google.colab.kernel.accessAllowed ? 'block' : 'none';\n",
              "    })();\n",
              "  </script>\n",
              "</div>\n",
              "    </div>\n",
              "  </div>\n"
            ],
            "application/vnd.google.colaboratory.intrinsic+json": {
              "type": "dataframe",
              "summary": "{\n  \"name\": \"df\",\n  \"rows\": 100,\n  \"fields\": [\n    {\n      \"column\": \"City\",\n      \"properties\": {\n        \"dtype\": \"string\",\n        \"num_unique_values\": 100,\n        \"samples\": [\n          \"Vancouver\",\n          \"Manaus\",\n          \"Kankan\"\n        ],\n        \"semantic_type\": \"\",\n        \"description\": \"\"\n      }\n    },\n    {\n      \"column\": \"Jan\",\n      \"properties\": {\n        \"dtype\": \"number\",\n        \"std\": 79.77427564412886,\n        \"min\": 18.6,\n        \"max\": 356.5,\n        \"num_unique_values\": 88,\n        \"samples\": [\n          283.0,\n          150.0,\n          262.0\n        ],\n        \"semantic_type\": \"\",\n        \"description\": \"\"\n      }\n    },\n    {\n      \"column\": \"Feb\",\n      \"properties\": {\n        \"dtype\": \"number\",\n        \"std\": 63.17994755042733,\n        \"min\": 57.0,\n        \"max\": 314.9,\n        \"num_unique_values\": 94,\n        \"samples\": [\n          314.9,\n          258.2,\n          249.0\n        ],\n        \"semantic_type\": \"\",\n        \"description\": \"\"\n      }\n    },\n    {\n      \"column\": \"Mar\",\n      \"properties\": {\n        \"dtype\": \"number\",\n        \"std\": 57.01800228742221,\n        \"min\": 89.1,\n        \"max\": 322.4,\n        \"num_unique_values\": 88,\n        \"samples\": [\n          233.3,\n          209.0,\n          279.0\n        ],\n        \"semantic_type\": \"\",\n        \"description\": \"\"\n      }\n    },\n    {\n      \"column\": \"Apr\",\n      \"properties\": {\n        \"dtype\": \"number\",\n        \"std\": 54.14605063150866,\n        \"min\": 88.0,\n        \"max\": 357.2,\n        \"num_unique_values\": 79,\n        \"samples\": [\n          144.0,\n          218.0,\n          180.0\n        ],\n        \"semantic_type\": \"\",\n        \"description\": \"\"\n      }\n    },\n    {\n      \"column\": \"May\",\n      \"properties\": {\n        \"dtype\": \"number\",\n        \"std\": 62.480568898650326,\n        \"min\": 68.2,\n        \"max\": 400.8,\n        \"num_unique_values\": 90,\n        \"samples\": [\n          211.7,\n          400.8,\n          299.0\n        ],\n        \"semantic_type\": \"\",\n        \"description\": \"\"\n      }\n    },\n    {\n      \"column\": \"Jun\",\n      \"properties\": {\n        \"dtype\": \"number\",\n        \"std\": 72.50756769977444,\n        \"min\": 45.0,\n        \"max\": 396.9,\n        \"num_unique_values\": 91,\n        \"samples\": [\n          180.6,\n          396.9,\n          259.0\n        ],\n        \"semantic_type\": \"\",\n        \"description\": \"\"\n      }\n    },\n    {\n      \"column\": \"Jul\",\n      \"properties\": {\n        \"dtype\": \"number\",\n        \"std\": 81.31179220454528,\n        \"min\": 62.0,\n        \"max\": 387.5,\n        \"num_unique_values\": 94,\n        \"samples\": [\n          188.4,\n          342.7,\n          122.0\n        ],\n        \"semantic_type\": \"\",\n        \"description\": \"\"\n      }\n    },\n    {\n      \"column\": \"Aug\",\n      \"properties\": {\n        \"dtype\": \"number\",\n        \"std\": 72.62200948483981,\n        \"min\": 62.0,\n        \"max\": 365.8,\n        \"num_unique_values\": 93,\n        \"samples\": [\n          294.5,\n          335.6,\n          216.0\n        ],\n        \"semantic_type\": \"\",\n        \"description\": \"\"\n      }\n    },\n    {\n      \"column\": \"Sep\",\n      \"properties\": {\n        \"dtype\": \"number\",\n        \"std\": 60.273136720275396,\n        \"min\": 70.0,\n        \"max\": 321.0,\n        \"num_unique_values\": 84,\n        \"samples\": [\n          153.0,\n          243.0,\n          191.0\n        ],\n        \"semantic_type\": \"\",\n        \"description\": \"\"\n      }\n    },\n    {\n      \"column\": \"Oct\",\n      \"properties\": {\n        \"dtype\": \"number\",\n        \"std\": 67.2402777020927,\n        \"min\": 58.1,\n        \"max\": 356.5,\n        \"num_unique_values\": 91,\n        \"samples\": [\n          279.0,\n          164.0,\n          254.0\n        ],\n        \"semantic_type\": \"\",\n        \"description\": \"\"\n      }\n    },\n    {\n      \"column\": \"Nov\",\n      \"properties\": {\n        \"dtype\": \"number\",\n        \"std\": 76.38540779653157,\n        \"min\": 35.0,\n        \"max\": 363.0,\n        \"num_unique_values\": 87,\n        \"samples\": [\n          269.2,\n          150.0,\n          190.0\n        ],\n        \"semantic_type\": \"\",\n        \"description\": \"\"\n      }\n    },\n    {\n      \"column\": \"Dec\",\n      \"properties\": {\n        \"dtype\": \"number\",\n        \"std\": 81.5250733631604,\n        \"min\": 9.3,\n        \"max\": 365.8,\n        \"num_unique_values\": 93,\n        \"samples\": [\n          31.0,\n          68.0,\n          94.0\n        ],\n        \"semantic_type\": \"\",\n        \"description\": \"\"\n      }\n    },\n    {\n      \"column\": \"Year\",\n      \"properties\": {\n        \"dtype\": \"number\",\n        \"std\": 605.9102700301673,\n        \"min\": 1326.0,\n        \"max\": 3926.2,\n        \"num_unique_values\": 100,\n        \"samples\": [\n          1937.6,\n          1774.8,\n          2658.0\n        ],\n        \"semantic_type\": \"\",\n        \"description\": \"\"\n      }\n    },\n    {\n      \"column\": \"KMeans Cluster\",\n      \"properties\": {\n        \"dtype\": \"int32\",\n        \"num_unique_values\": 3,\n        \"samples\": [\n          0,\n          2,\n          1\n        ],\n        \"semantic_type\": \"\",\n        \"description\": \"\"\n      }\n    },\n    {\n      \"column\": \"Hierarchical Cluster\",\n      \"properties\": {\n        \"dtype\": \"number\",\n        \"std\": 0,\n        \"min\": 0,\n        \"max\": 2,\n        \"num_unique_values\": 3,\n        \"samples\": [\n          1,\n          2,\n          0\n        ],\n        \"semantic_type\": \"\",\n        \"description\": \"\"\n      }\n    }\n  ]\n}"
            }
          },
          "metadata": {},
          "execution_count": 29
        }
      ]
    },
    {
      "cell_type": "markdown",
      "source": [
        "Dari Dataframe diatas dapat dilihat hasil dari clustering yang telah dilakukan menggunakan data 'Year' yang merupakan Durasi Matahari Terbit pada Kota-Kota di Dunia dalam Setahun Penuh secara keseluruhan dan dimana tiap Kota yang ada di dataset terbagi menjadi 3 cluster yang berbeda menggunakan algoritma K-means dan Hierarchical Clustering yang telah dilakukan diatas"
      ],
      "metadata": {
        "id": "OJpnJXsWGLkm"
      }
    },
    {
      "cell_type": "markdown",
      "source": [
        "#**Evaluation**"
      ],
      "metadata": {
        "id": "UTZDH_3Cf1bf"
      }
    },
    {
      "cell_type": "markdown",
      "source": [
        "##**Evaluate Result**"
      ],
      "metadata": {
        "id": "KevU2S7YgJ3P"
      }
    },
    {
      "cell_type": "markdown",
      "source": [
        "###**Klustering**"
      ],
      "metadata": {
        "id": "oB6tlbUYl8V9"
      }
    },
    {
      "cell_type": "code",
      "source": [
        "from sklearn.metrics import silhouette_score, calinski_harabasz_score, davies_bouldin_score\n",
        "\n",
        "silhouette_avg_kmeans = silhouette_score(data_tahun_normalized, kmeans.labels_)\n",
        "ch_score_kmeans = calinski_harabasz_score(data_tahun_normalized, kmeans.labels_)\n",
        "db_score_kmeans = davies_bouldin_score(data_tahun_normalized, kmeans.labels_)\n",
        "\n",
        "silhouette_avg_hc = silhouette_score(data_tahun_normalized, cut_labels)\n",
        "ch_score_hc = calinski_harabasz_score(data_tahun_normalized, cut_labels)\n",
        "db_score_hc = davies_bouldin_score(data_tahun_normalized, cut_labels)\n",
        "\n",
        "metrics = [\"Silhouette Score\", \"Calinski-Harabasz Score\", \"Davies-Bouldin Score\"]\n",
        "scores_kmeans = [silhouette_avg_kmeans, ch_score_kmeans, db_score_kmeans]\n",
        "scores_hc = [silhouette_avg_hc, ch_score_hc, db_score_hc]\n",
        "\n",
        "df_scores = pd.DataFrame({'': metrics,\n",
        "                          'KMeans Score': scores_kmeans,\n",
        "                          'Agglomerative Clustering Score': scores_hc})\n",
        "\n",
        "df_scores = df_scores.set_index('')\n",
        "\n",
        "df_scores = df_scores.T\n",
        "\n",
        "display(df_scores)"
      ],
      "metadata": {
        "id": "fHd_UjobCP7J",
        "colab": {
          "base_uri": "https://localhost:8080/",
          "height": 112
        },
        "outputId": "0c69df0b-8928-4981-9cf5-d81fab81d9b8"
      },
      "execution_count": null,
      "outputs": [
        {
          "output_type": "display_data",
          "data": {
            "text/plain": [
              "                                Silhouette Score  Calinski-Harabasz Score  \\\n",
              "KMeans Score                            0.558436              1049.845662   \n",
              "Agglomerative Clustering Score          0.516240               874.413820   \n",
              "\n",
              "                                Davies-Bouldin Score  \n",
              "KMeans Score                                0.533844  \n",
              "Agglomerative Clustering Score              0.556101  "
            ],
            "text/html": [
              "\n",
              "  <div id=\"df-c4c07ed8-a449-482d-b49f-0c3858c0469c\" class=\"colab-df-container\">\n",
              "    <div>\n",
              "<style scoped>\n",
              "    .dataframe tbody tr th:only-of-type {\n",
              "        vertical-align: middle;\n",
              "    }\n",
              "\n",
              "    .dataframe tbody tr th {\n",
              "        vertical-align: top;\n",
              "    }\n",
              "\n",
              "    .dataframe thead th {\n",
              "        text-align: right;\n",
              "    }\n",
              "</style>\n",
              "<table border=\"1\" class=\"dataframe\">\n",
              "  <thead>\n",
              "    <tr style=\"text-align: right;\">\n",
              "      <th></th>\n",
              "      <th>Silhouette Score</th>\n",
              "      <th>Calinski-Harabasz Score</th>\n",
              "      <th>Davies-Bouldin Score</th>\n",
              "    </tr>\n",
              "  </thead>\n",
              "  <tbody>\n",
              "    <tr>\n",
              "      <th>KMeans Score</th>\n",
              "      <td>0.558436</td>\n",
              "      <td>1049.845662</td>\n",
              "      <td>0.533844</td>\n",
              "    </tr>\n",
              "    <tr>\n",
              "      <th>Agglomerative Clustering Score</th>\n",
              "      <td>0.516240</td>\n",
              "      <td>874.413820</td>\n",
              "      <td>0.556101</td>\n",
              "    </tr>\n",
              "  </tbody>\n",
              "</table>\n",
              "</div>\n",
              "    <div class=\"colab-df-buttons\">\n",
              "\n",
              "  <div class=\"colab-df-container\">\n",
              "    <button class=\"colab-df-convert\" onclick=\"convertToInteractive('df-c4c07ed8-a449-482d-b49f-0c3858c0469c')\"\n",
              "            title=\"Convert this dataframe to an interactive table.\"\n",
              "            style=\"display:none;\">\n",
              "\n",
              "  <svg xmlns=\"http://www.w3.org/2000/svg\" height=\"24px\" viewBox=\"0 -960 960 960\">\n",
              "    <path d=\"M120-120v-720h720v720H120Zm60-500h600v-160H180v160Zm220 220h160v-160H400v160Zm0 220h160v-160H400v160ZM180-400h160v-160H180v160Zm440 0h160v-160H620v160ZM180-180h160v-160H180v160Zm440 0h160v-160H620v160Z\"/>\n",
              "  </svg>\n",
              "    </button>\n",
              "\n",
              "  <style>\n",
              "    .colab-df-container {\n",
              "      display:flex;\n",
              "      gap: 12px;\n",
              "    }\n",
              "\n",
              "    .colab-df-convert {\n",
              "      background-color: #E8F0FE;\n",
              "      border: none;\n",
              "      border-radius: 50%;\n",
              "      cursor: pointer;\n",
              "      display: none;\n",
              "      fill: #1967D2;\n",
              "      height: 32px;\n",
              "      padding: 0 0 0 0;\n",
              "      width: 32px;\n",
              "    }\n",
              "\n",
              "    .colab-df-convert:hover {\n",
              "      background-color: #E2EBFA;\n",
              "      box-shadow: 0px 1px 2px rgba(60, 64, 67, 0.3), 0px 1px 3px 1px rgba(60, 64, 67, 0.15);\n",
              "      fill: #174EA6;\n",
              "    }\n",
              "\n",
              "    .colab-df-buttons div {\n",
              "      margin-bottom: 4px;\n",
              "    }\n",
              "\n",
              "    [theme=dark] .colab-df-convert {\n",
              "      background-color: #3B4455;\n",
              "      fill: #D2E3FC;\n",
              "    }\n",
              "\n",
              "    [theme=dark] .colab-df-convert:hover {\n",
              "      background-color: #434B5C;\n",
              "      box-shadow: 0px 1px 3px 1px rgba(0, 0, 0, 0.15);\n",
              "      filter: drop-shadow(0px 1px 2px rgba(0, 0, 0, 0.3));\n",
              "      fill: #FFFFFF;\n",
              "    }\n",
              "  </style>\n",
              "\n",
              "    <script>\n",
              "      const buttonEl =\n",
              "        document.querySelector('#df-c4c07ed8-a449-482d-b49f-0c3858c0469c button.colab-df-convert');\n",
              "      buttonEl.style.display =\n",
              "        google.colab.kernel.accessAllowed ? 'block' : 'none';\n",
              "\n",
              "      async function convertToInteractive(key) {\n",
              "        const element = document.querySelector('#df-c4c07ed8-a449-482d-b49f-0c3858c0469c');\n",
              "        const dataTable =\n",
              "          await google.colab.kernel.invokeFunction('convertToInteractive',\n",
              "                                                    [key], {});\n",
              "        if (!dataTable) return;\n",
              "\n",
              "        const docLinkHtml = 'Like what you see? Visit the ' +\n",
              "          '<a target=\"_blank\" href=https://colab.research.google.com/notebooks/data_table.ipynb>data table notebook</a>'\n",
              "          + ' to learn more about interactive tables.';\n",
              "        element.innerHTML = '';\n",
              "        dataTable['output_type'] = 'display_data';\n",
              "        await google.colab.output.renderOutput(dataTable, element);\n",
              "        const docLink = document.createElement('div');\n",
              "        docLink.innerHTML = docLinkHtml;\n",
              "        element.appendChild(docLink);\n",
              "      }\n",
              "    </script>\n",
              "  </div>\n",
              "\n",
              "\n",
              "<div id=\"df-7a30086d-2131-46f0-b23a-683e82ebb015\">\n",
              "  <button class=\"colab-df-quickchart\" onclick=\"quickchart('df-7a30086d-2131-46f0-b23a-683e82ebb015')\"\n",
              "            title=\"Suggest charts\"\n",
              "            style=\"display:none;\">\n",
              "\n",
              "<svg xmlns=\"http://www.w3.org/2000/svg\" height=\"24px\"viewBox=\"0 0 24 24\"\n",
              "     width=\"24px\">\n",
              "    <g>\n",
              "        <path d=\"M19 3H5c-1.1 0-2 .9-2 2v14c0 1.1.9 2 2 2h14c1.1 0 2-.9 2-2V5c0-1.1-.9-2-2-2zM9 17H7v-7h2v7zm4 0h-2V7h2v10zm4 0h-2v-4h2v4z\"/>\n",
              "    </g>\n",
              "</svg>\n",
              "  </button>\n",
              "\n",
              "<style>\n",
              "  .colab-df-quickchart {\n",
              "      --bg-color: #E8F0FE;\n",
              "      --fill-color: #1967D2;\n",
              "      --hover-bg-color: #E2EBFA;\n",
              "      --hover-fill-color: #174EA6;\n",
              "      --disabled-fill-color: #AAA;\n",
              "      --disabled-bg-color: #DDD;\n",
              "  }\n",
              "\n",
              "  [theme=dark] .colab-df-quickchart {\n",
              "      --bg-color: #3B4455;\n",
              "      --fill-color: #D2E3FC;\n",
              "      --hover-bg-color: #434B5C;\n",
              "      --hover-fill-color: #FFFFFF;\n",
              "      --disabled-bg-color: #3B4455;\n",
              "      --disabled-fill-color: #666;\n",
              "  }\n",
              "\n",
              "  .colab-df-quickchart {\n",
              "    background-color: var(--bg-color);\n",
              "    border: none;\n",
              "    border-radius: 50%;\n",
              "    cursor: pointer;\n",
              "    display: none;\n",
              "    fill: var(--fill-color);\n",
              "    height: 32px;\n",
              "    padding: 0;\n",
              "    width: 32px;\n",
              "  }\n",
              "\n",
              "  .colab-df-quickchart:hover {\n",
              "    background-color: var(--hover-bg-color);\n",
              "    box-shadow: 0 1px 2px rgba(60, 64, 67, 0.3), 0 1px 3px 1px rgba(60, 64, 67, 0.15);\n",
              "    fill: var(--button-hover-fill-color);\n",
              "  }\n",
              "\n",
              "  .colab-df-quickchart-complete:disabled,\n",
              "  .colab-df-quickchart-complete:disabled:hover {\n",
              "    background-color: var(--disabled-bg-color);\n",
              "    fill: var(--disabled-fill-color);\n",
              "    box-shadow: none;\n",
              "  }\n",
              "\n",
              "  .colab-df-spinner {\n",
              "    border: 2px solid var(--fill-color);\n",
              "    border-color: transparent;\n",
              "    border-bottom-color: var(--fill-color);\n",
              "    animation:\n",
              "      spin 1s steps(1) infinite;\n",
              "  }\n",
              "\n",
              "  @keyframes spin {\n",
              "    0% {\n",
              "      border-color: transparent;\n",
              "      border-bottom-color: var(--fill-color);\n",
              "      border-left-color: var(--fill-color);\n",
              "    }\n",
              "    20% {\n",
              "      border-color: transparent;\n",
              "      border-left-color: var(--fill-color);\n",
              "      border-top-color: var(--fill-color);\n",
              "    }\n",
              "    30% {\n",
              "      border-color: transparent;\n",
              "      border-left-color: var(--fill-color);\n",
              "      border-top-color: var(--fill-color);\n",
              "      border-right-color: var(--fill-color);\n",
              "    }\n",
              "    40% {\n",
              "      border-color: transparent;\n",
              "      border-right-color: var(--fill-color);\n",
              "      border-top-color: var(--fill-color);\n",
              "    }\n",
              "    60% {\n",
              "      border-color: transparent;\n",
              "      border-right-color: var(--fill-color);\n",
              "    }\n",
              "    80% {\n",
              "      border-color: transparent;\n",
              "      border-right-color: var(--fill-color);\n",
              "      border-bottom-color: var(--fill-color);\n",
              "    }\n",
              "    90% {\n",
              "      border-color: transparent;\n",
              "      border-bottom-color: var(--fill-color);\n",
              "    }\n",
              "  }\n",
              "</style>\n",
              "\n",
              "  <script>\n",
              "    async function quickchart(key) {\n",
              "      const quickchartButtonEl =\n",
              "        document.querySelector('#' + key + ' button');\n",
              "      quickchartButtonEl.disabled = true;  // To prevent multiple clicks.\n",
              "      quickchartButtonEl.classList.add('colab-df-spinner');\n",
              "      try {\n",
              "        const charts = await google.colab.kernel.invokeFunction(\n",
              "            'suggestCharts', [key], {});\n",
              "      } catch (error) {\n",
              "        console.error('Error during call to suggestCharts:', error);\n",
              "      }\n",
              "      quickchartButtonEl.classList.remove('colab-df-spinner');\n",
              "      quickchartButtonEl.classList.add('colab-df-quickchart-complete');\n",
              "    }\n",
              "    (() => {\n",
              "      let quickchartButtonEl =\n",
              "        document.querySelector('#df-7a30086d-2131-46f0-b23a-683e82ebb015 button');\n",
              "      quickchartButtonEl.style.display =\n",
              "        google.colab.kernel.accessAllowed ? 'block' : 'none';\n",
              "    })();\n",
              "  </script>\n",
              "</div>\n",
              "    </div>\n",
              "  </div>\n"
            ],
            "application/vnd.google.colaboratory.intrinsic+json": {
              "type": "dataframe",
              "variable_name": "df_scores",
              "summary": "{\n  \"name\": \"df_scores\",\n  \"rows\": 2,\n  \"fields\": [\n    {\n      \"column\": \"Silhouette Score\",\n      \"properties\": {\n        \"dtype\": \"number\",\n        \"std\": 0.029837126395365576,\n        \"min\": 0.51624012313933,\n        \"max\": 0.5584361919498962,\n        \"num_unique_values\": 2,\n        \"samples\": [\n          0.51624012313933,\n          0.5584361919498962\n        ],\n        \"semantic_type\": \"\",\n        \"description\": \"\"\n      }\n    },\n    {\n      \"column\": \"Calinski-Harabasz Score\",\n      \"properties\": {\n        \"dtype\": \"number\",\n        \"std\": 124.04904481053549,\n        \"min\": 874.4138200205388,\n        \"max\": 1049.8456615910259,\n        \"num_unique_values\": 2,\n        \"samples\": [\n          874.4138200205388,\n          1049.8456615910259\n        ],\n        \"semantic_type\": \"\",\n        \"description\": \"\"\n      }\n    },\n    {\n      \"column\": \"Davies-Bouldin Score\",\n      \"properties\": {\n        \"dtype\": \"number\",\n        \"std\": 0.01573795346986367,\n        \"min\": 0.5338443392959401,\n        \"max\": 0.556101166537018,\n        \"num_unique_values\": 2,\n        \"samples\": [\n          0.556101166537018,\n          0.5338443392959401\n        ],\n        \"semantic_type\": \"\",\n        \"description\": \"\"\n      }\n    }\n  ]\n}"
            }
          },
          "metadata": {}
        }
      ]
    },
    {
      "cell_type": "markdown",
      "source": [
        "##**Review Process**"
      ],
      "metadata": {
        "id": "oiwqvi8TJkvb"
      }
    },
    {
      "cell_type": "markdown",
      "source": [
        "###**Cross Validation**"
      ],
      "metadata": {
        "id": "IUhFUBcMJsOt"
      }
    },
    {
      "cell_type": "code",
      "source": [
        "import matplotlib.pyplot as plt\n",
        "import seaborn as sns\n",
        "import pandas as pd\n",
        "from sklearn.model_selection import cross_val_score\n",
        "\n",
        "\n",
        "# Assuming data_tahun_normalized, kmeans, and cut_labels are defined earlier\n",
        "\n",
        "models = [kmeans, cut_labels]\n",
        "model_names = ['KMeans', 'Agglomerative Clustering']\n",
        "\n",
        "# Cross-validation scores for each model\n",
        "cv_scores = []\n",
        "for model in models:\n",
        "    scores = cross_val_score(model, data_tahun_normalized, cv=5)  # Adjust cv if needed\n",
        "    cv_scores.append(scores)\n",
        "\n",
        "# Create DataFrame for scores\n",
        "df_cv_scores = pd.DataFrame(cv_scores, index=model_names)\n",
        "\n",
        "# Create the line plot with seaborn\n",
        "plt.figure(figsize=(10, 6))\n",
        "sns.lineplot(data=df_cv_scores, markers=True)\n",
        "\n",
        "# Customize the plot for clarity\n",
        "plt.title('Cross-Validation Scores for KMeans and Agglomerative Clustering')\n",
        "plt.xlabel('Fold')\n",
        "plt.ylabel('Score')\n",
        "plt.grid(True)\n",
        "plt.legend(title='Model', loc='lower right')\n",
        "plt.xticks(ticks=range(5), labels=['Fold 1', 'Fold 2', 'Fold 3', 'Fold 4', 'Fold 5'])\n",
        "plt.show()\n"
      ],
      "metadata": {
        "colab": {
          "base_uri": "https://localhost:8080/",
          "height": 887
        },
        "id": "97CN8kUPO0wN",
        "outputId": "936cb923-41f0-4bab-fed2-a35bb0e4e84c"
      },
      "execution_count": null,
      "outputs": [
        {
          "output_type": "stream",
          "name": "stderr",
          "text": [
            "/usr/local/lib/python3.10/dist-packages/sklearn/cluster/_kmeans.py:870: FutureWarning: The default value of `n_init` will change from 10 to 'auto' in 1.4. Set the value of `n_init` explicitly to suppress the warning\n",
            "  warnings.warn(\n",
            "/usr/local/lib/python3.10/dist-packages/sklearn/cluster/_kmeans.py:870: FutureWarning: The default value of `n_init` will change from 10 to 'auto' in 1.4. Set the value of `n_init` explicitly to suppress the warning\n",
            "  warnings.warn(\n",
            "/usr/local/lib/python3.10/dist-packages/sklearn/cluster/_kmeans.py:870: FutureWarning: The default value of `n_init` will change from 10 to 'auto' in 1.4. Set the value of `n_init` explicitly to suppress the warning\n",
            "  warnings.warn(\n",
            "/usr/local/lib/python3.10/dist-packages/sklearn/cluster/_kmeans.py:870: FutureWarning: The default value of `n_init` will change from 10 to 'auto' in 1.4. Set the value of `n_init` explicitly to suppress the warning\n",
            "  warnings.warn(\n",
            "/usr/local/lib/python3.10/dist-packages/sklearn/cluster/_kmeans.py:870: FutureWarning: The default value of `n_init` will change from 10 to 'auto' in 1.4. Set the value of `n_init` explicitly to suppress the warning\n",
            "  warnings.warn(\n"
          ]
        },
        {
          "output_type": "error",
          "ename": "TypeError",
          "evalue": "estimator should be an estimator implementing 'fit' method, array([0, 1, 1, 0, 2, 1, 1, 2, 1, 2, 2, 1, 1, 0, 1, 1, 0, 2, 2, 0, 1, 2,\n       2, 2, 2, 2, 2, 0, 1, 2, 2, 0, 0, 0, 1, 2, 2, 2, 1, 2, 2, 1, 2, 1,\n       2, 2, 0, 0, 2, 2, 1, 1, 2, 2, 2, 2, 2, 2, 2, 2, 2, 2, 2, 0, 0, 0,\n       0, 0, 1, 1, 2, 1, 2, 2, 2, 0, 2, 2, 2, 1, 2, 2, 2, 2, 1, 1, 2, 2,\n       2, 2, 2, 2, 1, 2, 0, 2, 2, 1, 2, 2, 2, 0, 2, 2, 0, 0, 0, 0, 0, 1,\n       2, 2, 0, 2, 2, 1, 0, 2, 2, 2, 2, 2, 1, 2, 2, 2, 2, 0, 2, 2, 2, 1,\n       2, 1, 1, 2, 1, 1, 1, 2, 2, 2, 2, 1, 1, 2, 1, 1, 0, 1, 2, 0, 0, 1,\n       2, 1, 0, 2, 0, 1, 2, 2, 1, 2, 2, 1, 2, 1, 2, 2, 2, 2, 2, 2, 1, 0,\n       0, 1, 1, 2, 0, 0, 2, 2, 1, 0, 2, 0, 2, 0, 1, 0, 1, 1, 0, 0, 0, 0,\n       0, 0, 1, 2, 1, 2, 1, 1, 1, 0, 0, 1, 1, 0, 0, 2, 2, 2, 2, 2, 1, 0,\n       1, 0, 2, 2, 0, 1, 2, 2, 2, 2, 0, 1, 0, 0, 2, 1, 1, 0, 2, 2, 2, 0,\n       1, 1, 1, 2, 2, 2, 2, 2, 2, 2, 2, 2, 2, 0, 0, 0, 0, 2, 2, 2, 2, 2,\n       2, 0, 0, 0, 0, 2, 0, 0, 0, 2, 2, 1, 1, 1, 0, 1, 1, 1, 0, 0, 2, 2,\n       2, 2, 2, 2, 2, 2, 2, 1, 0, 0, 1, 1, 1, 2, 2, 2, 1, 0, 1, 1, 2, 2,\n       2, 2, 0, 2, 2, 0, 2, 1, 1, 1, 0, 1, 1, 1, 2, 2, 1, 0, 1, 0, 0, 0,\n       1, 1, 1, 1, 0, 0, 1, 1, 0, 1, 1, 1, 1, 1, 2, 0, 1, 1, 0, 2, 2, 1,\n       1, 0, 0, 1, 0, 0, 2, 1, 1, 0, 1, 1, 1, 1, 1, 1, 1, 1, 0, 2, 2, 2,\n       1, 0, 1, 1, 0, 0]) was passed",
          "traceback": [
            "\u001b[0;31m---------------------------------------------------------------------------\u001b[0m",
            "\u001b[0;31mTypeError\u001b[0m                                 Traceback (most recent call last)",
            "\u001b[0;32m<ipython-input-53-5200e503be32>\u001b[0m in \u001b[0;36m<cell line: 14>\u001b[0;34m()\u001b[0m\n\u001b[1;32m     13\u001b[0m \u001b[0mcv_scores\u001b[0m \u001b[0;34m=\u001b[0m \u001b[0;34m[\u001b[0m\u001b[0;34m]\u001b[0m\u001b[0;34m\u001b[0m\u001b[0;34m\u001b[0m\u001b[0m\n\u001b[1;32m     14\u001b[0m \u001b[0;32mfor\u001b[0m \u001b[0mmodel\u001b[0m \u001b[0;32min\u001b[0m \u001b[0mmodels\u001b[0m\u001b[0;34m:\u001b[0m\u001b[0;34m\u001b[0m\u001b[0;34m\u001b[0m\u001b[0m\n\u001b[0;32m---> 15\u001b[0;31m     \u001b[0mscores\u001b[0m \u001b[0;34m=\u001b[0m \u001b[0mcross_val_score\u001b[0m\u001b[0;34m(\u001b[0m\u001b[0mmodel\u001b[0m\u001b[0;34m,\u001b[0m \u001b[0mdata_tahun_normalized\u001b[0m\u001b[0;34m,\u001b[0m \u001b[0mcv\u001b[0m\u001b[0;34m=\u001b[0m\u001b[0;36m5\u001b[0m\u001b[0;34m)\u001b[0m  \u001b[0;31m# Adjust cv if needed\u001b[0m\u001b[0;34m\u001b[0m\u001b[0;34m\u001b[0m\u001b[0m\n\u001b[0m\u001b[1;32m     16\u001b[0m     \u001b[0mcv_scores\u001b[0m\u001b[0;34m.\u001b[0m\u001b[0mappend\u001b[0m\u001b[0;34m(\u001b[0m\u001b[0mscores\u001b[0m\u001b[0;34m)\u001b[0m\u001b[0;34m\u001b[0m\u001b[0;34m\u001b[0m\u001b[0m\n\u001b[1;32m     17\u001b[0m \u001b[0;34m\u001b[0m\u001b[0m\n",
            "\u001b[0;32m/usr/local/lib/python3.10/dist-packages/sklearn/model_selection/_validation.py\u001b[0m in \u001b[0;36mcross_val_score\u001b[0;34m(estimator, X, y, groups, scoring, cv, n_jobs, verbose, fit_params, pre_dispatch, error_score)\u001b[0m\n\u001b[1;32m    511\u001b[0m     \"\"\"\n\u001b[1;32m    512\u001b[0m     \u001b[0;31m# To ensure multimetric format is not supported\u001b[0m\u001b[0;34m\u001b[0m\u001b[0;34m\u001b[0m\u001b[0m\n\u001b[0;32m--> 513\u001b[0;31m     \u001b[0mscorer\u001b[0m \u001b[0;34m=\u001b[0m \u001b[0mcheck_scoring\u001b[0m\u001b[0;34m(\u001b[0m\u001b[0mestimator\u001b[0m\u001b[0;34m,\u001b[0m \u001b[0mscoring\u001b[0m\u001b[0;34m=\u001b[0m\u001b[0mscoring\u001b[0m\u001b[0;34m)\u001b[0m\u001b[0;34m\u001b[0m\u001b[0;34m\u001b[0m\u001b[0m\n\u001b[0m\u001b[1;32m    514\u001b[0m \u001b[0;34m\u001b[0m\u001b[0m\n\u001b[1;32m    515\u001b[0m     cv_results = cross_validate(\n",
            "\u001b[0;32m/usr/local/lib/python3.10/dist-packages/sklearn/metrics/_scorer.py\u001b[0m in \u001b[0;36mcheck_scoring\u001b[0;34m(estimator, scoring, allow_none)\u001b[0m\n\u001b[1;32m    472\u001b[0m     \"\"\"\n\u001b[1;32m    473\u001b[0m     \u001b[0;32mif\u001b[0m \u001b[0;32mnot\u001b[0m \u001b[0mhasattr\u001b[0m\u001b[0;34m(\u001b[0m\u001b[0mestimator\u001b[0m\u001b[0;34m,\u001b[0m \u001b[0;34m\"fit\"\u001b[0m\u001b[0;34m)\u001b[0m\u001b[0;34m:\u001b[0m\u001b[0;34m\u001b[0m\u001b[0;34m\u001b[0m\u001b[0m\n\u001b[0;32m--> 474\u001b[0;31m         raise TypeError(\n\u001b[0m\u001b[1;32m    475\u001b[0m             \u001b[0;34m\"estimator should be an estimator implementing 'fit' method, %r was passed\"\u001b[0m\u001b[0;34m\u001b[0m\u001b[0;34m\u001b[0m\u001b[0m\n\u001b[1;32m    476\u001b[0m             \u001b[0;34m%\u001b[0m \u001b[0mestimator\u001b[0m\u001b[0;34m\u001b[0m\u001b[0;34m\u001b[0m\u001b[0m\n",
            "\u001b[0;31mTypeError\u001b[0m: estimator should be an estimator implementing 'fit' method, array([0, 1, 1, 0, 2, 1, 1, 2, 1, 2, 2, 1, 1, 0, 1, 1, 0, 2, 2, 0, 1, 2,\n       2, 2, 2, 2, 2, 0, 1, 2, 2, 0, 0, 0, 1, 2, 2, 2, 1, 2, 2, 1, 2, 1,\n       2, 2, 0, 0, 2, 2, 1, 1, 2, 2, 2, 2, 2, 2, 2, 2, 2, 2, 2, 0, 0, 0,\n       0, 0, 1, 1, 2, 1, 2, 2, 2, 0, 2, 2, 2, 1, 2, 2, 2, 2, 1, 1, 2, 2,\n       2, 2, 2, 2, 1, 2, 0, 2, 2, 1, 2, 2, 2, 0, 2, 2, 0, 0, 0, 0, 0, 1,\n       2, 2, 0, 2, 2, 1, 0, 2, 2, 2, 2, 2, 1, 2, 2, 2, 2, 0, 2, 2, 2, 1,\n       2, 1, 1, 2, 1, 1, 1, 2, 2, 2, 2, 1, 1, 2, 1, 1, 0, 1, 2, 0, 0, 1,\n       2, 1, 0, 2, 0, 1, 2, 2, 1, 2, 2, 1, 2, 1, 2, 2, 2, 2, 2, 2, 1, 0,\n       0, 1, 1, 2, 0, 0, 2, 2, 1, 0, 2, 0, 2, 0, 1, 0, 1, 1, 0, 0, 0, 0,\n       0, 0, 1, 2, 1, 2, 1, 1, 1, 0, 0, 1, 1, 0, 0, 2, 2, 2, 2, 2, 1, 0,\n       1, 0, 2, 2, 0, 1, 2, 2, 2, 2, 0, 1, 0, 0, 2, 1, 1, 0, 2, 2, 2, 0,\n       1, 1, 1, 2, 2, 2, 2, 2, 2, 2, 2, 2, 2, 0, 0, 0, 0, 2, 2, 2, 2, 2,\n       2, 0, 0, 0, 0, 2, 0, 0, 0, 2, 2, 1, 1, 1, 0, 1, 1, 1, 0, 0, 2, 2,\n       2, 2, 2, 2, 2, 2, 2, 1, 0, 0, 1, 1, 1, 2, 2, 2, 1, 0, 1, 1, 2, 2,\n       2, 2, 0, 2, 2, 0, 2, 1, 1, 1, 0, 1, 1, 1, 2, 2, 1, 0, 1, 0, 0, 0,\n       1, 1, 1, 1, 0, 0, 1, 1, 0, 1, 1, 1, 1, 1, 2, 0, 1, 1, 0, 2, 2, 1,\n       1, 0, 0, 1, 0, 0, 2, 1, 1, 0, 1, 1, 1, 1, 1, 1, 1, 1, 0, 2, 2, 2,\n       1, 0, 1, 1, 0, 0]) was passed"
          ]
        }
      ]
    },
    {
      "cell_type": "code",
      "source": [
        "import matplotlib.pyplot as plt\n",
        "import seaborn as sns\n",
        "from sklearn.model_selection import cross_val_score\n",
        "from sklearn.metrics import silhouette_score  # Assuming Silhouette Score for evaluation\n",
        "\n",
        "# Define your KMeans and Agglomerative Clustering models (replace with actual fitted models)\n",
        "\n",
        "\n",
        "\n",
        "# Ensure model fitting (replace with your actual fitted models)\n",
        "kmeans.fit(data_tahun_normalized)\n",
        "cut_labels.fit(data_tahun_normalized)\n",
        "\n",
        "# List of models for clarity\n",
        "models = [kmeans, cut_labels]\n",
        "model_names = ['KMeans', 'Agglomerative Clustering']\n",
        "\n",
        "# Cross-validation scores for each model using Silhouette Score (replace with your chosen metric)\n",
        "cv_scores = []\n",
        "for model in models:\n",
        "    scores = cross_val_score(model, data_tahun_normalized, cv=5, scoring=silhouette_score)\n",
        "    cv_scores.append(scores)\n",
        "\n",
        "# Create DataFrame for scores\n",
        "df_cv_scores = pd.DataFrame(cv_scores, index=model_names)\n",
        "\n",
        "# Create the line plot with seaborn\n",
        "plt.figure(figsize=(10, 6))\n",
        "sns.lineplot(data=df_cv_scores, markers=True)\n",
        "\n",
        "# Customize the plot for clarity and replace the placeholder metric label\n",
        "plt.title('Cross-Validation Scores (Silhouette) for Clustering Algorithms')\n",
        "plt.xlabel('Fold')\n",
        "plt.ylabel('Silhouette Score')  # Update based on your chosen metric\n",
        "plt.grid(True)\n",
        "plt.legend(title='Model', loc='lower right')\n",
        "plt.xticks(ticks=range(5), labels=['Fold 1', 'Fold 2', 'Fold 3', 'Fold 4', 'Fold 5'])\n",
        "plt.show()"
      ],
      "metadata": {
        "colab": {
          "base_uri": "https://localhost:8080/",
          "height": 271
        },
        "id": "NI31wvdqXox9",
        "outputId": "20a21fcb-0a90-4508-e253-6c0ff233190e"
      },
      "execution_count": null,
      "outputs": [
        {
          "output_type": "stream",
          "name": "stderr",
          "text": [
            "/usr/local/lib/python3.10/dist-packages/sklearn/cluster/_kmeans.py:870: FutureWarning: The default value of `n_init` will change from 10 to 'auto' in 1.4. Set the value of `n_init` explicitly to suppress the warning\n",
            "  warnings.warn(\n"
          ]
        },
        {
          "output_type": "error",
          "ename": "AttributeError",
          "evalue": "'numpy.ndarray' object has no attribute 'fit'",
          "traceback": [
            "\u001b[0;31m---------------------------------------------------------------------------\u001b[0m",
            "\u001b[0;31mAttributeError\u001b[0m                            Traceback (most recent call last)",
            "\u001b[0;32m<ipython-input-54-dd23ef8268b2>\u001b[0m in \u001b[0;36m<cell line: 12>\u001b[0;34m()\u001b[0m\n\u001b[1;32m     10\u001b[0m \u001b[0;31m# Ensure model fitting (replace with your actual fitted models)\u001b[0m\u001b[0;34m\u001b[0m\u001b[0;34m\u001b[0m\u001b[0m\n\u001b[1;32m     11\u001b[0m \u001b[0mkmeans\u001b[0m\u001b[0;34m.\u001b[0m\u001b[0mfit\u001b[0m\u001b[0;34m(\u001b[0m\u001b[0mdata_tahun_normalized\u001b[0m\u001b[0;34m)\u001b[0m\u001b[0;34m\u001b[0m\u001b[0;34m\u001b[0m\u001b[0m\n\u001b[0;32m---> 12\u001b[0;31m \u001b[0mcut_labels\u001b[0m\u001b[0;34m.\u001b[0m\u001b[0mfit\u001b[0m\u001b[0;34m(\u001b[0m\u001b[0mdata_tahun_normalized\u001b[0m\u001b[0;34m)\u001b[0m\u001b[0;34m\u001b[0m\u001b[0;34m\u001b[0m\u001b[0m\n\u001b[0m\u001b[1;32m     13\u001b[0m \u001b[0;34m\u001b[0m\u001b[0m\n\u001b[1;32m     14\u001b[0m \u001b[0;31m# List of models for clarity\u001b[0m\u001b[0;34m\u001b[0m\u001b[0;34m\u001b[0m\u001b[0m\n",
            "\u001b[0;31mAttributeError\u001b[0m: 'numpy.ndarray' object has no attribute 'fit'"
          ]
        }
      ]
    },
    {
      "cell_type": "markdown",
      "source": [
        "###**Feature Selection**"
      ],
      "metadata": {
        "id": "Fl8CZpK1X1p-"
      }
    },
    {
      "cell_type": "markdown",
      "source": [
        "Dalam Analisis Dataset ini. Algoritma Hanya menggunakan Satu Feature yaitu Kolom **'Year'** yang Berisi data Durasi Matahari Terbit dalam satu Tahun secara Keseluruhan"
      ],
      "metadata": {
        "id": "5FPBiJ-HYQMy"
      }
    },
    {
      "cell_type": "markdown",
      "source": [
        "###**Tuning Hyperparameter**"
      ],
      "metadata": {
        "id": "DB522rtIZQMU"
      }
    },
    {
      "cell_type": "code",
      "source": [
        "from sklearn.model_selection import GridSearchCV\n",
        "\n",
        "# Define the parameter grid\n",
        "param_grid = {'n_clusters': [2, 3, 4, 5]}  # You can adjust the values as needed\n",
        "\n",
        "# Initialize KMeans\n",
        "kmeans = KMeans(random_state=42)\n",
        "\n",
        "# Perform grid search\n",
        "grid_search = GridSearchCV(kmeans, param_grid, cv=5)\n",
        "grid_search.fit(data_tahun_normalized)\n",
        "\n",
        "# Get the best parameters\n",
        "best_params_kmeans = grid_search.best_params_\n",
        "print(\"Best Parameters for KMeans:\", best_params_kmeans)\n"
      ],
      "metadata": {
        "id": "3uC8F08Iber0"
      },
      "execution_count": null,
      "outputs": []
    },
    {
      "cell_type": "code",
      "source": [
        "from sklearn.preprocessing import StandardScaler\n",
        "from sklearn.model_selection import GridSearchCV\n",
        "from sklearn.cluster import KMeans\n",
        "\n",
        "# Assuming data_tahun_normalized is your data\n",
        "# Perform data scaling\n",
        "scaler = StandardScaler()\n",
        "data_scaled = scaler.fit_transform(data_tahun_normalized)\n",
        "\n",
        "# Define the parameter grid for KMeans\n",
        "param_grid = {'n_clusters': [2, 3, 4, 5]}  # Adjust as needed\n",
        "\n",
        "# Create KMeans model with GridSearchCV\n",
        "grid_search = GridSearchCV(estimator=KMeans(random_state=42), param_grid=param_grid, cv=5)\n",
        "grid_search.fit(data_scaled)\n",
        "\n",
        "# Retrieve best model and parameters\n",
        "best_model = grid_search.best_estimator_\n",
        "best_params = grid_search.best_params_\n",
        "print(\"Best Parameters:\", best_params)\n"
      ],
      "metadata": {
        "colab": {
          "base_uri": "https://localhost:8080/",
          "height": 383
        },
        "id": "Z5NsG_PRbfsp",
        "outputId": "f8c6f167-77b4-4dfc-e619-0a6f14235c50"
      },
      "execution_count": null,
      "outputs": [
        {
          "output_type": "error",
          "ename": "TypeError",
          "evalue": "float() argument must be a string or a real number, not 'ellipsis'",
          "traceback": [
            "\u001b[0;31m---------------------------------------------------------------------------\u001b[0m",
            "\u001b[0;31mTypeError\u001b[0m                                 Traceback (most recent call last)",
            "\u001b[0;32m<ipython-input-61-e54c03e35b00>\u001b[0m in \u001b[0;36m<cell line: 8>\u001b[0;34m()\u001b[0m\n\u001b[1;32m      6\u001b[0m \u001b[0;31m# Perform data scaling\u001b[0m\u001b[0;34m\u001b[0m\u001b[0;34m\u001b[0m\u001b[0m\n\u001b[1;32m      7\u001b[0m \u001b[0mscaler\u001b[0m \u001b[0;34m=\u001b[0m \u001b[0mStandardScaler\u001b[0m\u001b[0;34m(\u001b[0m\u001b[0;34m)\u001b[0m\u001b[0;34m\u001b[0m\u001b[0;34m\u001b[0m\u001b[0m\n\u001b[0;32m----> 8\u001b[0;31m \u001b[0mdata_scaled\u001b[0m \u001b[0;34m=\u001b[0m \u001b[0mscaler\u001b[0m\u001b[0;34m.\u001b[0m\u001b[0mfit_transform\u001b[0m\u001b[0;34m(\u001b[0m\u001b[0mdata_tahun_normalized\u001b[0m\u001b[0;34m)\u001b[0m\u001b[0;34m\u001b[0m\u001b[0;34m\u001b[0m\u001b[0m\n\u001b[0m\u001b[1;32m      9\u001b[0m \u001b[0;34m\u001b[0m\u001b[0m\n\u001b[1;32m     10\u001b[0m \u001b[0;31m# Define the parameter grid for KMeans\u001b[0m\u001b[0;34m\u001b[0m\u001b[0;34m\u001b[0m\u001b[0m\n",
            "\u001b[0;32m/usr/local/lib/python3.10/dist-packages/sklearn/utils/_set_output.py\u001b[0m in \u001b[0;36mwrapped\u001b[0;34m(self, X, *args, **kwargs)\u001b[0m\n\u001b[1;32m    138\u001b[0m     \u001b[0;34m@\u001b[0m\u001b[0mwraps\u001b[0m\u001b[0;34m(\u001b[0m\u001b[0mf\u001b[0m\u001b[0;34m)\u001b[0m\u001b[0;34m\u001b[0m\u001b[0;34m\u001b[0m\u001b[0m\n\u001b[1;32m    139\u001b[0m     \u001b[0;32mdef\u001b[0m \u001b[0mwrapped\u001b[0m\u001b[0;34m(\u001b[0m\u001b[0mself\u001b[0m\u001b[0;34m,\u001b[0m \u001b[0mX\u001b[0m\u001b[0;34m,\u001b[0m \u001b[0;34m*\u001b[0m\u001b[0margs\u001b[0m\u001b[0;34m,\u001b[0m \u001b[0;34m**\u001b[0m\u001b[0mkwargs\u001b[0m\u001b[0;34m)\u001b[0m\u001b[0;34m:\u001b[0m\u001b[0;34m\u001b[0m\u001b[0;34m\u001b[0m\u001b[0m\n\u001b[0;32m--> 140\u001b[0;31m         \u001b[0mdata_to_wrap\u001b[0m \u001b[0;34m=\u001b[0m \u001b[0mf\u001b[0m\u001b[0;34m(\u001b[0m\u001b[0mself\u001b[0m\u001b[0;34m,\u001b[0m \u001b[0mX\u001b[0m\u001b[0;34m,\u001b[0m \u001b[0;34m*\u001b[0m\u001b[0margs\u001b[0m\u001b[0;34m,\u001b[0m \u001b[0;34m**\u001b[0m\u001b[0mkwargs\u001b[0m\u001b[0;34m)\u001b[0m\u001b[0;34m\u001b[0m\u001b[0;34m\u001b[0m\u001b[0m\n\u001b[0m\u001b[1;32m    141\u001b[0m         \u001b[0;32mif\u001b[0m \u001b[0misinstance\u001b[0m\u001b[0;34m(\u001b[0m\u001b[0mdata_to_wrap\u001b[0m\u001b[0;34m,\u001b[0m \u001b[0mtuple\u001b[0m\u001b[0;34m)\u001b[0m\u001b[0;34m:\u001b[0m\u001b[0;34m\u001b[0m\u001b[0;34m\u001b[0m\u001b[0m\n\u001b[1;32m    142\u001b[0m             \u001b[0;31m# only wrap the first output for cross decomposition\u001b[0m\u001b[0;34m\u001b[0m\u001b[0;34m\u001b[0m\u001b[0m\n",
            "\u001b[0;32m/usr/local/lib/python3.10/dist-packages/sklearn/base.py\u001b[0m in \u001b[0;36mfit_transform\u001b[0;34m(self, X, y, **fit_params)\u001b[0m\n\u001b[1;32m    876\u001b[0m         \u001b[0;32mif\u001b[0m \u001b[0my\u001b[0m \u001b[0;32mis\u001b[0m \u001b[0;32mNone\u001b[0m\u001b[0;34m:\u001b[0m\u001b[0;34m\u001b[0m\u001b[0;34m\u001b[0m\u001b[0m\n\u001b[1;32m    877\u001b[0m             \u001b[0;31m# fit method of arity 1 (unsupervised transformation)\u001b[0m\u001b[0;34m\u001b[0m\u001b[0;34m\u001b[0m\u001b[0m\n\u001b[0;32m--> 878\u001b[0;31m             \u001b[0;32mreturn\u001b[0m \u001b[0mself\u001b[0m\u001b[0;34m.\u001b[0m\u001b[0mfit\u001b[0m\u001b[0;34m(\u001b[0m\u001b[0mX\u001b[0m\u001b[0;34m,\u001b[0m \u001b[0;34m**\u001b[0m\u001b[0mfit_params\u001b[0m\u001b[0;34m)\u001b[0m\u001b[0;34m.\u001b[0m\u001b[0mtransform\u001b[0m\u001b[0;34m(\u001b[0m\u001b[0mX\u001b[0m\u001b[0;34m)\u001b[0m\u001b[0;34m\u001b[0m\u001b[0;34m\u001b[0m\u001b[0m\n\u001b[0m\u001b[1;32m    879\u001b[0m         \u001b[0;32melse\u001b[0m\u001b[0;34m:\u001b[0m\u001b[0;34m\u001b[0m\u001b[0;34m\u001b[0m\u001b[0m\n\u001b[1;32m    880\u001b[0m             \u001b[0;31m# fit method of arity 2 (supervised transformation)\u001b[0m\u001b[0;34m\u001b[0m\u001b[0;34m\u001b[0m\u001b[0m\n",
            "\u001b[0;32m/usr/local/lib/python3.10/dist-packages/sklearn/preprocessing/_data.py\u001b[0m in \u001b[0;36mfit\u001b[0;34m(self, X, y, sample_weight)\u001b[0m\n\u001b[1;32m    822\u001b[0m         \u001b[0;31m# Reset internal state before fitting\u001b[0m\u001b[0;34m\u001b[0m\u001b[0;34m\u001b[0m\u001b[0m\n\u001b[1;32m    823\u001b[0m         \u001b[0mself\u001b[0m\u001b[0;34m.\u001b[0m\u001b[0m_reset\u001b[0m\u001b[0;34m(\u001b[0m\u001b[0;34m)\u001b[0m\u001b[0;34m\u001b[0m\u001b[0;34m\u001b[0m\u001b[0m\n\u001b[0;32m--> 824\u001b[0;31m         \u001b[0;32mreturn\u001b[0m \u001b[0mself\u001b[0m\u001b[0;34m.\u001b[0m\u001b[0mpartial_fit\u001b[0m\u001b[0;34m(\u001b[0m\u001b[0mX\u001b[0m\u001b[0;34m,\u001b[0m \u001b[0my\u001b[0m\u001b[0;34m,\u001b[0m \u001b[0msample_weight\u001b[0m\u001b[0;34m)\u001b[0m\u001b[0;34m\u001b[0m\u001b[0;34m\u001b[0m\u001b[0m\n\u001b[0m\u001b[1;32m    825\u001b[0m \u001b[0;34m\u001b[0m\u001b[0m\n\u001b[1;32m    826\u001b[0m     \u001b[0;32mdef\u001b[0m \u001b[0mpartial_fit\u001b[0m\u001b[0;34m(\u001b[0m\u001b[0mself\u001b[0m\u001b[0;34m,\u001b[0m \u001b[0mX\u001b[0m\u001b[0;34m,\u001b[0m \u001b[0my\u001b[0m\u001b[0;34m=\u001b[0m\u001b[0;32mNone\u001b[0m\u001b[0;34m,\u001b[0m \u001b[0msample_weight\u001b[0m\u001b[0;34m=\u001b[0m\u001b[0;32mNone\u001b[0m\u001b[0;34m)\u001b[0m\u001b[0;34m:\u001b[0m\u001b[0;34m\u001b[0m\u001b[0;34m\u001b[0m\u001b[0m\n",
            "\u001b[0;32m/usr/local/lib/python3.10/dist-packages/sklearn/preprocessing/_data.py\u001b[0m in \u001b[0;36mpartial_fit\u001b[0;34m(self, X, y, sample_weight)\u001b[0m\n\u001b[1;32m    859\u001b[0m \u001b[0;34m\u001b[0m\u001b[0m\n\u001b[1;32m    860\u001b[0m         \u001b[0mfirst_call\u001b[0m \u001b[0;34m=\u001b[0m \u001b[0;32mnot\u001b[0m \u001b[0mhasattr\u001b[0m\u001b[0;34m(\u001b[0m\u001b[0mself\u001b[0m\u001b[0;34m,\u001b[0m \u001b[0;34m\"n_samples_seen_\"\u001b[0m\u001b[0;34m)\u001b[0m\u001b[0;34m\u001b[0m\u001b[0;34m\u001b[0m\u001b[0m\n\u001b[0;32m--> 861\u001b[0;31m         X = self._validate_data(\n\u001b[0m\u001b[1;32m    862\u001b[0m             \u001b[0mX\u001b[0m\u001b[0;34m,\u001b[0m\u001b[0;34m\u001b[0m\u001b[0;34m\u001b[0m\u001b[0m\n\u001b[1;32m    863\u001b[0m             \u001b[0maccept_sparse\u001b[0m\u001b[0;34m=\u001b[0m\u001b[0;34m(\u001b[0m\u001b[0;34m\"csr\"\u001b[0m\u001b[0;34m,\u001b[0m \u001b[0;34m\"csc\"\u001b[0m\u001b[0;34m)\u001b[0m\u001b[0;34m,\u001b[0m\u001b[0;34m\u001b[0m\u001b[0;34m\u001b[0m\u001b[0m\n",
            "\u001b[0;32m/usr/local/lib/python3.10/dist-packages/sklearn/base.py\u001b[0m in \u001b[0;36m_validate_data\u001b[0;34m(self, X, y, reset, validate_separately, **check_params)\u001b[0m\n\u001b[1;32m    563\u001b[0m             \u001b[0;32mraise\u001b[0m \u001b[0mValueError\u001b[0m\u001b[0;34m(\u001b[0m\u001b[0;34m\"Validation should be done on X, y or both.\"\u001b[0m\u001b[0;34m)\u001b[0m\u001b[0;34m\u001b[0m\u001b[0;34m\u001b[0m\u001b[0m\n\u001b[1;32m    564\u001b[0m         \u001b[0;32melif\u001b[0m \u001b[0;32mnot\u001b[0m \u001b[0mno_val_X\u001b[0m \u001b[0;32mand\u001b[0m \u001b[0mno_val_y\u001b[0m\u001b[0;34m:\u001b[0m\u001b[0;34m\u001b[0m\u001b[0;34m\u001b[0m\u001b[0m\n\u001b[0;32m--> 565\u001b[0;31m             \u001b[0mX\u001b[0m \u001b[0;34m=\u001b[0m \u001b[0mcheck_array\u001b[0m\u001b[0;34m(\u001b[0m\u001b[0mX\u001b[0m\u001b[0;34m,\u001b[0m \u001b[0minput_name\u001b[0m\u001b[0;34m=\u001b[0m\u001b[0;34m\"X\"\u001b[0m\u001b[0;34m,\u001b[0m \u001b[0;34m**\u001b[0m\u001b[0mcheck_params\u001b[0m\u001b[0;34m)\u001b[0m\u001b[0;34m\u001b[0m\u001b[0;34m\u001b[0m\u001b[0m\n\u001b[0m\u001b[1;32m    566\u001b[0m             \u001b[0mout\u001b[0m \u001b[0;34m=\u001b[0m \u001b[0mX\u001b[0m\u001b[0;34m\u001b[0m\u001b[0;34m\u001b[0m\u001b[0m\n\u001b[1;32m    567\u001b[0m         \u001b[0;32melif\u001b[0m \u001b[0mno_val_X\u001b[0m \u001b[0;32mand\u001b[0m \u001b[0;32mnot\u001b[0m \u001b[0mno_val_y\u001b[0m\u001b[0;34m:\u001b[0m\u001b[0;34m\u001b[0m\u001b[0;34m\u001b[0m\u001b[0m\n",
            "\u001b[0;32m/usr/local/lib/python3.10/dist-packages/sklearn/utils/validation.py\u001b[0m in \u001b[0;36mcheck_array\u001b[0;34m(array, accept_sparse, accept_large_sparse, dtype, order, copy, force_all_finite, ensure_2d, allow_nd, ensure_min_samples, ensure_min_features, estimator, input_name)\u001b[0m\n\u001b[1;32m    877\u001b[0m                     \u001b[0marray\u001b[0m \u001b[0;34m=\u001b[0m \u001b[0mxp\u001b[0m\u001b[0;34m.\u001b[0m\u001b[0mastype\u001b[0m\u001b[0;34m(\u001b[0m\u001b[0marray\u001b[0m\u001b[0;34m,\u001b[0m \u001b[0mdtype\u001b[0m\u001b[0;34m,\u001b[0m \u001b[0mcopy\u001b[0m\u001b[0;34m=\u001b[0m\u001b[0;32mFalse\u001b[0m\u001b[0;34m)\u001b[0m\u001b[0;34m\u001b[0m\u001b[0;34m\u001b[0m\u001b[0m\n\u001b[1;32m    878\u001b[0m                 \u001b[0;32melse\u001b[0m\u001b[0;34m:\u001b[0m\u001b[0;34m\u001b[0m\u001b[0;34m\u001b[0m\u001b[0m\n\u001b[0;32m--> 879\u001b[0;31m                     \u001b[0marray\u001b[0m \u001b[0;34m=\u001b[0m \u001b[0m_asarray_with_order\u001b[0m\u001b[0;34m(\u001b[0m\u001b[0marray\u001b[0m\u001b[0;34m,\u001b[0m \u001b[0morder\u001b[0m\u001b[0;34m=\u001b[0m\u001b[0morder\u001b[0m\u001b[0;34m,\u001b[0m \u001b[0mdtype\u001b[0m\u001b[0;34m=\u001b[0m\u001b[0mdtype\u001b[0m\u001b[0;34m,\u001b[0m \u001b[0mxp\u001b[0m\u001b[0;34m=\u001b[0m\u001b[0mxp\u001b[0m\u001b[0;34m)\u001b[0m\u001b[0;34m\u001b[0m\u001b[0;34m\u001b[0m\u001b[0m\n\u001b[0m\u001b[1;32m    880\u001b[0m             \u001b[0;32mexcept\u001b[0m \u001b[0mComplexWarning\u001b[0m \u001b[0;32mas\u001b[0m \u001b[0mcomplex_warning\u001b[0m\u001b[0;34m:\u001b[0m\u001b[0;34m\u001b[0m\u001b[0;34m\u001b[0m\u001b[0m\n\u001b[1;32m    881\u001b[0m                 raise ValueError(\n",
            "\u001b[0;32m/usr/local/lib/python3.10/dist-packages/sklearn/utils/_array_api.py\u001b[0m in \u001b[0;36m_asarray_with_order\u001b[0;34m(array, dtype, order, copy, xp)\u001b[0m\n\u001b[1;32m    183\u001b[0m     \u001b[0;32mif\u001b[0m \u001b[0mxp\u001b[0m\u001b[0;34m.\u001b[0m\u001b[0m__name__\u001b[0m \u001b[0;32min\u001b[0m \u001b[0;34m{\u001b[0m\u001b[0;34m\"numpy\"\u001b[0m\u001b[0;34m,\u001b[0m \u001b[0;34m\"numpy.array_api\"\u001b[0m\u001b[0;34m}\u001b[0m\u001b[0;34m:\u001b[0m\u001b[0;34m\u001b[0m\u001b[0;34m\u001b[0m\u001b[0m\n\u001b[1;32m    184\u001b[0m         \u001b[0;31m# Use NumPy API to support order\u001b[0m\u001b[0;34m\u001b[0m\u001b[0;34m\u001b[0m\u001b[0m\n\u001b[0;32m--> 185\u001b[0;31m         \u001b[0marray\u001b[0m \u001b[0;34m=\u001b[0m \u001b[0mnumpy\u001b[0m\u001b[0;34m.\u001b[0m\u001b[0masarray\u001b[0m\u001b[0;34m(\u001b[0m\u001b[0marray\u001b[0m\u001b[0;34m,\u001b[0m \u001b[0morder\u001b[0m\u001b[0;34m=\u001b[0m\u001b[0morder\u001b[0m\u001b[0;34m,\u001b[0m \u001b[0mdtype\u001b[0m\u001b[0;34m=\u001b[0m\u001b[0mdtype\u001b[0m\u001b[0;34m)\u001b[0m\u001b[0;34m\u001b[0m\u001b[0;34m\u001b[0m\u001b[0m\n\u001b[0m\u001b[1;32m    186\u001b[0m         \u001b[0;32mreturn\u001b[0m \u001b[0mxp\u001b[0m\u001b[0;34m.\u001b[0m\u001b[0masarray\u001b[0m\u001b[0;34m(\u001b[0m\u001b[0marray\u001b[0m\u001b[0;34m,\u001b[0m \u001b[0mcopy\u001b[0m\u001b[0;34m=\u001b[0m\u001b[0mcopy\u001b[0m\u001b[0;34m)\u001b[0m\u001b[0;34m\u001b[0m\u001b[0;34m\u001b[0m\u001b[0m\n\u001b[1;32m    187\u001b[0m     \u001b[0;32melse\u001b[0m\u001b[0;34m:\u001b[0m\u001b[0;34m\u001b[0m\u001b[0;34m\u001b[0m\u001b[0m\n",
            "\u001b[0;31mTypeError\u001b[0m: float() argument must be a string or a real number, not 'ellipsis'"
          ]
        }
      ]
    }
  ]
}