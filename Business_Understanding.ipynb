{
  "nbformat": 4,
  "nbformat_minor": 0,
  "metadata": {
    "colab": {
      "provenance": []
    },
    "kernelspec": {
      "name": "python3",
      "display_name": "Python 3"
    },
    "language_info": {
      "name": "python"
    }
  },
  "cells": [
    {
      "cell_type": "markdown",
      "source": [
        "#Durasi Matahari Terbit Kota-Kota di Dunia\n"
      ],
      "metadata": {
        "id": "CKhq8bo9gZkZ"
      }
    },
    {
      "cell_type": "markdown",
      "source": [
        "##Business Understanding\n"
      ],
      "metadata": {
        "id": "i97QspaYFRuL"
      }
    },
    {
      "cell_type": "markdown",
      "source": [
        "Dataset ini bertujuan untuk mengidentifikasi bagaimana perbedaan Durasi Matahari terbit antara kota-kota yang ada di dunia. Dengan Menganalisis perbedaan durasi matahari terbit tersebut, dapat diidentifikasi peluang dan tantangan yang dapat muncul dalam berbagai aspek-aspek yang ada."
      ],
      "metadata": {
        "id": "yE2j2vvpFdPJ"
      }
    },
    {
      "cell_type": "markdown",
      "source": [
        "##Assess Situation\n"
      ],
      "metadata": {
        "id": "SMlKHWYSquhM"
      }
    },
    {
      "cell_type": "markdown",
      "source": [
        "Analisis ini didasari oleh perbedaan Matahari Terbit yang dapat terjadi secara drastis antar kota - kota di Dunia dan bagaimana hal tersebut mempengaruhi gaya hidup penduduk di kota tersebut"
      ],
      "metadata": {
        "id": "LqjyTDZPq7k1"
      }
    },
    {
      "cell_type": "markdown",
      "source": [
        "##Data Mining Goals"
      ],
      "metadata": {
        "id": "XZGLOy1asQJ5"
      }
    },
    {
      "cell_type": "markdown",
      "source": [
        "Tujuan dari Data Mining pada Dataset ini adalah untuk mencari perbedaan waktu Durasi Matahari terbit yang terdapat di antara kota-kota di dunia dan apa saja faktor-faktor yang mempengaruhi atau menjadi penyebab dari perbedaan Durasi Matahari Terbit pada kota-kota di Dunia. Serta Bagaimana hal tersebut dapat mempengaruhi bagaimana kehidupan penduduk kota tersebut"
      ],
      "metadata": {
        "id": "Y0A3BATCsW8a"
      }
    },
    {
      "cell_type": "markdown",
      "source": [
        "##Project Plan"
      ],
      "metadata": {
        "id": "li90iceDhL4v"
      }
    },
    {
      "cell_type": "markdown",
      "source": [
        "Rencana Proyek untuk melakukan analisis pada dataset ini akan dimulai dengan melakukan pengumpulan data-data yang tersedia. Lalu mengidentifikasi pola-pola dan masalah untuk diatasi yang terdapat pada data. Selanjutnya, Data akan dianalisis secara lebih lanjut untuk menarik kesimpulan dan Insight dari Data-Data yang telah dianalisis."
      ],
      "metadata": {
        "id": "G8zYlgIwhPtW"
      }
    }
  ]
}